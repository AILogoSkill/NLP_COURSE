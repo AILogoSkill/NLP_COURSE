{
 "cells": [
  {
   "cell_type": "markdown",
   "id": "868ed588",
   "metadata": {
    "papermill": {
     "duration": 0.006515,
     "end_time": "2024-02-11T19:15:00.198566",
     "exception": false,
     "start_time": "2024-02-11T19:15:00.192051",
     "status": "completed"
    },
    "tags": []
   },
   "source": [
    "### SENTIMENT ANALYSIS OF IMDB MOVIE REVIEWS"
   ]
  },
  {
   "cell_type": "code",
   "execution_count": 1,
   "id": "46dae544",
   "metadata": {
    "_cell_guid": "b1076dfc-b9ad-4769-8c92-a6c4dae69d19",
    "_uuid": "8f2839f25d086af736a60e9eeb907d3b93b6e0e5",
    "execution": {
     "iopub.execute_input": "2024-02-11T19:15:00.213666Z",
     "iopub.status.busy": "2024-02-11T19:15:00.212692Z",
     "iopub.status.idle": "2024-02-11T19:15:03.228482Z",
     "shell.execute_reply": "2024-02-11T19:15:03.226871Z"
    },
    "papermill": {
     "duration": 3.027277,
     "end_time": "2024-02-11T19:15:03.232101",
     "exception": false,
     "start_time": "2024-02-11T19:15:00.204824",
     "status": "completed"
    },
    "tags": []
   },
   "outputs": [
    {
     "data": {
      "text/html": [
       "<div>\n",
       "<style scoped>\n",
       "    .dataframe tbody tr th:only-of-type {\n",
       "        vertical-align: middle;\n",
       "    }\n",
       "\n",
       "    .dataframe tbody tr th {\n",
       "        vertical-align: top;\n",
       "    }\n",
       "\n",
       "    .dataframe thead th {\n",
       "        text-align: right;\n",
       "    }\n",
       "</style>\n",
       "<table border=\"1\" class=\"dataframe\">\n",
       "  <thead>\n",
       "    <tr style=\"text-align: right;\">\n",
       "      <th></th>\n",
       "      <th>review</th>\n",
       "      <th>sentiment</th>\n",
       "    </tr>\n",
       "  </thead>\n",
       "  <tbody>\n",
       "    <tr>\n",
       "      <th>0</th>\n",
       "      <td>One of the other reviewers has mentioned that ...</td>\n",
       "      <td>positive</td>\n",
       "    </tr>\n",
       "    <tr>\n",
       "      <th>1</th>\n",
       "      <td>A wonderful little production. &lt;br /&gt;&lt;br /&gt;The...</td>\n",
       "      <td>positive</td>\n",
       "    </tr>\n",
       "    <tr>\n",
       "      <th>2</th>\n",
       "      <td>I thought this was a wonderful way to spend ti...</td>\n",
       "      <td>positive</td>\n",
       "    </tr>\n",
       "    <tr>\n",
       "      <th>3</th>\n",
       "      <td>Basically there's a family where a little boy ...</td>\n",
       "      <td>negative</td>\n",
       "    </tr>\n",
       "    <tr>\n",
       "      <th>4</th>\n",
       "      <td>Petter Mattei's \"Love in the Time of Money\" is...</td>\n",
       "      <td>positive</td>\n",
       "    </tr>\n",
       "    <tr>\n",
       "      <th>...</th>\n",
       "      <td>...</td>\n",
       "      <td>...</td>\n",
       "    </tr>\n",
       "    <tr>\n",
       "      <th>49995</th>\n",
       "      <td>I thought this movie did a down right good job...</td>\n",
       "      <td>positive</td>\n",
       "    </tr>\n",
       "    <tr>\n",
       "      <th>49996</th>\n",
       "      <td>Bad plot, bad dialogue, bad acting, idiotic di...</td>\n",
       "      <td>negative</td>\n",
       "    </tr>\n",
       "    <tr>\n",
       "      <th>49997</th>\n",
       "      <td>I am a Catholic taught in parochial elementary...</td>\n",
       "      <td>negative</td>\n",
       "    </tr>\n",
       "    <tr>\n",
       "      <th>49998</th>\n",
       "      <td>I'm going to have to disagree with the previou...</td>\n",
       "      <td>negative</td>\n",
       "    </tr>\n",
       "    <tr>\n",
       "      <th>49999</th>\n",
       "      <td>No one expects the Star Trek movies to be high...</td>\n",
       "      <td>negative</td>\n",
       "    </tr>\n",
       "  </tbody>\n",
       "</table>\n",
       "<p>50000 rows × 2 columns</p>\n",
       "</div>"
      ],
      "text/plain": [
       "                                                  review sentiment\n",
       "0      One of the other reviewers has mentioned that ...  positive\n",
       "1      A wonderful little production. <br /><br />The...  positive\n",
       "2      I thought this was a wonderful way to spend ti...  positive\n",
       "3      Basically there's a family where a little boy ...  negative\n",
       "4      Petter Mattei's \"Love in the Time of Money\" is...  positive\n",
       "...                                                  ...       ...\n",
       "49995  I thought this movie did a down right good job...  positive\n",
       "49996  Bad plot, bad dialogue, bad acting, idiotic di...  negative\n",
       "49997  I am a Catholic taught in parochial elementary...  negative\n",
       "49998  I'm going to have to disagree with the previou...  negative\n",
       "49999  No one expects the Star Trek movies to be high...  negative\n",
       "\n",
       "[50000 rows x 2 columns]"
      ]
     },
     "execution_count": 1,
     "metadata": {},
     "output_type": "execute_result"
    }
   ],
   "source": [
    "import pandas as pd\n",
    "import numpy as np\n",
    "\n",
    "data = pd.read_csv(\"/kaggle/input/imdb-dataset-of-50k-movie-reviews/IMDB Dataset.csv\")\n",
    "data"
   ]
  },
  {
   "cell_type": "markdown",
   "id": "d08b946d",
   "metadata": {
    "papermill": {
     "duration": 0.006329,
     "end_time": "2024-02-11T19:15:03.244845",
     "exception": false,
     "start_time": "2024-02-11T19:15:03.238516",
     "status": "completed"
    },
    "tags": []
   },
   "source": [
    "### DATASET INFORMATION"
   ]
  },
  {
   "cell_type": "code",
   "execution_count": null,
   "id": "3f8bf7d4",
   "metadata": {
    "papermill": {
     "duration": 0.00664,
     "end_time": "2024-02-11T19:15:03.258453",
     "exception": false,
     "start_time": "2024-02-11T19:15:03.251813",
     "status": "completed"
    },
    "tags": []
   },
   "outputs": [],
   "source": []
  },
  {
   "cell_type": "code",
   "execution_count": 2,
   "id": "27cd2969",
   "metadata": {
    "execution": {
     "iopub.execute_input": "2024-02-11T19:15:03.274194Z",
     "iopub.status.busy": "2024-02-11T19:15:03.273696Z",
     "iopub.status.idle": "2024-02-11T19:15:03.320255Z",
     "shell.execute_reply": "2024-02-11T19:15:03.318774Z"
    },
    "papermill": {
     "duration": 0.058566,
     "end_time": "2024-02-11T19:15:03.323985",
     "exception": false,
     "start_time": "2024-02-11T19:15:03.265419",
     "status": "completed"
    },
    "tags": []
   },
   "outputs": [
    {
     "name": "stdout",
     "output_type": "stream",
     "text": [
      "<class 'pandas.core.frame.DataFrame'>\n",
      "RangeIndex: 50000 entries, 0 to 49999\n",
      "Data columns (total 2 columns):\n",
      " #   Column     Non-Null Count  Dtype \n",
      "---  ------     --------------  ----- \n",
      " 0   review     50000 non-null  object\n",
      " 1   sentiment  50000 non-null  object\n",
      "dtypes: object(2)\n",
      "memory usage: 781.4+ KB\n"
     ]
    }
   ],
   "source": [
    "data.info()"
   ]
  },
  {
   "cell_type": "code",
   "execution_count": 3,
   "id": "8dc91eaf",
   "metadata": {
    "execution": {
     "iopub.execute_input": "2024-02-11T19:15:03.340397Z",
     "iopub.status.busy": "2024-02-11T19:15:03.339200Z",
     "iopub.status.idle": "2024-02-11T19:15:03.511558Z",
     "shell.execute_reply": "2024-02-11T19:15:03.509917Z"
    },
    "papermill": {
     "duration": 0.184613,
     "end_time": "2024-02-11T19:15:03.515327",
     "exception": false,
     "start_time": "2024-02-11T19:15:03.330714",
     "status": "completed"
    },
    "tags": []
   },
   "outputs": [
    {
     "data": {
      "text/html": [
       "<div>\n",
       "<style scoped>\n",
       "    .dataframe tbody tr th:only-of-type {\n",
       "        vertical-align: middle;\n",
       "    }\n",
       "\n",
       "    .dataframe tbody tr th {\n",
       "        vertical-align: top;\n",
       "    }\n",
       "\n",
       "    .dataframe thead th {\n",
       "        text-align: right;\n",
       "    }\n",
       "</style>\n",
       "<table border=\"1\" class=\"dataframe\">\n",
       "  <thead>\n",
       "    <tr style=\"text-align: right;\">\n",
       "      <th></th>\n",
       "      <th>review</th>\n",
       "      <th>sentiment</th>\n",
       "    </tr>\n",
       "  </thead>\n",
       "  <tbody>\n",
       "    <tr>\n",
       "      <th>count</th>\n",
       "      <td>50000</td>\n",
       "      <td>50000</td>\n",
       "    </tr>\n",
       "    <tr>\n",
       "      <th>unique</th>\n",
       "      <td>49582</td>\n",
       "      <td>2</td>\n",
       "    </tr>\n",
       "    <tr>\n",
       "      <th>top</th>\n",
       "      <td>Loved today's show!!! It was a variety and not...</td>\n",
       "      <td>positive</td>\n",
       "    </tr>\n",
       "    <tr>\n",
       "      <th>freq</th>\n",
       "      <td>5</td>\n",
       "      <td>25000</td>\n",
       "    </tr>\n",
       "  </tbody>\n",
       "</table>\n",
       "</div>"
      ],
      "text/plain": [
       "                                                   review sentiment\n",
       "count                                               50000     50000\n",
       "unique                                              49582         2\n",
       "top     Loved today's show!!! It was a variety and not...  positive\n",
       "freq                                                    5     25000"
      ]
     },
     "execution_count": 3,
     "metadata": {},
     "output_type": "execute_result"
    }
   ],
   "source": [
    "data.describe()"
   ]
  },
  {
   "cell_type": "code",
   "execution_count": 4,
   "id": "be741067",
   "metadata": {
    "execution": {
     "iopub.execute_input": "2024-02-11T19:15:03.533410Z",
     "iopub.status.busy": "2024-02-11T19:15:03.532419Z",
     "iopub.status.idle": "2024-02-11T19:15:03.543247Z",
     "shell.execute_reply": "2024-02-11T19:15:03.541231Z"
    },
    "papermill": {
     "duration": 0.023754,
     "end_time": "2024-02-11T19:15:03.547103",
     "exception": false,
     "start_time": "2024-02-11T19:15:03.523349",
     "status": "completed"
    },
    "tags": []
   },
   "outputs": [
    {
     "data": {
      "text/plain": [
       "(50000, 2)"
      ]
     },
     "execution_count": 4,
     "metadata": {},
     "output_type": "execute_result"
    }
   ],
   "source": [
    "data.shape"
   ]
  },
  {
   "cell_type": "markdown",
   "id": "83920164",
   "metadata": {
    "papermill": {
     "duration": 0.01035,
     "end_time": "2024-02-11T19:15:03.568256",
     "exception": false,
     "start_time": "2024-02-11T19:15:03.557906",
     "status": "completed"
    },
    "tags": []
   },
   "source": [
    "### TEXT CLEANING:ROUND 1"
   ]
  },
  {
   "cell_type": "code",
   "execution_count": 5,
   "id": "2d2b8e50",
   "metadata": {
    "execution": {
     "iopub.execute_input": "2024-02-11T19:15:03.588046Z",
     "iopub.status.busy": "2024-02-11T19:15:03.587110Z",
     "iopub.status.idle": "2024-02-11T19:15:06.517230Z",
     "shell.execute_reply": "2024-02-11T19:15:06.515710Z"
    },
    "papermill": {
     "duration": 2.943278,
     "end_time": "2024-02-11T19:15:06.520932",
     "exception": false,
     "start_time": "2024-02-11T19:15:03.577654",
     "status": "completed"
    },
    "tags": []
   },
   "outputs": [],
   "source": [
    "import re\n",
    "# Clean the Text\n",
    "def clean_text(text):\n",
    "    # Remove HTML tags\n",
    "    text = re.sub(r'<.*?>', '', text)\n",
    "    # Remove special characters and punctuation\n",
    "    text = re.sub(r'[^a-zA-Z\\s]', '', text)\n",
    "    return text\n",
    "\n",
    "data['cleaned_text'] = data['review'].apply(clean_text)\n"
   ]
  },
  {
   "cell_type": "markdown",
   "id": "8139020f",
   "metadata": {
    "papermill": {
     "duration": 0.006523,
     "end_time": "2024-02-11T19:15:06.534286",
     "exception": false,
     "start_time": "2024-02-11T19:15:06.527763",
     "status": "completed"
    },
    "tags": []
   },
   "source": [
    "### TOKENIZATION,LOWERCASING AND STOPWORD REMOVAL"
   ]
  },
  {
   "cell_type": "code",
   "execution_count": 6,
   "id": "e3d35ece",
   "metadata": {
    "execution": {
     "iopub.execute_input": "2024-02-11T19:15:06.550526Z",
     "iopub.status.busy": "2024-02-11T19:15:06.549965Z",
     "iopub.status.idle": "2024-02-11T19:16:57.449021Z",
     "shell.execute_reply": "2024-02-11T19:16:57.447521Z"
    },
    "papermill": {
     "duration": 110.912206,
     "end_time": "2024-02-11T19:16:57.453178",
     "exception": false,
     "start_time": "2024-02-11T19:15:06.540972",
     "status": "completed"
    },
    "tags": []
   },
   "outputs": [],
   "source": [
    "from nltk.tokenize import word_tokenize\n",
    "from nltk.corpus import stopwords\n",
    "\n",
    "# Tokenization\n",
    "data['tokens'] = data['cleaned_text'].apply(word_tokenize)\n",
    "\n",
    "# Lowercasing\n",
    "data['tokens'] = data['tokens'].apply(lambda tokens: [token.lower() for token in tokens])\n",
    "\n",
    "# Removing Stopwords\n",
    "stop_words = set(stopwords.words('english'))\n",
    "data['tokens'] = data['tokens'].apply(lambda tokens: [token for token in tokens if token not in stop_words])"
   ]
  },
  {
   "cell_type": "markdown",
   "id": "ba4e1dd4",
   "metadata": {
    "papermill": {
     "duration": 0.006331,
     "end_time": "2024-02-11T19:16:57.466715",
     "exception": false,
     "start_time": "2024-02-11T19:16:57.460384",
     "status": "completed"
    },
    "tags": []
   },
   "source": [
    "### TRAINING A LOGISTIC REGRESSION MODEL"
   ]
  },
  {
   "cell_type": "code",
   "execution_count": 7,
   "id": "4810229a",
   "metadata": {
    "execution": {
     "iopub.execute_input": "2024-02-11T19:16:57.482960Z",
     "iopub.status.busy": "2024-02-11T19:16:57.482446Z",
     "iopub.status.idle": "2024-02-11T19:17:16.348746Z",
     "shell.execute_reply": "2024-02-11T19:17:16.347356Z"
    },
    "papermill": {
     "duration": 18.87785,
     "end_time": "2024-02-11T19:17:16.351730",
     "exception": false,
     "start_time": "2024-02-11T19:16:57.473880",
     "status": "completed"
    },
    "tags": []
   },
   "outputs": [
    {
     "data": {
      "text/html": [
       "<style>#sk-container-id-1 {color: black;background-color: white;}#sk-container-id-1 pre{padding: 0;}#sk-container-id-1 div.sk-toggleable {background-color: white;}#sk-container-id-1 label.sk-toggleable__label {cursor: pointer;display: block;width: 100%;margin-bottom: 0;padding: 0.3em;box-sizing: border-box;text-align: center;}#sk-container-id-1 label.sk-toggleable__label-arrow:before {content: \"▸\";float: left;margin-right: 0.25em;color: #696969;}#sk-container-id-1 label.sk-toggleable__label-arrow:hover:before {color: black;}#sk-container-id-1 div.sk-estimator:hover label.sk-toggleable__label-arrow:before {color: black;}#sk-container-id-1 div.sk-toggleable__content {max-height: 0;max-width: 0;overflow: hidden;text-align: left;background-color: #f0f8ff;}#sk-container-id-1 div.sk-toggleable__content pre {margin: 0.2em;color: black;border-radius: 0.25em;background-color: #f0f8ff;}#sk-container-id-1 input.sk-toggleable__control:checked~div.sk-toggleable__content {max-height: 200px;max-width: 100%;overflow: auto;}#sk-container-id-1 input.sk-toggleable__control:checked~label.sk-toggleable__label-arrow:before {content: \"▾\";}#sk-container-id-1 div.sk-estimator input.sk-toggleable__control:checked~label.sk-toggleable__label {background-color: #d4ebff;}#sk-container-id-1 div.sk-label input.sk-toggleable__control:checked~label.sk-toggleable__label {background-color: #d4ebff;}#sk-container-id-1 input.sk-hidden--visually {border: 0;clip: rect(1px 1px 1px 1px);clip: rect(1px, 1px, 1px, 1px);height: 1px;margin: -1px;overflow: hidden;padding: 0;position: absolute;width: 1px;}#sk-container-id-1 div.sk-estimator {font-family: monospace;background-color: #f0f8ff;border: 1px dotted black;border-radius: 0.25em;box-sizing: border-box;margin-bottom: 0.5em;}#sk-container-id-1 div.sk-estimator:hover {background-color: #d4ebff;}#sk-container-id-1 div.sk-parallel-item::after {content: \"\";width: 100%;border-bottom: 1px solid gray;flex-grow: 1;}#sk-container-id-1 div.sk-label:hover label.sk-toggleable__label {background-color: #d4ebff;}#sk-container-id-1 div.sk-serial::before {content: \"\";position: absolute;border-left: 1px solid gray;box-sizing: border-box;top: 0;bottom: 0;left: 50%;z-index: 0;}#sk-container-id-1 div.sk-serial {display: flex;flex-direction: column;align-items: center;background-color: white;padding-right: 0.2em;padding-left: 0.2em;position: relative;}#sk-container-id-1 div.sk-item {position: relative;z-index: 1;}#sk-container-id-1 div.sk-parallel {display: flex;align-items: stretch;justify-content: center;background-color: white;position: relative;}#sk-container-id-1 div.sk-item::before, #sk-container-id-1 div.sk-parallel-item::before {content: \"\";position: absolute;border-left: 1px solid gray;box-sizing: border-box;top: 0;bottom: 0;left: 50%;z-index: -1;}#sk-container-id-1 div.sk-parallel-item {display: flex;flex-direction: column;z-index: 1;position: relative;background-color: white;}#sk-container-id-1 div.sk-parallel-item:first-child::after {align-self: flex-end;width: 50%;}#sk-container-id-1 div.sk-parallel-item:last-child::after {align-self: flex-start;width: 50%;}#sk-container-id-1 div.sk-parallel-item:only-child::after {width: 0;}#sk-container-id-1 div.sk-dashed-wrapped {border: 1px dashed gray;margin: 0 0.4em 0.5em 0.4em;box-sizing: border-box;padding-bottom: 0.4em;background-color: white;}#sk-container-id-1 div.sk-label label {font-family: monospace;font-weight: bold;display: inline-block;line-height: 1.2em;}#sk-container-id-1 div.sk-label-container {text-align: center;}#sk-container-id-1 div.sk-container {/* jupyter's `normalize.less` sets `[hidden] { display: none; }` but bootstrap.min.css set `[hidden] { display: none !important; }` so we also need the `!important` here to be able to override the default hidden behavior on the sphinx rendered scikit-learn.org. See: https://github.com/scikit-learn/scikit-learn/issues/21755 */display: inline-block !important;position: relative;}#sk-container-id-1 div.sk-text-repr-fallback {display: none;}</style><div id=\"sk-container-id-1\" class=\"sk-top-container\"><div class=\"sk-text-repr-fallback\"><pre>LogisticRegression(max_iter=1000)</pre><b>In a Jupyter environment, please rerun this cell to show the HTML representation or trust the notebook. <br />On GitHub, the HTML representation is unable to render, please try loading this page with nbviewer.org.</b></div><div class=\"sk-container\" hidden><div class=\"sk-item\"><div class=\"sk-estimator sk-toggleable\"><input class=\"sk-toggleable__control sk-hidden--visually\" id=\"sk-estimator-id-1\" type=\"checkbox\" checked><label for=\"sk-estimator-id-1\" class=\"sk-toggleable__label sk-toggleable__label-arrow\">LogisticRegression</label><div class=\"sk-toggleable__content\"><pre>LogisticRegression(max_iter=1000)</pre></div></div></div></div></div>"
      ],
      "text/plain": [
       "LogisticRegression(max_iter=1000)"
      ]
     },
     "execution_count": 7,
     "metadata": {},
     "output_type": "execute_result"
    }
   ],
   "source": [
    "from sklearn.model_selection import train_test_split\n",
    "from sklearn.feature_extraction.text import TfidfVectorizer\n",
    "from sklearn.linear_model import LogisticRegression\n",
    "from sklearn.metrics import accuracy_score, classification_report\n",
    "\n",
    "# Feature Extraction using TF-IDF\n",
    "tfidf_vectorizer = TfidfVectorizer(max_features=5000)  # Limit to 5000 features\n",
    "X = tfidf_vectorizer.fit_transform(data['review'])\n",
    "y = data['sentiment']\n",
    "\n",
    "# Split Data\n",
    "X_train, X_test, y_train, y_test = train_test_split(X, y, test_size=0.2, random_state=42)\n",
    "\n",
    "# Choose Algorithm (Logistic Regression)\n",
    "classifier = LogisticRegression(max_iter=1000)\n",
    "\n",
    "# Train Model\n",
    "classifier.fit(X_train, y_train)"
   ]
  },
  {
   "cell_type": "markdown",
   "id": "d0d34ecb",
   "metadata": {
    "papermill": {
     "duration": 0.008107,
     "end_time": "2024-02-11T19:17:16.366898",
     "exception": false,
     "start_time": "2024-02-11T19:17:16.358791",
     "status": "completed"
    },
    "tags": []
   },
   "source": [
    "### MODEL EVALUATION PARAMETERS"
   ]
  },
  {
   "cell_type": "code",
   "execution_count": 8,
   "id": "7e7f93ff",
   "metadata": {
    "execution": {
     "iopub.execute_input": "2024-02-11T19:17:16.383824Z",
     "iopub.status.busy": "2024-02-11T19:17:16.383348Z",
     "iopub.status.idle": "2024-02-11T19:17:17.096740Z",
     "shell.execute_reply": "2024-02-11T19:17:17.095020Z"
    },
    "papermill": {
     "duration": 0.726333,
     "end_time": "2024-02-11T19:17:17.100113",
     "exception": false,
     "start_time": "2024-02-11T19:17:16.373780",
     "status": "completed"
    },
    "tags": []
   },
   "outputs": [
    {
     "name": "stdout",
     "output_type": "stream",
     "text": [
      "Accuracy: 0.8949\n",
      "Classification Report:\n",
      "              precision    recall  f1-score   support\n",
      "\n",
      "    negative       0.90      0.88      0.89      4961\n",
      "    positive       0.89      0.91      0.90      5039\n",
      "\n",
      "    accuracy                           0.89     10000\n",
      "   macro avg       0.90      0.89      0.89     10000\n",
      "weighted avg       0.90      0.89      0.89     10000\n",
      "\n"
     ]
    }
   ],
   "source": [
    "y_pred = classifier.predict(X_test)\n",
    "accuracy = accuracy_score(y_test, y_pred)\n",
    "print(\"Accuracy:\", accuracy)\n",
    "print(\"Classification Report:\")\n",
    "print(classification_report(y_test, y_pred))"
   ]
  },
  {
   "cell_type": "markdown",
   "id": "12be3503",
   "metadata": {
    "papermill": {
     "duration": 0.006972,
     "end_time": "2024-02-11T19:17:17.114606",
     "exception": false,
     "start_time": "2024-02-11T19:17:17.107634",
     "status": "completed"
    },
    "tags": []
   },
   "source": [
    "### VISUALISATION"
   ]
  }
 ],
 "metadata": {
  "kaggle": {
   "accelerator": "none",
   "dataSources": [
    {
     "datasetId": 134715,
     "sourceId": 320111,
     "sourceType": "datasetVersion"
    }
   ],
   "dockerImageVersionId": 30646,
   "isGpuEnabled": false,
   "isInternetEnabled": true,
   "language": "python",
   "sourceType": "notebook"
  },
  "kernelspec": {
   "display_name": "Python 3",
   "language": "python",
   "name": "python3"
  },
  "language_info": {
   "codemirror_mode": {
    "name": "ipython",
    "version": 3
   },
   "file_extension": ".py",
   "mimetype": "text/x-python",
   "name": "python",
   "nbconvert_exporter": "python",
   "pygments_lexer": "ipython3",
   "version": "3.10.13"
  },
  "papermill": {
   "default_parameters": {},
   "duration": 142.589689,
   "end_time": "2024-02-11T19:17:18.753046",
   "environment_variables": {},
   "exception": null,
   "input_path": "__notebook__.ipynb",
   "output_path": "__notebook__.ipynb",
   "parameters": {},
   "start_time": "2024-02-11T19:14:56.163357",
   "version": "2.5.0"
  }
 },
 "nbformat": 4,
 "nbformat_minor": 5
}
