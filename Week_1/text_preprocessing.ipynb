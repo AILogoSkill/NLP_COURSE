{
  "cells": [
    {
      "cell_type": "markdown",
      "metadata": {
        "id": "qJToNZny8wiJ"
      },
      "source": [
        "<h1><center>Предобработка текста</center></h1>"
      ]
    },
    {
      "cell_type": "markdown",
      "metadata": {
        "id": "XIV26DDa8wiK"
      },
      "source": [
        "## Основные техники\n",
        "* Уровень символов:\n",
        "    * Токенизация: разбиение текста на слова\n",
        "    * Разбиение текста на предложения\n",
        "* Уровень слов – морфология:\n",
        "    * Разметка частей речи\n",
        "    * Снятие морфологической неоднозначности\n",
        "    * Нормализация (стемминг или лемматизация)\n",
        "* Уровень предложений – синтаксис:\n",
        "    * Выделенние именных или глагольных групп\n",
        "    * Выделенние семантических ролей\n",
        "    * Деревья составляющих и зависимостей\n",
        "* Уровень смысла – семантика и дискурс:\n",
        "    * Разрешение кореферентных связей\n",
        "    * Выделение синонимов\n",
        "    * Анализ аргументативных связей"
      ]
    },
    {
      "cell_type": "markdown",
      "metadata": {
        "id": "_mTIZxh28wiL"
      },
      "source": [
        "## Основные проблемы\n",
        "* Неоднозначность\n",
        "    * Лексическая неоднозначность: *орган, парить, рожки, атлас*\n",
        "    * Морфологическая неоднозначность: *Хранение денег в банке. Что делают белки в клетке?*\n",
        "    * Синтаксическая неоднозначность: *Мужу изменять нельзя. Его удивил простой солдат. Эти типы стали есть в цехе.*\n",
        "* Неологизмы: *печеньки, заинстаграммить, репостнуть, расшарить, биткоины*\n",
        "* Разные варианты написания: *Россия, Российская Федерация, РФ*\n",
        "* Нестандартное написание (в т.ч. орфографические ошибки и опечатки): *каг дила? куптиь телфон*"
      ]
    },
    {
      "cell_type": "markdown",
      "metadata": {
        "id": "VRVUO5KfbxaB"
      },
      "source": [
        "<img src=\"images/pipeline.png\" alt=\"pipeline.png\" style=\"width: 400px;\"/>\n"
      ]
    },
    {
      "cell_type": "markdown",
      "metadata": {
        "id": "rrMWEuaj8wiM"
      },
      "source": [
        "### NLP-библиотеки\n",
        "\n",
        "NLP-библиотеки для питона:\n",
        "* Natural Language Toolkit (NLTK)\n",
        "* Apache OpenNLP\n",
        "* Stanford NLP suite\n",
        "* Gate NLP library\n",
        "* Spacy\n",
        "* Yargy\n",
        "* DeepPavlov\n",
        "* CLTK (для древних языков)\n",
        "* и т.д.\n",
        "\n",
        "Самая старая и известная — NLTK. В NLTK есть не только различные инструменты для обработки текста, но и данные — текстовые корпуса, предобученные модели для анализа тональности и морфологической разметки, списки стоп-слов для разных языков и т.п.\n",
        "\n",
        "* [Учебник по NLTK](https://www.nltk.org/book/) от авторов библиотеки и [тьюториалы](https://github.com/hb20007/hands-on-nltk-tutorial) по решению разных задач NLP с помощью NLTK.\n",
        "* [Документация Spacy](https://spacy.io/)\n",
        "* [Документация Yargy](https://yargy.readthedocs.io/)\n",
        "* [Документация DeepPavlop](http://docs.deeppavlov.ai/)"
      ]
    },
    {
      "cell_type": "markdown",
      "metadata": {
        "id": "gJIhRR2V8wiN"
      },
      "source": [
        "## Предобработка текста\n",
        "\n",
        "1. **Токенизация** — самый первый шаг при обработке текста.\n",
        "2. **Нормализация** — приведение к одному регистру, удаляются пунктуации, исправление опечаток и т.д.\n",
        "3.\n",
        "    * **Стемминг** —  выделение псевдоосновы слова.\n",
        "    * **Лемматизация** — приведение слов к словарной (\"начальной\") форме.\n",
        "4. **Удаление стоп-слов** — слов, которые не несут никакой смысловой нагрузки (предлоги, союзы и т.п.) Список зависит от задачи!\n",
        "\n",
        "**Важно!** Не всегда нужны все этапы, все зависит от задачи!"
      ]
    },
    {
      "cell_type": "markdown",
      "metadata": {
        "id": "1uZhZrWq8wiN"
      },
      "source": [
        "## Токенизация\n",
        "\n",
        "#### Сколько слов в этом предложении?\n",
        "\n",
        "*На дворе трава, на траве дрова, не руби дрова на траве двора.*\n",
        "\n",
        "* 12 токенов: На, дворе, трава, на, траве, дрова, не, руби, дрова, на, траве, двора\n",
        "* 8 - 9 словоформ: Н/на, дворе, трава, траве, дрова, не, руби, двора.\n",
        "* 6  лексем: на, не, двор, трава, дрова, рубить\n",
        "\n",
        "\n",
        "### Токен и словоформа\n",
        "\n",
        "**Словоформа**  – уникальное слово из текста\n",
        "\n",
        "**Токен**  – словоформа и её позиция в тексте\n",
        "\n",
        "Объем корпуса измеряется в токенах, объем словаря — в словоформах или лексемах.\n",
        "\n",
        "### Обозначения\n",
        "$N$ = число токенов\n",
        "\n",
        "$V$ = словарь (все словоформы)\n",
        "\n",
        "$|V|$ = количество словоформ в словаре"
      ]
    },
    {
      "cell_type": "markdown",
      "metadata": {
        "id": "8I2LG_Bn8wiO"
      },
      "source": [
        "### Токен ≠ слово\n",
        "\n",
        "__Рассмотрим пример:__\n",
        "\n",
        "    Продаётся LADA 4x4. ПТС 01.12.2018, куплена 20 января 19 года, 10 000 км пробега. Комплектация полная. Новая в салоне 750 000, отдам за 650 000. Возможен обмен на ВАЗ-2110 или ВАЗ 2109 с вашей доплатой.\n",
        "\n",
        "    * Модификация: 1.6 MT (89 л.с.)\n",
        "    * Владельцев по ПТС: 4+\n",
        "    * VIN или номер кузова: XTA21104*50****47\n",
        "    * Мультимедиа и навигация: CD/DVD/Blu-ray\n",
        "    * Шины и диски: 14\"\n",
        "\n",
        "    Краснодар, ул. Миклухо-Маклая, д. 4/5, подъезд 1\n",
        "\n",
        "    Тел. 8(999)1234567, 8 903 987-65-43, +7 (351) 111 22 33\n",
        "    \n",
        "    e-mail: ivanov.ivan-61@mail.ru\n",
        "    \n",
        "    И.И. Иванов (Иван Иванович)"
      ]
    },
    {
      "cell_type": "code",
      "execution_count": 1,
      "metadata": {
        "id": "4tMvWqXi8wiO",
        "outputId": "6c7e110b-90f5-43b4-ff73-c13df00eed64",
        "colab": {
          "base_uri": "https://localhost:8080/"
        }
      },
      "outputs": [
        {
          "output_type": "stream",
          "name": "stdout",
          "text": [
            "['Продаётся', 'LADA', '4x4.', 'ПТС', '01.12.2018,', 'куплена', '20', 'января', '19', 'года,', '10', '000', 'км', 'пробега.', 'Комплектация', 'полная.', 'Новая', 'в', 'салоне', '750', '000,', 'отдам', 'за', '650', '000.', 'Возможен', 'обмен', 'на', 'ВАЗ-2110', 'или', 'ВАЗ', '2109', 'с', 'вашей', 'доплатой.', 'Краснодар,', 'ул.', 'Миклухо-Маклая,', 'д.', '4/5,', 'подьезд', '1', 'Тел.', '8(999)1234567,', '8', '903', '987-65-43,', '+7', '(351)', '111', '22', '33', 'И.И.', 'Иванов', '(Иван', 'Иванович)']\n"
          ]
        },
        {
          "output_type": "execute_result",
          "data": {
            "text/plain": [
              "56"
            ]
          },
          "metadata": {},
          "execution_count": 1
        }
      ],
      "source": [
        "# самая банальная токенизация: разбиение по пробелам\n",
        "\n",
        "text = '''\n",
        "Продаётся LADA 4x4. ПТС 01.12.2018, куплена 20 января 19 года, 10 000 км пробега.\n",
        "Комплектация полная. Новая в салоне 750 000, отдам за 650 000.\n",
        "Возможен обмен на ВАЗ-2110 или ВАЗ 2109 с вашей доплатой.\n",
        "Краснодар, ул. Миклухо-Маклая, д. 4/5, подьезд 1\n",
        "Тел. 8(999)1234567, 8 903 987-65-43, +7 (351) 111 22 33\n",
        "И.И. Иванов (Иван Иванович)\n",
        "'''\n",
        "\n",
        "tokens = text.split()\n",
        "print(tokens)\n",
        "len(tokens)"
      ]
    },
    {
      "cell_type": "code",
      "source": [
        "!pip install natasha==0.10.0"
      ],
      "metadata": {
        "colab": {
          "base_uri": "https://localhost:8080/"
        },
        "id": "d28_6OhVHtE8",
        "outputId": "3b9738e5-d271-45ce-9c53-f130fcb109b0"
      },
      "execution_count": null,
      "outputs": [
        {
          "output_type": "stream",
          "name": "stdout",
          "text": [
            "Collecting natasha==0.10.0\n",
            "  Downloading natasha-0.10.0-py2.py3-none-any.whl (777 kB)\n",
            "\u001b[2K     \u001b[90m━━━━━━━━━━━━━━━━━━━━━━━━━━━━━━━━━━━━━━━━\u001b[0m \u001b[32m777.9/777.9 kB\u001b[0m \u001b[31m5.4 MB/s\u001b[0m eta \u001b[36m0:00:00\u001b[0m\n",
            "\u001b[?25hRequirement already satisfied: yargy in /usr/local/lib/python3.10/dist-packages (from natasha==0.10.0) (0.11.0)\n",
            "Requirement already satisfied: pymorphy2==0.8 in /usr/local/lib/python3.10/dist-packages (from yargy->natasha==0.10.0) (0.8)\n",
            "Requirement already satisfied: backports.functools-lru-cache==1.3 in /usr/local/lib/python3.10/dist-packages (from yargy->natasha==0.10.0) (1.3)\n",
            "Requirement already satisfied: intervaltree==2.1.0 in /usr/local/lib/python3.10/dist-packages (from yargy->natasha==0.10.0) (2.1.0)\n",
            "Requirement already satisfied: sortedcontainers in /usr/local/lib/python3.10/dist-packages (from intervaltree==2.1.0->yargy->natasha==0.10.0) (2.4.0)\n",
            "Requirement already satisfied: dawg-python>=0.7 in /usr/local/lib/python3.10/dist-packages (from pymorphy2==0.8->yargy->natasha==0.10.0) (0.7.2)\n",
            "Requirement already satisfied: pymorphy2-dicts<3.0,>=2.4 in /usr/local/lib/python3.10/dist-packages (from pymorphy2==0.8->yargy->natasha==0.10.0) (2.4.393442.3710985)\n",
            "Requirement already satisfied: docopt>=0.6 in /usr/local/lib/python3.10/dist-packages (from pymorphy2==0.8->yargy->natasha==0.10.0) (0.6.2)\n",
            "Installing collected packages: natasha\n",
            "Successfully installed natasha-0.10.0\n"
          ]
        }
      ]
    },
    {
      "cell_type": "code",
      "source": [
        "!pip install yargy==0.11.0"
      ],
      "metadata": {
        "id": "leSYKJz_Hxwd",
        "colab": {
          "base_uri": "https://localhost:8080/"
        },
        "outputId": "73040a62-24cd-46f3-a393-0f532c8edb8a"
      },
      "execution_count": null,
      "outputs": [
        {
          "output_type": "stream",
          "name": "stdout",
          "text": [
            "Collecting yargy==0.11.0\n",
            "  Downloading yargy-0.11.0-py3-none-any.whl (41 kB)\n",
            "\u001b[2K     \u001b[90m━━━━━━━━━━━━━━━━━━━━━━━━━━━━━━━━━━━━━━━━\u001b[0m \u001b[32m41.1/41.1 kB\u001b[0m \u001b[31m425.6 kB/s\u001b[0m eta \u001b[36m0:00:00\u001b[0m\n",
            "\u001b[?25hCollecting pymorphy2==0.8 (from yargy==0.11.0)\n",
            "  Downloading pymorphy2-0.8-py2.py3-none-any.whl (46 kB)\n",
            "\u001b[2K     \u001b[90m━━━━━━━━━━━━━━━━━━━━━━━━━━━━━━━━━━━━━━━━\u001b[0m \u001b[32m46.1/46.1 kB\u001b[0m \u001b[31m5.6 MB/s\u001b[0m eta \u001b[36m0:00:00\u001b[0m\n",
            "\u001b[?25hCollecting backports.functools-lru-cache==1.3 (from yargy==0.11.0)\n",
            "  Downloading backports.functools_lru_cache-1.3-py2.py3-none-any.whl (6.2 kB)\n",
            "Collecting intervaltree==2.1.0 (from yargy==0.11.0)\n",
            "  Downloading intervaltree-2.1.0.tar.gz (38 kB)\n",
            "  Preparing metadata (setup.py) ... \u001b[?25l\u001b[?25hdone\n",
            "Requirement already satisfied: sortedcontainers in /usr/local/lib/python3.10/dist-packages (from intervaltree==2.1.0->yargy==0.11.0) (2.4.0)\n",
            "Collecting dawg-python>=0.7 (from pymorphy2==0.8->yargy==0.11.0)\n",
            "  Downloading DAWG_Python-0.7.2-py2.py3-none-any.whl (11 kB)\n",
            "Collecting pymorphy2-dicts<3.0,>=2.4 (from pymorphy2==0.8->yargy==0.11.0)\n",
            "  Downloading pymorphy2_dicts-2.4.393442.3710985-py2.py3-none-any.whl (7.1 MB)\n",
            "\u001b[2K     \u001b[90m━━━━━━━━━━━━━━━━━━━━━━━━━━━━━━━━━━━━━━━━\u001b[0m \u001b[32m7.1/7.1 MB\u001b[0m \u001b[31m13.6 MB/s\u001b[0m eta \u001b[36m0:00:00\u001b[0m\n",
            "\u001b[?25hCollecting docopt>=0.6 (from pymorphy2==0.8->yargy==0.11.0)\n",
            "  Downloading docopt-0.6.2.tar.gz (25 kB)\n",
            "  Preparing metadata (setup.py) ... \u001b[?25l\u001b[?25hdone\n",
            "Building wheels for collected packages: intervaltree, docopt\n",
            "  Building wheel for intervaltree (setup.py) ... \u001b[?25l\u001b[?25hdone\n",
            "  Created wheel for intervaltree: filename=intervaltree-2.1.0-py3-none-any.whl size=27610 sha256=dcc2afe85b4dba5f65b440785efa4963f83a2c591f92d7151205b2da4838868b\n",
            "  Stored in directory: /root/.cache/pip/wheels/c1/64/b8/6051d41519f01013d5e1d091de65c1e8fc1b418c5a6aa27782\n",
            "  Building wheel for docopt (setup.py) ... \u001b[?25l\u001b[?25hdone\n",
            "  Created wheel for docopt: filename=docopt-0.6.2-py2.py3-none-any.whl size=13706 sha256=743c69a5b9785080872742b335593a618ca605bac355600052a702ee9fe79b4f\n",
            "  Stored in directory: /root/.cache/pip/wheels/fc/ab/d4/5da2067ac95b36618c629a5f93f809425700506f72c9732fac\n",
            "Successfully built intervaltree docopt\n",
            "Installing collected packages: pymorphy2-dicts, docopt, dawg-python, backports.functools-lru-cache, pymorphy2, intervaltree, yargy\n",
            "Successfully installed backports.functools-lru-cache-1.3 dawg-python-0.7.2 docopt-0.6.2 intervaltree-2.1.0 pymorphy2-0.8 pymorphy2-dicts-2.4.393442.3710985 yargy-0.11.0\n"
          ]
        }
      ]
    },
    {
      "cell_type": "code",
      "execution_count": null,
      "metadata": {
        "id": "5s60aVHo8wiU"
      },
      "outputs": [],
      "source": [
        "#!pip install --user yargy"
      ]
    },
    {
      "cell_type": "code",
      "execution_count": null,
      "metadata": {
        "id": "pTXhiLHv8wiW",
        "outputId": "71b19810-1fe5-4bb6-903d-d3b88a04a986",
        "colab": {
          "base_uri": "https://localhost:8080/",
          "height": 390
        }
      },
      "outputs": [
        {
          "output_type": "error",
          "ename": "AttributeError",
          "evalue": "ignored",
          "traceback": [
            "\u001b[0;31m---------------------------------------------------------------------------\u001b[0m",
            "\u001b[0;31mAttributeError\u001b[0m                            Traceback (most recent call last)",
            "\u001b[0;32m<ipython-input-5-5ab3a9a31bba>\u001b[0m in \u001b[0;36m<cell line: 2>\u001b[0;34m()\u001b[0m\n\u001b[1;32m      1\u001b[0m \u001b[0;31m# максимально разбивает\u001b[0m\u001b[0;34m\u001b[0m\u001b[0;34m\u001b[0m\u001b[0m\n\u001b[0;32m----> 2\u001b[0;31m \u001b[0;32mfrom\u001b[0m \u001b[0myargy\u001b[0m\u001b[0;34m.\u001b[0m\u001b[0mtokenizer\u001b[0m \u001b[0;32mimport\u001b[0m \u001b[0mMorphTokenizer\u001b[0m\u001b[0;34m\u001b[0m\u001b[0;34m\u001b[0m\u001b[0m\n\u001b[0m\u001b[1;32m      3\u001b[0m \u001b[0;34m\u001b[0m\u001b[0m\n\u001b[1;32m      4\u001b[0m \u001b[0mtknzr\u001b[0m \u001b[0;34m=\u001b[0m \u001b[0mMorphTokenizer\u001b[0m\u001b[0;34m(\u001b[0m\u001b[0;34m)\u001b[0m\u001b[0;34m\u001b[0m\u001b[0;34m\u001b[0m\u001b[0m\n\u001b[1;32m      5\u001b[0m \u001b[0mtokens\u001b[0m \u001b[0;34m=\u001b[0m \u001b[0;34m[\u001b[0m\u001b[0m_\u001b[0m\u001b[0;34m.\u001b[0m\u001b[0mvalue\u001b[0m \u001b[0;32mfor\u001b[0m \u001b[0m_\u001b[0m \u001b[0;32min\u001b[0m \u001b[0mtknzr\u001b[0m\u001b[0;34m(\u001b[0m\u001b[0mtext\u001b[0m\u001b[0;34m)\u001b[0m\u001b[0;34m]\u001b[0m\u001b[0;34m\u001b[0m\u001b[0;34m\u001b[0m\u001b[0m\n",
            "\u001b[0;32m/usr/local/lib/python3.10/dist-packages/yargy/__init__.py\u001b[0m in \u001b[0;36m<module>\u001b[0;34m\u001b[0m\n\u001b[1;32m      1\u001b[0m \u001b[0;34m\u001b[0m\u001b[0m\n\u001b[1;32m      2\u001b[0m \u001b[0;34m\u001b[0m\u001b[0m\n\u001b[0;32m----> 3\u001b[0;31m \u001b[0;32mfrom\u001b[0m \u001b[0;34m.\u001b[0m\u001b[0mparser\u001b[0m \u001b[0;32mimport\u001b[0m \u001b[0mParser\u001b[0m\u001b[0;34m\u001b[0m\u001b[0;34m\u001b[0m\u001b[0m\n\u001b[0m\u001b[1;32m      4\u001b[0m \u001b[0;32mfrom\u001b[0m \u001b[0;34m.\u001b[0m\u001b[0mapi\u001b[0m \u001b[0;32mimport\u001b[0m \u001b[0;34m*\u001b[0m\u001b[0;34m\u001b[0m\u001b[0;34m\u001b[0m\u001b[0m\n\u001b[1;32m      5\u001b[0m \u001b[0;34m\u001b[0m\u001b[0m\n",
            "\u001b[0;32m/usr/local/lib/python3.10/dist-packages/yargy/parser.py\u001b[0m in \u001b[0;36m<module>\u001b[0;34m\u001b[0m\n\u001b[1;32m      4\u001b[0m \u001b[0;32mfrom\u001b[0m \u001b[0mcollections\u001b[0m \u001b[0;32mimport\u001b[0m \u001b[0mdefaultdict\u001b[0m\u001b[0;34m\u001b[0m\u001b[0;34m\u001b[0m\u001b[0m\n\u001b[1;32m      5\u001b[0m \u001b[0;34m\u001b[0m\u001b[0m\n\u001b[0;32m----> 6\u001b[0;31m \u001b[0;32mfrom\u001b[0m \u001b[0mintervaltree\u001b[0m \u001b[0;32mimport\u001b[0m \u001b[0mIntervalTree\u001b[0m\u001b[0;34m\u001b[0m\u001b[0;34m\u001b[0m\u001b[0m\n\u001b[0m\u001b[1;32m      7\u001b[0m \u001b[0;34m\u001b[0m\u001b[0m\n\u001b[1;32m      8\u001b[0m \u001b[0;32mfrom\u001b[0m \u001b[0myargy\u001b[0m\u001b[0;34m.\u001b[0m\u001b[0mcompat\u001b[0m \u001b[0;32mimport\u001b[0m \u001b[0mstr\u001b[0m\u001b[0;34m\u001b[0m\u001b[0;34m\u001b[0m\u001b[0m\n",
            "\u001b[0;32m/usr/local/lib/python3.10/dist-packages/intervaltree/__init__.py\u001b[0m in \u001b[0;36m<module>\u001b[0;34m\u001b[0m\n\u001b[1;32m     20\u001b[0m \"\"\"\n\u001b[1;32m     21\u001b[0m \u001b[0;32mfrom\u001b[0m \u001b[0;34m.\u001b[0m\u001b[0minterval\u001b[0m \u001b[0;32mimport\u001b[0m \u001b[0mInterval\u001b[0m\u001b[0;34m\u001b[0m\u001b[0;34m\u001b[0m\u001b[0m\n\u001b[0;32m---> 22\u001b[0;31m \u001b[0;32mfrom\u001b[0m \u001b[0;34m.\u001b[0m\u001b[0mintervaltree\u001b[0m \u001b[0;32mimport\u001b[0m \u001b[0mIntervalTree\u001b[0m\u001b[0;34m\u001b[0m\u001b[0;34m\u001b[0m\u001b[0m\n\u001b[0m",
            "\u001b[0;32m/usr/local/lib/python3.10/dist-packages/intervaltree/intervaltree.py\u001b[0m in \u001b[0;36m<module>\u001b[0;34m\u001b[0m\n\u001b[1;32m     35\u001b[0m \u001b[0;34m\u001b[0m\u001b[0m\n\u001b[1;32m     36\u001b[0m \u001b[0;31m# noinspection PyBroadException\u001b[0m\u001b[0;34m\u001b[0m\u001b[0;34m\u001b[0m\u001b[0m\n\u001b[0;32m---> 37\u001b[0;31m \u001b[0;32mclass\u001b[0m \u001b[0mIntervalTree\u001b[0m\u001b[0;34m(\u001b[0m\u001b[0mcollections\u001b[0m\u001b[0;34m.\u001b[0m\u001b[0mMutableSet\u001b[0m\u001b[0;34m)\u001b[0m\u001b[0;34m:\u001b[0m\u001b[0;34m\u001b[0m\u001b[0;34m\u001b[0m\u001b[0m\n\u001b[0m\u001b[1;32m     38\u001b[0m     \"\"\"\n\u001b[1;32m     39\u001b[0m     \u001b[0mA\u001b[0m \u001b[0mbinary\u001b[0m \u001b[0mlookup\u001b[0m \u001b[0mtree\u001b[0m \u001b[0mof\u001b[0m \u001b[0mintervals\u001b[0m\u001b[0;34m.\u001b[0m\u001b[0;34m\u001b[0m\u001b[0;34m\u001b[0m\u001b[0m\n",
            "\u001b[0;31mAttributeError\u001b[0m: module 'collections' has no attribute 'MutableSet'"
          ]
        }
      ],
      "source": [
        "# максимально разбивает\n",
        "from yargy.tokenizer import MorphTokenizer\n",
        "\n",
        "tknzr = MorphTokenizer()\n",
        "tokens = [_.value for _ in tknzr(text)]\n",
        "print(tokens)\n",
        "len(tokens)"
      ]
    },
    {
      "cell_type": "code",
      "execution_count": 2,
      "metadata": {
        "id": "4ACxgq8B8wib",
        "outputId": "32a43411-16c5-49e8-bf0e-2e226a831bd4",
        "colab": {
          "base_uri": "https://localhost:8080/"
        }
      },
      "outputs": [
        {
          "output_type": "stream",
          "name": "stderr",
          "text": [
            "[nltk_data] Downloading package stopwords to /root/nltk_data...\n",
            "[nltk_data]   Unzipping corpora/stopwords.zip.\n",
            "[nltk_data] Downloading package punkt to /root/nltk_data...\n",
            "[nltk_data]   Unzipping tokenizers/punkt.zip.\n",
            "[nltk_data] Downloading package snowball_data to /root/nltk_data...\n",
            "[nltk_data] Downloading package perluniprops to /root/nltk_data...\n",
            "[nltk_data]   Unzipping misc/perluniprops.zip.\n",
            "[nltk_data] Downloading package universal_tagset to /root/nltk_data...\n",
            "[nltk_data]   Unzipping taggers/universal_tagset.zip.\n",
            "[nltk_data] Downloading package stopwords to /root/nltk_data...\n",
            "[nltk_data]   Package stopwords is already up-to-date!\n",
            "[nltk_data] Downloading package nonbreaking_prefixes to\n",
            "[nltk_data]     /root/nltk_data...\n",
            "[nltk_data]   Unzipping corpora/nonbreaking_prefixes.zip.\n",
            "[nltk_data] Downloading package wordnet to /root/nltk_data...\n"
          ]
        },
        {
          "output_type": "execute_result",
          "data": {
            "text/plain": [
              "True"
            ]
          },
          "metadata": {},
          "execution_count": 2
        }
      ],
      "source": [
        "import nltk\n",
        "nltk.download('stopwords')\n",
        "nltk.download('punkt')\n",
        "nltk.download('snowball_data')\n",
        "nltk.download('perluniprops')\n",
        "nltk.download('universal_tagset')\n",
        "nltk.download('stopwords')\n",
        "nltk.download('nonbreaking_prefixes')\n",
        "nltk.download('wordnet')"
      ]
    },
    {
      "cell_type": "code",
      "execution_count": 3,
      "metadata": {
        "id": "nIEMbLSA8wig",
        "outputId": "a5109be4-4859-4268-cb78-7c0ddf0b5348",
        "colab": {
          "base_uri": "https://localhost:8080/"
        }
      },
      "outputs": [
        {
          "output_type": "stream",
          "name": "stdout",
          "text": [
            "['Продаётся', 'LADA', '4x4', '.', 'ПТС', '01.12.2018', ',', 'куплена', '20', 'января', '19', 'года', ',', '10', '000', 'км', 'пробега', '.', 'Комплектация', 'полная', '.', 'Новая', 'в', 'салоне', '750', '000', ',', 'отдам', 'за', '650', '000', '.', 'Возможен', 'обмен', 'на', 'ВАЗ-2110', 'или', 'ВАЗ', '2109', 'с', 'вашей', 'доплатой', '.', 'Краснодар', ',', 'ул', '.', 'Миклухо-Маклая', ',', 'д', '.', '4/5', ',', 'подьезд', '1', 'Тел', '.', '8', '(', '999', ')', '1234567', ',', '8', '903', '987-65-43', ',', '+7', '(', '351', ')', '111', '22', '33', 'И.И', '.', 'Иванов', '(', 'Иван', 'Иванович', ')']\n"
          ]
        },
        {
          "output_type": "execute_result",
          "data": {
            "text/plain": [
              "81"
            ]
          },
          "metadata": {},
          "execution_count": 3
        }
      ],
      "source": [
        "from nltk.tokenize import word_tokenize, ToktokTokenizer\n",
        "\n",
        "tokens = word_tokenize(text)\n",
        "print(tokens)\n",
        "len(tokens)"
      ]
    },
    {
      "cell_type": "code",
      "execution_count": 4,
      "metadata": {
        "id": "GxaK7tB_8wii",
        "outputId": "4c07fe3d-ff7e-4cf6-d1c9-bbf784b279a7",
        "colab": {
          "base_uri": "https://localhost:8080/"
        }
      },
      "outputs": [
        {
          "output_type": "stream",
          "name": "stdout",
          "text": [
            "['Продаётся', 'LADA', '4x4.', 'ПТС', '01.12.2018', ',', 'куплена', '20', 'января', '19', 'года', ',', '10', '000', 'км', 'пробега.', 'Комплектация', 'полная.', 'Новая', 'в', 'салоне', '750', '000', ',', 'отдам', 'за', '650', '000.', 'Возможен', 'обмен', 'на', 'ВАЗ-2110', 'или', 'ВАЗ', '2109', 'с', 'вашей', 'доплатой.', 'Краснодар', ',', 'ул.', 'Миклухо-Маклая', ',', 'д.', '4/5', ',', 'подьезд', '1', 'Тел.', '8(', '999', ')', '1234567', ',', '8', '903', '987-65-43', ',', '+7', '(', '351', ')', '111', '22', '33', 'И.И.', 'Иванов', '(', 'Иван', 'Иванович', ')']\n"
          ]
        },
        {
          "output_type": "execute_result",
          "data": {
            "text/plain": [
              "71"
            ]
          },
          "metadata": {},
          "execution_count": 4
        }
      ],
      "source": [
        "tknzr = ToktokTokenizer()\n",
        "tokens = tknzr.tokenize(text)\n",
        "print(tokens)\n",
        "len(tokens)"
      ]
    },
    {
      "cell_type": "code",
      "execution_count": 5,
      "metadata": {
        "id": "Ghlw0kpe8wil",
        "outputId": "7751fb52-6462-45db-af89-1809934239a7",
        "colab": {
          "base_uri": "https://localhost:8080/"
        }
      },
      "outputs": [
        {
          "output_type": "execute_result",
          "data": {
            "text/plain": [
              "['@remy',\n",
              " 'This',\n",
              " 'is',\n",
              " 'a',\n",
              " 'cooool',\n",
              " '#dummysmiley',\n",
              " ':',\n",
              " ':-)',\n",
              " ':-P',\n",
              " '<3',\n",
              " 'and',\n",
              " 'some',\n",
              " 'arrows',\n",
              " '<',\n",
              " '>',\n",
              " '->',\n",
              " '<--']"
            ]
          },
          "metadata": {},
          "execution_count": 5
        }
      ],
      "source": [
        "# специальный токенизатор для твитов\n",
        "from nltk.tokenize import TweetTokenizer\n",
        "\n",
        "tknzr = TweetTokenizer()\n",
        "tweet = \"@remy This is a cooool #dummysmiley: :-) :-P <3 and some arrows < > -> <--\"\n",
        "tknzr.tokenize(tweet)"
      ]
    },
    {
      "cell_type": "code",
      "execution_count": 6,
      "metadata": {
        "id": "I5CcKw7s8win",
        "outputId": "cda37390-782e-40a8-ca4b-b989907fb39c",
        "colab": {
          "base_uri": "https://localhost:8080/"
        }
      },
      "outputs": [
        {
          "output_type": "execute_result",
          "data": {
            "text/plain": [
              "['Good',\n",
              " 'muffins',\n",
              " 'cost',\n",
              " '$3.88',\n",
              " 'in',\n",
              " 'New',\n",
              " 'York',\n",
              " '.',\n",
              " 'Please',\n",
              " 'buy',\n",
              " 'me',\n",
              " 'two',\n",
              " 'of',\n",
              " 'them',\n",
              " '.',\n",
              " 'Thanks',\n",
              " '.']"
            ]
          },
          "metadata": {},
          "execution_count": 6
        }
      ],
      "source": [
        "# токенизатор на регулярных выражениях\n",
        "from nltk.tokenize import RegexpTokenizer\n",
        "\n",
        "s = \"Good muffins cost $3.88 in New York.  Please buy me two of them. \\n\\nThanks.\"\n",
        "tknzr = RegexpTokenizer('\\w+|\\$[\\d\\.]+|\\S+')\n",
        "tknzr.tokenize(s)"
      ]
    },
    {
      "cell_type": "markdown",
      "metadata": {
        "id": "A5FKqaxu8wiq"
      },
      "source": [
        "В nltk вообще есть довольно много токенизаторов:"
      ]
    },
    {
      "cell_type": "code",
      "execution_count": 7,
      "metadata": {
        "id": "jlYxv5xy8wir",
        "outputId": "ec018fdc-079b-42ca-d9a6-53d94aaf6c26",
        "colab": {
          "base_uri": "https://localhost:8080/"
        }
      },
      "outputs": [
        {
          "output_type": "execute_result",
          "data": {
            "text/plain": [
              "['BlanklineTokenizer',\n",
              " 'LegalitySyllableTokenizer',\n",
              " 'LineTokenizer',\n",
              " 'MWETokenizer',\n",
              " 'NLTKWordTokenizer',\n",
              " 'PunktSentenceTokenizer',\n",
              " 'RegexpTokenizer',\n",
              " 'ReppTokenizer',\n",
              " 'SExprTokenizer',\n",
              " 'SpaceTokenizer',\n",
              " 'StanfordSegmenter',\n",
              " 'SyllableTokenizer',\n",
              " 'TabTokenizer',\n",
              " 'TextTilingTokenizer',\n",
              " 'ToktokTokenizer',\n",
              " 'TreebankWordDetokenizer']"
            ]
          },
          "metadata": {},
          "execution_count": 7
        }
      ],
      "source": [
        "from nltk import tokenize\n",
        "dir(tokenize)[:16]"
      ]
    },
    {
      "cell_type": "markdown",
      "metadata": {
        "id": "NZ_3LRZ-8wiw"
      },
      "source": [
        "Они умеют выдавать индексы начала и конца каждого токена:"
      ]
    },
    {
      "cell_type": "code",
      "execution_count": 8,
      "metadata": {
        "id": "S-Xsd5tN8wix",
        "outputId": "52dc4492-125d-43d9-dd5a-3066045ec95f",
        "colab": {
          "base_uri": "https://localhost:8080/"
        }
      },
      "outputs": [
        {
          "output_type": "execute_result",
          "data": {
            "text/plain": [
              "[(0, 5), (6, 10), (11, 13)]"
            ]
          },
          "metadata": {},
          "execution_count": 8
        }
      ],
      "source": [
        "wh_tok = tokenize.WhitespaceTokenizer()\n",
        "list(wh_tok.span_tokenize(\"don't stop me\"))"
      ]
    },
    {
      "cell_type": "markdown",
      "metadata": {
        "id": "6VxmL3st8wiz"
      },
      "source": [
        "Некторые токенизаторы ведут себя специфично:"
      ]
    },
    {
      "cell_type": "code",
      "execution_count": 9,
      "metadata": {
        "id": "DbbJHhuT8wi0",
        "outputId": "5753ddc0-c8c6-4519-a9e1-f62423bbe535",
        "colab": {
          "base_uri": "https://localhost:8080/"
        }
      },
      "outputs": [
        {
          "output_type": "execute_result",
          "data": {
            "text/plain": [
              "['do', \"n't\", 'stop', 'me']"
            ]
          },
          "metadata": {},
          "execution_count": 9
        }
      ],
      "source": [
        "tokenize.TreebankWordTokenizer().tokenize(\"don't stop me\")"
      ]
    },
    {
      "cell_type": "markdown",
      "metadata": {
        "id": "X0qzdWqY8wi2"
      },
      "source": [
        "## Сегментация предложений\n",
        "\n",
        "Сегментацию предложений иногда называют **сплиттингом**.\n",
        "\n",
        "Основные признаки — знаки препинания. \"?\", \"!\" как правило однозначны, проблемы возникают с \".\"  Возможное решение: бинарный классификатор для сегментации предложений. Для каждой точки \".\" определить, является ли она концом предложения или нет.\n"
      ]
    },
    {
      "cell_type": "code",
      "execution_count": 10,
      "metadata": {
        "id": "RX2VhQT78wi2",
        "outputId": "eb31f2f9-e658-4e43-e248-3be1e699028c",
        "colab": {
          "base_uri": "https://localhost:8080/"
        }
      },
      "outputs": [
        {
          "output_type": "stream",
          "name": "stdout",
          "text": [
            "10\n"
          ]
        },
        {
          "output_type": "execute_result",
          "data": {
            "text/plain": [
              "['\\nПродаётся LADA 4x4.',\n",
              " 'ПТС 01.12.2018, куплена 20 января 19 года, 10 000 км пробега.',\n",
              " 'Комплектация полная.',\n",
              " 'Новая в салоне 750 000, отдам за 650 000.',\n",
              " 'Возможен обмен на ВАЗ-2110 или ВАЗ 2109 с вашей доплатой.',\n",
              " 'Краснодар, ул.',\n",
              " 'Миклухо-Маклая, д.',\n",
              " '4/5, подьезд 1\\nТел.',\n",
              " '8(999)1234567, 8 903 987-65-43, +7 (351) 111 22 33\\nИ.И.',\n",
              " 'Иванов (Иван Иванович)']"
            ]
          },
          "metadata": {},
          "execution_count": 10
        }
      ],
      "source": [
        "from nltk.tokenize import sent_tokenize\n",
        "\n",
        "sents = sent_tokenize(text)\n",
        "print(len(sents))\n",
        "sents"
      ]
    },
    {
      "cell_type": "code",
      "source": [
        "\n",
        "!pip install rusenttokenize # установить библиотеку rusenttokenize\n",
        "\n",
        "from IPython.display import clear_output\n",
        "clear_output() # удалить вывод ячейки\n",
        "\n",
        "from rusenttokenize import ru_sent_tokenize"
      ],
      "metadata": {
        "id": "6b9Q-vRaZhdC"
      },
      "execution_count": 11,
      "outputs": []
    },
    {
      "cell_type": "code",
      "execution_count": 12,
      "metadata": {
        "id": "ZARTC-iN8wi7",
        "outputId": "1b3e8b01-acb4-452b-bd3f-a2b94ec9ef68",
        "colab": {
          "base_uri": "https://localhost:8080/"
        }
      },
      "outputs": [
        {
          "output_type": "stream",
          "name": "stdout",
          "text": [
            "6\n"
          ]
        },
        {
          "output_type": "execute_result",
          "data": {
            "text/plain": [
              "['Продаётся LADA 4x4.',\n",
              " 'ПТС 01.12.2018, куплена 20 января 19 года, 10 000 км пробега.',\n",
              " 'Комплектация полная.',\n",
              " 'Новая в салоне 750 000, отдам за 650 000.',\n",
              " 'Возможен обмен на ВАЗ-2110 или ВАЗ 2109 с вашей доплатой.',\n",
              " 'Краснодар, ул. Миклухо-Маклая, д. 4/5, подьезд 1\\nТел. 8(999)1234567, 8 903 987-65-43, +7 (351) 111 22 33\\nИ.И. Иванов (Иван Иванович)']"
            ]
          },
          "metadata": {},
          "execution_count": 12
        }
      ],
      "source": [
        "\n",
        "sents = ru_sent_tokenize(text)\n",
        "\n",
        "print(len(sents))\n",
        "sents"
      ]
    },
    {
      "cell_type": "markdown",
      "metadata": {
        "id": "ixKIivkm8wi-"
      },
      "source": [
        "## Нормализация\n",
        "\n",
        "### Удаление пунктуации"
      ]
    },
    {
      "cell_type": "code",
      "execution_count": 13,
      "metadata": {
        "id": "h6E8o9W_8wi_",
        "outputId": "cfc3e946-3e6c-4fb2-cf13-c91a4d8b00c5",
        "colab": {
          "base_uri": "https://localhost:8080/"
        }
      },
      "outputs": [
        {
          "output_type": "stream",
          "name": "stdout",
          "text": [
            "['Продаётся', 'LADA', '4x4.', 'ПТС', '01.12.2018,', 'куплена', '20', 'января', '19', 'года,', '10', '000', 'км', 'пробега.', 'Комплектация', 'полная.', 'Новая', 'в', 'салоне', '750', '000,', 'отдам', 'за', '650', '000.', 'Возможен', 'обмен', 'на', 'ВАЗ-2110', 'или', 'ВАЗ', '2109', 'с', 'вашей', 'доплатой.', 'Краснодар,', 'ул.', 'Миклухо-Маклая,', 'д.', '4/5,', 'подьезд', '1', 'Тел.', '8(999)1234567,', '8', '903', '987-65-43,', '+7', '(351)', '111', '22', '33', 'И.И.', 'Иванов', '(Иван', 'Иванович)']\n",
            "['Продаётся', 'LADA', '4x4', '', 'ПТС', '01.12.2018', '', 'куплена', '20', 'января', '19', 'года', '', '10', '000', 'км', 'пробега', '', 'Комплектация', 'полная', '', 'Новая', 'в', 'салоне', '750', '000', '', 'отдам', 'за', '650', '000', '', 'Возможен', 'обмен', 'на', 'ВАЗ-2110', 'или', 'ВАЗ', '2109', 'с', 'вашей', 'доплатой', '', 'Краснодар', '', 'ул', '', 'Миклухо-Маклая', '', 'д', '', '4/5', '', 'подьезд', '1', 'Тел', '', '8', '', '999', '', '1234567', '', '8', '903', '987-65-43', '', '7', '', '351', '', '111', '22', '33', 'И.И', '', 'Иванов', '', 'Иван', 'Иванович', '']\n"
          ]
        },
        {
          "output_type": "execute_result",
          "data": {
            "text/plain": [
              "False"
            ]
          },
          "metadata": {},
          "execution_count": 13
        }
      ],
      "source": [
        "# Способ №1\n",
        "import re\n",
        "\n",
        "# набор пунктуационных символов зависит от задачи и текста\n",
        "punct = '!\"#$%&()*\\+,-\\./:;<=>?@\\[\\]^_`{|}~„“«»†*\\—/\\-‘’'\n",
        "clean_text = re.sub(punct, r'', text)\n",
        "print(clean_text.split())\n",
        "\n",
        "# Способ №2\n",
        "clean_words = [w.strip(punct) for w in word_tokenize(text)]\n",
        "print(clean_words)\n",
        "\n",
        "clean_words == clean_text"
      ]
    },
    {
      "cell_type": "markdown",
      "metadata": {
        "id": "rSSeJddy8wjC"
      },
      "source": [
        "### Преобразование регистра"
      ]
    },
    {
      "cell_type": "code",
      "execution_count": 14,
      "metadata": {
        "id": "4fyovObi8wjD",
        "outputId": "be88f43c-5acb-4001-8c51-12b42994b714",
        "colab": {
          "base_uri": "https://localhost:8080/"
        }
      },
      "outputs": [
        {
          "output_type": "stream",
          "name": "stdout",
          "text": [
            "['продаётся', 'lada', '4x4', 'птс', '01.12.2018', 'куплена', '20', 'января', '19', 'года', '10', '000', 'км', 'пробега', 'комплектация', 'полная', 'новая', 'в', 'салоне', '750', '000', 'отдам', 'за', '650', '000', 'возможен', 'обмен', 'на', 'ваз-2110', 'или', 'ваз', '2109', 'с', 'вашей', 'доплатой', 'краснодар', 'ул', 'миклухо-маклая', 'д', '4/5', 'подьезд', '1', 'тел', '8', '999', '1234567', '8', '903', '987-65-43', '7', '351', '111', '22', '33', 'и.и', 'иванов', 'иван', 'иванович']\n"
          ]
        }
      ],
      "source": [
        "clean_words = [w.lower() for w in clean_words if w != '']\n",
        "print(clean_words)"
      ]
    },
    {
      "cell_type": "markdown",
      "metadata": {
        "id": "LKNDrwDQ8wjH"
      },
      "source": [
        "### Стоп-слова\n",
        "\n",
        "**Стоп-слова** — высокочастотные слова, которые не дают нам никакой информации о конкретном тексте. Они составляют верхушку частотного списка в любом языке. Набор стоп-слов не универсален, он будет зависеть от вашей задачи!\n",
        "\n",
        "В NLTK есть готовые списки стоп-слов для многих языков."
      ]
    },
    {
      "cell_type": "code",
      "execution_count": 15,
      "metadata": {
        "id": "42F9WthB8wjI",
        "outputId": "b217556a-b328-433f-f2c3-4983b6875e80",
        "colab": {
          "base_uri": "https://localhost:8080/"
        }
      },
      "outputs": [
        {
          "output_type": "execute_result",
          "data": {
            "text/plain": [
              "['arabic',\n",
              " 'azerbaijani',\n",
              " 'basque',\n",
              " 'bengali',\n",
              " 'catalan',\n",
              " 'chinese',\n",
              " 'danish',\n",
              " 'dutch',\n",
              " 'english',\n",
              " 'finnish',\n",
              " 'french',\n",
              " 'german',\n",
              " 'greek',\n",
              " 'hebrew',\n",
              " 'hinglish',\n",
              " 'hungarian',\n",
              " 'indonesian',\n",
              " 'italian',\n",
              " 'kazakh',\n",
              " 'nepali',\n",
              " 'norwegian',\n",
              " 'portuguese',\n",
              " 'romanian',\n",
              " 'russian',\n",
              " 'slovene',\n",
              " 'spanish',\n",
              " 'swedish',\n",
              " 'tajik',\n",
              " 'turkish']"
            ]
          },
          "metadata": {},
          "execution_count": 15
        }
      ],
      "source": [
        "from nltk.corpus import stopwords\n",
        "\n",
        "# смотрим, какие языки есть\n",
        "stopwords.fileids()"
      ]
    },
    {
      "cell_type": "code",
      "execution_count": 16,
      "metadata": {
        "id": "N-GBMG498wjK",
        "outputId": "93df1ac4-4bc4-47e3-b986-affb5eabc4d2",
        "colab": {
          "base_uri": "https://localhost:8080/"
        }
      },
      "outputs": [
        {
          "output_type": "stream",
          "name": "stdout",
          "text": [
            "['и', 'в', 'во', 'не', 'что', 'он', 'на', 'я', 'с', 'со', 'как', 'а', 'то', 'все', 'она', 'так', 'его', 'но', 'да', 'ты', 'к', 'у', 'же', 'вы', 'за', 'бы', 'по', 'только', 'ее', 'мне', 'было', 'вот', 'от', 'меня', 'еще', 'нет', 'о', 'из', 'ему', 'теперь', 'когда', 'даже', 'ну', 'вдруг', 'ли', 'если', 'уже', 'или', 'ни', 'быть', 'был', 'него', 'до', 'вас', 'нибудь', 'опять', 'уж', 'вам', 'ведь', 'там', 'потом', 'себя', 'ничего', 'ей', 'может', 'они', 'тут', 'где', 'есть', 'надо', 'ней', 'для', 'мы', 'тебя', 'их', 'чем', 'была', 'сам', 'чтоб', 'без', 'будто', 'чего', 'раз', 'тоже', 'себе', 'под', 'будет', 'ж', 'тогда', 'кто', 'этот', 'того', 'потому', 'этого', 'какой', 'совсем', 'ним', 'здесь', 'этом', 'один', 'почти', 'мой', 'тем', 'чтобы', 'нее', 'сейчас', 'были', 'куда', 'зачем', 'всех', 'никогда', 'можно', 'при', 'наконец', 'два', 'об', 'другой', 'хоть', 'после', 'над', 'больше', 'тот', 'через', 'эти', 'нас', 'про', 'всего', 'них', 'какая', 'много', 'разве', 'три', 'эту', 'моя', 'впрочем', 'хорошо', 'свою', 'этой', 'перед', 'иногда', 'лучше', 'чуть', 'том', 'нельзя', 'такой', 'им', 'более', 'всегда', 'конечно', 'всю', 'между']\n"
          ]
        }
      ],
      "source": [
        "sw = stopwords.words('russian')\n",
        "print(sw)"
      ]
    },
    {
      "cell_type": "code",
      "execution_count": 17,
      "metadata": {
        "id": "PY6slf1G8wjM",
        "outputId": "e7fbe703-9309-4ad8-816c-9c71e526cbf2",
        "colab": {
          "base_uri": "https://localhost:8080/"
        }
      },
      "outputs": [
        {
          "output_type": "stream",
          "name": "stdout",
          "text": [
            "в\n",
            "за\n",
            "на\n",
            "или\n",
            "с\n",
            "['продаётся', 'lada', '4x4', 'птс', '01.12.2018', 'куплена', '20', 'января', '19', 'года', '10', '000', 'км', 'пробега', 'комплектация', 'полная', 'новая', None, 'салоне', '750', '000', 'отдам', None, '650', '000', 'возможен', 'обмен', None, 'ваз-2110', None, 'ваз', '2109', None, 'вашей', 'доплатой', 'краснодар', 'ул', 'миклухо-маклая', 'д', '4/5', 'подьезд', '1', 'тел', '8', '999', '1234567', '8', '903', '987-65-43', '7', '351', '111', '22', '33', 'и.и', 'иванов', 'иван', 'иванович']\n"
          ]
        }
      ],
      "source": [
        "print([w if w not in sw else print(w) for w in clean_words])"
      ]
    },
    {
      "cell_type": "markdown",
      "metadata": {
        "id": "JiMMLtZp8wjN"
      },
      "source": [
        "## Стемминг\n",
        "\n",
        "**Стемминг** — отсечение от слова окончаний и суффиксов, чтобы оставшаяся часть, называемая stem, была одинаковой для всех грамматических форм слова. Стем необязательно совпадает с морфлогической основой слова. Одинаковый стем может получиться и не у однокоренных слов и наоборот — в этом проблема стемминга.\n",
        "\n",
        "* 1-ый вид ошибки: белый, белка, белье $\\implies$  бел\n",
        "\n",
        "* 2-ой вид ошибки: трудность, трудный $\\implies$  трудност, труд\n",
        "\n",
        "* 3-ий вид ошибки: быстрый, быстрее $\\implies$  быст, побыстрее $\\implies$  побыст\n",
        "\n",
        "Самый простой алгоритм, алгоритм Портера, состоит из 5 циклов команд, на каждом цикле – операция удаления / замены суффикса. Возможны вероятностные расширения алгоритма.\n",
        "\n",
        "### Snowball stemmer\n",
        "Улучшенный вариант стеммера Портера; в отличие от него умеет работать не только с английским текстом."
      ]
    },
    {
      "cell_type": "code",
      "execution_count": 18,
      "metadata": {
        "id": "F7ni6c5T8wjO",
        "outputId": "eecff0fa-3f04-47af-ae0f-fa0b6a6a27db",
        "colab": {
          "base_uri": "https://localhost:8080/"
        }
      },
      "outputs": [
        {
          "output_type": "execute_result",
          "data": {
            "text/plain": [
              "('arabic',\n",
              " 'danish',\n",
              " 'dutch',\n",
              " 'english',\n",
              " 'finnish',\n",
              " 'french',\n",
              " 'german',\n",
              " 'hungarian',\n",
              " 'italian',\n",
              " 'norwegian',\n",
              " 'porter',\n",
              " 'portuguese',\n",
              " 'romanian',\n",
              " 'russian',\n",
              " 'spanish',\n",
              " 'swedish')"
            ]
          },
          "metadata": {},
          "execution_count": 18
        }
      ],
      "source": [
        "from nltk.stem.snowball import SnowballStemmer\n",
        "\n",
        "SnowballStemmer.languages"
      ]
    },
    {
      "cell_type": "code",
      "execution_count": 19,
      "metadata": {
        "id": "BbnbMdNm8wjQ"
      },
      "outputs": [],
      "source": [
        "poem = '''\n",
        "По морям, играя, носится\n",
        "с миноносцем миноносица.\n",
        "Льнет, как будто к меду осочка,\n",
        "к миноносцу миноносочка.\n",
        "И конца б не довелось ему,\n",
        "благодушью миноносьему.\n",
        "Вдруг прожектор, вздев на нос очки,\n",
        "впился в спину миноносочки.\n",
        "Как взревет медноголосина:\n",
        "Р-р-р-астакая миноносина!\n",
        "'''\n",
        "\n",
        "words = [w.strip(punct).lower() for w in word_tokenize(poem)]\n",
        "words = [w for w in words if w not in sw and w != '']"
      ]
    },
    {
      "cell_type": "code",
      "execution_count": 20,
      "metadata": {
        "id": "mrtC521I8wjW",
        "outputId": "f61ddb0d-1fa3-4ef9-83a3-0f1068f0d08b",
        "colab": {
          "base_uri": "https://localhost:8080/"
        }
      },
      "outputs": [
        {
          "output_type": "stream",
          "name": "stdout",
          "text": [
            "морям: мор\n",
            "играя: игр\n",
            "носится: нос\n",
            "миноносцем: миноносц\n",
            "миноносица: миноносиц\n",
            "льнет: льнет\n",
            "меду: мед\n",
            "осочка: осочк\n",
            "миноносцу: миноносц\n",
            "миноносочка: миноносочк\n",
            "конца: конц\n",
            "б: б\n",
            "довелось: довел\n",
            "благодушью: благодуш\n",
            "миноносьему: минонос\n",
            "прожектор: прожектор\n",
            "вздев: вздев\n",
            "нос: нос\n",
            "очки: очк\n",
            "впился: впил\n",
            "спину: спин\n",
            "миноносочки: миноносочк\n",
            "взревет: взревет\n",
            "медноголосина: медноголосин\n",
            "р-р-р-астакая: р-р-р-астак\n",
            "миноносина: миноносин\n"
          ]
        }
      ],
      "source": [
        "snowball = SnowballStemmer(\"russian\")\n",
        "\n",
        "for w in words:\n",
        "    print(\"%s: %s\" % (w, snowball.stem(w)))"
      ]
    },
    {
      "cell_type": "markdown",
      "metadata": {
        "id": "eREMBHVY8wjY"
      },
      "source": [
        "## Морфологический анализ\n",
        "\n",
        "Задачи морфологического анализа:\n",
        "\n",
        "* Разбор слова — определение нормальной формы (леммы), основы (стема) и грамматических характеристик слова\n",
        "* Синтез словоформы — генерация словоформы по заданным грамматическим характеристикам из леммы\n",
        "\n",
        "Морфологический анализ — не самая сильная сторона NLTK.  Для этих задач лучше использовать `pymorphy2` и `pymystem3` для русского языка и, например, `Spacy` для европейских.\n",
        "\n",
        "## Лемматизация\n",
        "\n",
        "**Лемматизация** — процесс приведения словоформы к лемме, т.е. нормальной (словарной) форме. Это более сложная задача, чем стемминг, но и результаты дает гораздо более осмысленные, особенно для языков с богатой морфологией.\n",
        "\n",
        "* кошке, кошку, кошкам, кошкой $\\implies$ кошка\n",
        "* бежал, бежит, бегу $\\implies$  бежать\n",
        "* белому, белым, белыми $\\implies$ белый\n",
        "\n",
        "## POS-tagging\n",
        "\n",
        "**Частеречная разметка**, или **POS-tagging** _(part of speech tagging)_ —  определение части речи и грамматических характеристик слов в тексте (корпусе) с приписыванием им соответствующих тегов.\n",
        "\n",
        "Для большинства слов возможно несколько разборов (т.е. несколько разных лемм, несколько разных частей речи и т.п.). Теггер генерирует  все варианты, ранжирует их по вероятности и по умолчанию выдает наиболее вероятный. Выбор одного разбора из нескольких называется **снятием омонимии**, или **дизамбигуацией**.\n",
        "\n",
        "### Наборы тегов\n",
        "\n",
        "Существует множество наборов грамматических тегов, или тегсетов:\n",
        "* НКРЯ\n",
        "* Mystem\n",
        "* UPenn\n",
        "* OpenCorpora (его использует pymorphy2)\n",
        "* Universal Dependencies\n",
        "* ...\n",
        "\n",
        "Есть даже [библиотека](https://github.com/kmike/russian-tagsets) для преобразования тегов из одной системы в другую для русского языка, `russian-tagsets`. Но важно помнить, что любое такое преобразование будет с потерями!\n",
        "\n",
        "На данный момент стандартом является **Universal Dependencies**. Подробнее про проект можно почитать [вот тут](http://universaldependencies.org/), а про теги — [вот тут](http://universaldependencies.org/u/pos/). Вот список основных (частереных) тегов UD:\n",
        "\n",
        "* ADJ: adjective\n",
        "* ADP: adposition\n",
        "* ADV: adverb\n",
        "* AUX: auxiliary\n",
        "* CCONJ: coordinating conjunction\n",
        "* DET: determiner\n",
        "* INTJ: interjection\n",
        "* NOUN: noun\n",
        "* NUM: numeral\n",
        "* PART: particle\n",
        "* PRON: pronoun\n",
        "* PROPN: proper noun\n",
        "* PUNCT: punctuation\n",
        "* SCONJ: subordinating conjunction\n",
        "* SYM: symbol\n",
        "* VERB: verb\n",
        "* X: other\n",
        "\n",
        "### pymystem3\n",
        "\n",
        "**pymystem3** — это питоновская обертка для морфологичекого анализатора Mystem, сделанного в Яндексе. Его можно скачать отдельно и использовать из консоли. Отдельный плюс Mystem - он умеет разрешать омонимию (выбирает более релевантный вариант разбора слова для данного контекста).\n",
        "\n",
        "* [Документация Mystem](https://tech.yandex.ru/mystem/doc/index-docpage/)\n",
        "* [Документация pymystem3](http://pythonhosted.org/pymystem3/)\n",
        "\n",
        "Инициализируем Mystem c дефолтными параметрами. А вообще параметры есть такие:\n",
        "* mystem_bin - путь к `mystem`, если их несколько\n",
        "* grammar_info - нужна ли грамматическая информация или только леммы (по дефолту нужна)\n",
        "* disambiguation - нужно ли снятие омонимии - дизамбигуация (по дефолту нужна)\n",
        "* entire_input - нужно ли сохранять в выводе все (пробелы всякие, например), или можно выкинуть (по дефолту оставляется все)\n",
        "\n",
        "Методы Mystem принимают строку, токенизатор вшит внутри. Можно, конечно, и пословно анализировать, но тогда он не сможет учитывать контекст."
      ]
    },
    {
      "cell_type": "code",
      "execution_count": 21,
      "metadata": {
        "id": "IClsgWM58wjY",
        "colab": {
          "base_uri": "https://localhost:8080/"
        },
        "outputId": "421648ff-5861-4d5b-c3f1-21e8e6569ea4"
      },
      "outputs": [
        {
          "output_type": "stream",
          "name": "stdout",
          "text": [
            "Requirement already satisfied: pymystem3 in /usr/local/lib/python3.10/dist-packages (0.2.0)\n",
            "Requirement already satisfied: requests in /usr/local/lib/python3.10/dist-packages (from pymystem3) (2.31.0)\n",
            "Requirement already satisfied: charset-normalizer<4,>=2 in /usr/local/lib/python3.10/dist-packages (from requests->pymystem3) (3.3.2)\n",
            "Requirement already satisfied: idna<4,>=2.5 in /usr/local/lib/python3.10/dist-packages (from requests->pymystem3) (3.6)\n",
            "Requirement already satisfied: urllib3<3,>=1.21.1 in /usr/local/lib/python3.10/dist-packages (from requests->pymystem3) (2.0.7)\n",
            "Requirement already satisfied: certifi>=2017.4.17 in /usr/local/lib/python3.10/dist-packages (from requests->pymystem3) (2023.11.17)\n"
          ]
        }
      ],
      "source": [
        "!pip install pymystem3"
      ]
    },
    {
      "cell_type": "code",
      "execution_count": 22,
      "metadata": {
        "id": "Jm48dgcB8wja",
        "outputId": "6c33384c-ce1c-4974-f679-6a9e2ab3d8b3",
        "colab": {
          "base_uri": "https://localhost:8080/"
        }
      },
      "outputs": [
        {
          "output_type": "stream",
          "name": "stderr",
          "text": [
            "Installing mystem to /root/.local/bin/mystem from http://download.cdn.yandex.net/mystem/mystem-3.1-linux-64bit.tar.gz\n"
          ]
        },
        {
          "output_type": "stream",
          "name": "stdout",
          "text": [
            "['море', ' ', 'играть', ' ', 'носиться', ' ', 'миноносец', ' ', 'миноносица', ' ', 'льнуть', ' ', 'мед', ' ', 'осочка', ' ', 'миноносец', ' ', 'миноносочек', ' ', 'конец', ' ', 'б', ' ', 'доводиться', ' ', 'благодушие', ' ', 'миноносий', ' ', 'прожектор', ' ', 'вздевать', ' ', 'нос', ' ', 'очки', ' ', 'впиваться', ' ', 'спина', ' ', 'миноносочек', ' ', 'взреветь', ' ', 'медноголосина', ' ', 'р', '-', 'р', '-', 'р', '-', 'астакать', ' ', 'миноносина', '\\n']\n"
          ]
        }
      ],
      "source": [
        "from pymystem3 import Mystem\n",
        "\n",
        "m = Mystem()\n",
        "lemmas = m.lemmatize(' '.join(words))\n",
        "print(lemmas)"
      ]
    },
    {
      "cell_type": "code",
      "execution_count": 23,
      "metadata": {
        "id": "04rPVaGg8wjd",
        "outputId": "17f93b82-793a-4f18-a187-79dee4bd10dc",
        "colab": {
          "base_uri": "https://localhost:8080/"
        }
      },
      "outputs": [
        {
          "output_type": "execute_result",
          "data": {
            "text/plain": [
              "[{'text': '\\n'},\n",
              " {'analysis': [{'lex': 'по', 'wt': 1, 'gr': 'PR='}], 'text': 'По'},\n",
              " {'text': ' '},\n",
              " {'analysis': [{'lex': 'море', 'wt': 1, 'gr': 'S,сред,неод=дат,мн'}],\n",
              "  'text': 'морям'},\n",
              " {'text': ', '},\n",
              " {'analysis': [{'lex': 'играть', 'wt': 1, 'gr': 'V,несов,пе=непрош,деепр'}],\n",
              "  'text': 'играя'},\n",
              " {'text': ', '},\n",
              " {'analysis': [{'lex': 'носиться',\n",
              "    'wt': 1,\n",
              "    'gr': 'V,несов,нп=непрош,ед,изъяв,3-л'}],\n",
              "  'text': 'носится'},\n",
              " {'text': '\\n'},\n",
              " {'analysis': [{'lex': 'с', 'wt': 0.999977831, 'gr': 'PR='}], 'text': 'с'}]"
            ]
          },
          "metadata": {},
          "execution_count": 23
        }
      ],
      "source": [
        "parsed = m.analyze(poem)\n",
        "parsed[:10]"
      ]
    },
    {
      "cell_type": "code",
      "execution_count": 24,
      "metadata": {
        "id": "XMf3iMoe8wjf",
        "outputId": "7192a3a2-dec1-4d0f-9281-069d4348dfc2",
        "colab": {
          "base_uri": "https://localhost:8080/"
        }
      },
      "outputs": [
        {
          "output_type": "stream",
          "name": "stdout",
          "text": [
            "По PR\n",
            "морям S\n",
            "играя V\n",
            "носится V\n",
            "с PR\n",
            "миноносцем S\n",
            "миноносица S\n",
            "Льнет V\n",
            "как ADVPRO\n"
          ]
        }
      ],
      "source": [
        "# как достать части речи\n",
        "\n",
        "for word in parsed[:20]:\n",
        "    if 'analysis' in word:\n",
        "        gr = word['analysis'][0]['gr']\n",
        "        pos = gr.split('=')[0].split(',')[0]\n",
        "        print(word['text'], pos)"
      ]
    },
    {
      "cell_type": "markdown",
      "metadata": {
        "id": "GTJsMuTX8wjh"
      },
      "source": [
        "###  pymorphy2\n",
        "\n",
        "**pymorphy2** — это полноценный морфологический анализатор, целиком написанный на Python. В отличие от Mystem, он не учитывает контекст, а значит, вопрос разрешения омонимии надо будет решать нам самим (об этом ниже). Он также умеет ставить слова в нужную форму (спрягать и склонять).\n",
        "\n",
        "[Документация pymorphy2](https://pymorphy2.readthedocs.io/en/latest/)"
      ]
    },
    {
      "cell_type": "code",
      "execution_count": 25,
      "metadata": {
        "id": "0fGOCBpL8wji",
        "colab": {
          "base_uri": "https://localhost:8080/"
        },
        "outputId": "18a4e7a9-acce-4527-8e2a-e56471bd7c00"
      },
      "outputs": [
        {
          "output_type": "stream",
          "name": "stdout",
          "text": [
            "Collecting pymorphy2\n",
            "  Downloading pymorphy2-0.9.1-py3-none-any.whl (55 kB)\n",
            "\u001b[2K     \u001b[90m━━━━━━━━━━━━━━━━━━━━━━━━━━━━━━━━━━━━━━━━\u001b[0m \u001b[32m55.5/55.5 kB\u001b[0m \u001b[31m613.9 kB/s\u001b[0m eta \u001b[36m0:00:00\u001b[0m\n",
            "\u001b[?25hCollecting dawg-python>=0.7.1 (from pymorphy2)\n",
            "  Downloading DAWG_Python-0.7.2-py2.py3-none-any.whl (11 kB)\n",
            "Collecting pymorphy2-dicts-ru<3.0,>=2.4 (from pymorphy2)\n",
            "  Downloading pymorphy2_dicts_ru-2.4.417127.4579844-py2.py3-none-any.whl (8.2 MB)\n",
            "\u001b[2K     \u001b[90m━━━━━━━━━━━━━━━━━━━━━━━━━━━━━━━━━━━━━━━━\u001b[0m \u001b[32m8.2/8.2 MB\u001b[0m \u001b[31m43.5 MB/s\u001b[0m eta \u001b[36m0:00:00\u001b[0m\n",
            "\u001b[?25hCollecting docopt>=0.6 (from pymorphy2)\n",
            "  Downloading docopt-0.6.2.tar.gz (25 kB)\n",
            "  Preparing metadata (setup.py) ... \u001b[?25l\u001b[?25hdone\n",
            "Building wheels for collected packages: docopt\n",
            "  Building wheel for docopt (setup.py) ... \u001b[?25l\u001b[?25hdone\n",
            "  Created wheel for docopt: filename=docopt-0.6.2-py2.py3-none-any.whl size=13706 sha256=0597d19b668b19a00abe46622de92a8adfbe563888dd34e91b9eb8453173ea63\n",
            "  Stored in directory: /root/.cache/pip/wheels/fc/ab/d4/5da2067ac95b36618c629a5f93f809425700506f72c9732fac\n",
            "Successfully built docopt\n",
            "Installing collected packages: pymorphy2-dicts-ru, docopt, dawg-python, pymorphy2\n",
            "Successfully installed dawg-python-0.7.2 docopt-0.6.2 pymorphy2-0.9.1 pymorphy2-dicts-ru-2.4.417127.4579844\n"
          ]
        }
      ],
      "source": [
        "!pip install  pymorphy2"
      ]
    },
    {
      "cell_type": "code",
      "execution_count": 26,
      "metadata": {
        "id": "pxFHvLVx8wjm",
        "outputId": "09a55837-d6b9-4000-e45c-ccc0c395a633",
        "colab": {
          "base_uri": "https://localhost:8080/"
        }
      },
      "outputs": [
        {
          "output_type": "execute_result",
          "data": {
            "text/plain": [
              "[Parse(word='стали', tag=OpencorporaTag('VERB,perf,intr plur,past,indc'), normal_form='стать', score=0.975342, methods_stack=((DictionaryAnalyzer(), 'стали', 945, 4),)),\n",
              " Parse(word='стали', tag=OpencorporaTag('NOUN,inan,femn sing,gent'), normal_form='сталь', score=0.010958, methods_stack=((DictionaryAnalyzer(), 'стали', 13, 1),)),\n",
              " Parse(word='стали', tag=OpencorporaTag('NOUN,inan,femn plur,nomn'), normal_form='сталь', score=0.005479, methods_stack=((DictionaryAnalyzer(), 'стали', 13, 6),)),\n",
              " Parse(word='стали', tag=OpencorporaTag('NOUN,inan,femn sing,datv'), normal_form='сталь', score=0.002739, methods_stack=((DictionaryAnalyzer(), 'стали', 13, 2),)),\n",
              " Parse(word='стали', tag=OpencorporaTag('NOUN,inan,femn sing,loct'), normal_form='сталь', score=0.002739, methods_stack=((DictionaryAnalyzer(), 'стали', 13, 5),)),\n",
              " Parse(word='стали', tag=OpencorporaTag('NOUN,inan,femn plur,accs'), normal_form='сталь', score=0.002739, methods_stack=((DictionaryAnalyzer(), 'стали', 13, 9),))]"
            ]
          },
          "metadata": {},
          "execution_count": 26
        }
      ],
      "source": [
        "from pymorphy2 import MorphAnalyzer\n",
        "\n",
        "morph = MorphAnalyzer()\n",
        "p = morph.parse('стали')\n",
        "p"
      ]
    },
    {
      "cell_type": "code",
      "execution_count": 27,
      "metadata": {
        "id": "WGfkuMnT8wjo",
        "outputId": "b0b6ecd9-9e25-41d3-e897-c7a75f31036a",
        "colab": {
          "base_uri": "https://localhost:8080/"
        }
      },
      "outputs": [
        {
          "output_type": "stream",
          "name": "stdout",
          "text": [
            "Слово: стали\n",
            "Тэг: VERB,perf,intr plur,past,indc\n",
            "Лемма: стать\n",
            "Вероятность: 0.975342\n"
          ]
        }
      ],
      "source": [
        "first = p[0]  # первый разбор\n",
        "print('Слово:', first.word)\n",
        "print('Тэг:', first.tag)\n",
        "print('Лемма:', first.normal_form)\n",
        "print('Вероятность:', first.score)"
      ]
    },
    {
      "cell_type": "markdown",
      "metadata": {
        "id": "c_vXOl2G8wjq"
      },
      "source": [
        "Из каждого тега можно достать более дробную информацию. Если граммема есть в разборе, то вернется ее значение, если ее нет, то вернется None. [Список граммем](https://pymorphy2.readthedocs.io/en/latest/user/grammemes.html)"
      ]
    },
    {
      "cell_type": "code",
      "execution_count": 28,
      "metadata": {
        "id": "XfN8Jlav8wjq",
        "outputId": "348d1a3f-2129-4947-8b1a-e7f79ab1b89a",
        "colab": {
          "base_uri": "https://localhost:8080/"
        }
      },
      "outputs": [
        {
          "output_type": "stream",
          "name": "stdout",
          "text": [
            "Parse(word='стать', tag=OpencorporaTag('INFN,perf,intr'), normal_form='стать', score=1.0, methods_stack=((DictionaryAnalyzer(), 'стать', 945, 0),))\n",
            "VERB\n",
            "None\n",
            "perf\n",
            "None\n",
            "None\n",
            "None\n",
            "indc\n",
            "plur\n",
            "None\n",
            "past\n",
            "intr\n",
            "None\n"
          ]
        }
      ],
      "source": [
        "print(first.normalized)        # лемма\n",
        "print(first.tag.POS)           # Part of Speech, часть речи\n",
        "print(first.tag.animacy)       # одушевленность\n",
        "print(first.tag.aspect)        # вид: совершенный или несовершенный\n",
        "print(first.tag.case)          # падеж\n",
        "print(first.tag.gender)        # род (мужской, женский, средний)\n",
        "print(first.tag.involvement)   # включенность говорящего в действие\n",
        "print(first.tag.mood)          # наклонение (повелительное, изъявительное)\n",
        "print(first.tag.number)        # число (единственное, множественное)\n",
        "print(first.tag.person)        # лицо (1, 2, 3)\n",
        "print(first.tag.tense)         # время (настоящее, прошедшее, будущее)\n",
        "print(first.tag.transitivity)  # переходность (переходный, непереходный)\n",
        "print(first.tag.voice)         # залог (действительный, страдательный)"
      ]
    },
    {
      "cell_type": "code",
      "execution_count": 29,
      "metadata": {
        "id": "FZtVGFG08wjt",
        "outputId": "9b73a9ed-b3bb-423f-d8e3-d8e4d8eb69f2",
        "colab": {
          "base_uri": "https://localhost:8080/"
        }
      },
      "outputs": [
        {
          "output_type": "stream",
          "name": "stdout",
          "text": [
            "Parse(word='стать', tag=OpencorporaTag('INFN,perf,intr'), normal_form='стать', score=1.0, methods_stack=((DictionaryAnalyzer(), 'стать', 945, 0),))\n",
            "VERB\n",
            "perf\n",
            "None\n"
          ]
        }
      ],
      "source": [
        "print(first.normalized)\n",
        "print(first.tag.POS)\n",
        "print(first.tag.aspect)\n",
        "print(first.tag.case)"
      ]
    },
    {
      "cell_type": "markdown",
      "metadata": {
        "id": "wZA9awaI8wjy"
      },
      "source": [
        "### mystem vs. pymorphy\n",
        "\n",
        "1) Оба они могут работать с незнакомыми словами (out-of-vocabulary words, OOV).\n",
        "\n",
        "2) *Скорость*. Mystem работает невероятно медленно под windows на больших текстах, но очень быстро, елси запускать из консоли в linux / mac os.\n",
        "\n",
        "3) *Снятие омонимии*. Mystem умеет снимать омонимию по контексту (хотя не всегда преуспевает), pymorphy2 берет на вход одно слово и соответственно вообще не умеет дизамбигуировать по контексту:"
      ]
    },
    {
      "cell_type": "code",
      "execution_count": 30,
      "metadata": {
        "id": "Ot_d8SfS8wjz",
        "outputId": "6abc4fba-e12b-43f3-eb12-1d9794015458",
        "colab": {
          "base_uri": "https://localhost:8080/"
        }
      },
      "outputs": [
        {
          "output_type": "stream",
          "name": "stdout",
          "text": [
            "{'analysis': [{'lex': 'сорок', 'wt': 0.8710292664, 'gr': 'NUM=(пр|дат|род|твор)'}], 'text': 'сорока'}\n",
            "{'analysis': [{'lex': 'сорока', 'wt': 0.1210970041, 'gr': 'S,жен,од=им,ед'}], 'text': 'Сорока'}\n"
          ]
        }
      ],
      "source": [
        "homonym1 = 'За время обучения я прослушал больше сорока курсов.'\n",
        "homonym2 = 'Сорока своровала блестящее украшение со стола.'\n",
        "mystem_analyzer = Mystem() # инициализирую объект с дефолтными параметрами\n",
        "\n",
        "print(mystem_analyzer.analyze(homonym1)[-5])\n",
        "print(mystem_analyzer.analyze(homonym2)[0])"
      ]
    },
    {
      "cell_type": "code",
      "execution_count": 31,
      "metadata": {
        "id": "G-jgHkHi8wj2"
      },
      "outputs": [],
      "source": [
        "p = morph.parse('сорока')"
      ]
    },
    {
      "cell_type": "code",
      "execution_count": 32,
      "metadata": {
        "id": "Qp_VxYoJ8wj4",
        "outputId": "0c171a42-5c29-4bbe-b53e-a7616e035a70",
        "colab": {
          "base_uri": "https://localhost:8080/"
        }
      },
      "outputs": [
        {
          "output_type": "execute_result",
          "data": {
            "text/plain": [
              "[Parse(word='сорока', tag=OpencorporaTag('NUMR gent'), normal_form='сорок', score=0.68, methods_stack=((DictionaryAnalyzer(), 'сорока', 2921, 1),)),\n",
              " Parse(word='сорока', tag=OpencorporaTag('NOUN,anim,femn sing,nomn'), normal_form='сорока', score=0.08, methods_stack=((DictionaryAnalyzer(), 'сорока', 421, 0),)),\n",
              " Parse(word='сорока', tag=OpencorporaTag('NUMR ablt'), normal_form='сорок', score=0.08, methods_stack=((DictionaryAnalyzer(), 'сорока', 2921, 4),)),\n",
              " Parse(word='сорока', tag=OpencorporaTag('NUMR loct'), normal_form='сорок', score=0.08, methods_stack=((DictionaryAnalyzer(), 'сорока', 2921, 5),)),\n",
              " Parse(word='сорока', tag=OpencorporaTag('NOUN,inan,femn sing,nomn'), normal_form='сорока', score=0.04, methods_stack=((DictionaryAnalyzer(), 'сорока', 44, 0),)),\n",
              " Parse(word='сорока', tag=OpencorporaTag('NUMR datv'), normal_form='сорок', score=0.04, methods_stack=((DictionaryAnalyzer(), 'сорока', 2921, 2),))]"
            ]
          },
          "metadata": {},
          "execution_count": 32
        }
      ],
      "source": [
        "p"
      ]
    },
    {
      "cell_type": "markdown",
      "metadata": {
        "id": "_f54Z_mabxaP"
      },
      "source": [
        "### Собираем все вместе:\n",
        "\n",
        "Сделаем стандартную предобработку данных с сайта Lenta.ru"
      ]
    },
    {
      "cell_type": "code",
      "execution_count": 33,
      "metadata": {
        "id": "78QDJ8qGbxaP",
        "outputId": "f94d790f-71f4-4b05-a7d4-ed558676d8b5",
        "colab": {
          "base_uri": "https://localhost:8080/",
          "height": 640
        }
      },
      "outputs": [
        {
          "output_type": "execute_result",
          "data": {
            "text/plain": [
              "                                                                                                                                                                                                                                                                                                                                                                                                                                                                                                                                                                                                                                                                                                                                                                                                                                 text\n",
              "1989  В пятницу Тбилисский Мтацминда-Крцанисский районный суд постановил задержать президента Федерации футбола Грузии Мераба Жордания на три месяца для завершения следствия, сообщает РИА \"Новости\". Cуд не удовлетворил ходатайство адвоката об освобождении Жордания под залог в 150 тысяч лари (около 70 тысяч долларов). Мераб Жордания был задержан в пятницу утром в аэропорту Тбилиси при попытке незаконно пересечь государственную границу и вылететь в Париж, минуя паспортный контроль. Пограничники передали Жордания в МВД, где его подвергли семичасовому допросу. Во время допроса Жордания вскрылись новые факты по делу в отношении руководства Федерации футбола, заведенному Генеральной прокуратурой Грузии по статье 160 Уголовного кодекса (сокрытие доходов и уклонение от налогов). Согласно данным след...\n",
              "1749  Утром 23 августа за евро на мировых валютных рынках давали 1,2224 доллара. Курс йены составил 110 йен за доллар. Американские индексы закончили торговую сессию 22 августа в плюсе. Значение индекса Dow Jones выросло на 10,66 пункта (+0,10 процента) и составило 10569,89 пункта. Nasdaq вырос на 5,85 пункта (+0,27 процента) до 2141,41 пункта. Значение S&P 500 составило 1221,73 пункта. Dow поддержал Boeing, заявивший, что российские авиалинии решили приобрести несколько самолетов компании. Кроме того, сильно поднялись ADR PetroKazakhstan, который собираются купить китайцы. 22 августа на Международной нефтяной бирже (Лондон) октябрьские фьючерсы на нефть эталонной марки Brent торговались по 64,50 доллара за баррель. Сентябрьские фьючерсы на NYMEX к концу сессии торговались по 65,45 доллара з...\n",
              "2836  Презентация новой операционной системы Windows 9 под кодовым названием Threshold состоится 30 сентября. Об этом сообщает издание The Verge со ссылкой на информированные источники. По данным The Verge, Microsoft предварительно запланировала на 30 сентября мероприятие для журналистов, на котором представит обновление Windows, хотя дата может и измениться. В то же время, версия Threshold уже находится в разработке, и Microsoft может 30 сентября или чуть позже выпустить превью платформы для разработчиков. Хотя версия Threshold в итоговом варианте, скорее всего, получит название Windows 9, на сентябрьском мероприятии Microsoft вряд ли объявит данное название. Вместо этого компания представит новые функции операционной системы. Аналогичный шаг в июне сделала компания Google, анонсировав прев...\n",
              "1365  Исполнитель роли Сарумана в трилогиях «Властелин колец» и «Хоббит» Кристофер Ли записал рождественскую песню в стиле хеви-метал. Трек носит название Darkest Carols, Faithful Sing. Его фрагмент можно услышать в видео, размещенном на канале лейбла Charlemagne Productions на сервисе YouTube. Видеоролик представляет собой микс из музыкальных композиций 2012, 2013 и 2014 годов — обычных и записанных специально для рождественских праздников. Среди них кавер-версия песни Фрэнка Синатры My Way, которую Ли впервые представил в мае 2014 года. Отрывок из нового трека Darkest Carols, Faithful Sing появляется на отметке 1:50. Кроме того, три версии работы доступны в iTunes. На счету 92-летнего Кристофера Ли более 200 фильмов, но наибольшую известность ему принесли роли злодеев. Ли активно занимаетс...\n",
              "3376  Игорь Захаркин назначен исполняющим обязанности главного тренера уфимского хоккейного клуба «Салават Юлаев». Ранее руководивший командой Анатолий Емелин продолжит работу в тренерском штабе в качестве старшего тренера. Об этом сообщается на официальном сайте «Салавата Юлаева». 57-летний Захаркин, который в качестве помощника Вячеслава Быкова дважды побеждал со сборной России на чемпионатах мира, в августе 2015 года был назначен тренером-координатором «Салавата Юлаева». С 2009 по 2011 год он вместе с Быковым уже работал в уфимском клубе, выиграв с командой Кубок Гагарина. В прошлом сезоне тренерский тандем привел к победе в Кубке Гагарина петербургский СКА. Быков в настоящее время живет в Швейцарии и входит в совет директоров клуба «Фрибург-Готтерон». После 14 матчей регулярного чемпиона..."
            ],
            "text/html": [
              "\n",
              "  <div id=\"df-689b1d87-46f7-49a7-babb-5a9a6cd98a72\" class=\"colab-df-container\">\n",
              "    <div>\n",
              "<style scoped>\n",
              "    .dataframe tbody tr th:only-of-type {\n",
              "        vertical-align: middle;\n",
              "    }\n",
              "\n",
              "    .dataframe tbody tr th {\n",
              "        vertical-align: top;\n",
              "    }\n",
              "\n",
              "    .dataframe thead th {\n",
              "        text-align: right;\n",
              "    }\n",
              "</style>\n",
              "<table border=\"1\" class=\"dataframe\">\n",
              "  <thead>\n",
              "    <tr style=\"text-align: right;\">\n",
              "      <th></th>\n",
              "      <th>text</th>\n",
              "    </tr>\n",
              "  </thead>\n",
              "  <tbody>\n",
              "    <tr>\n",
              "      <th>1989</th>\n",
              "      <td>В пятницу Тбилисский Мтацминда-Крцанисский районный суд постановил задержать президента Федерации футбола Грузии Мераба Жордания на три месяца для завершения следствия, сообщает РИА \"Новости\". Cуд не удовлетворил ходатайство адвоката об освобождении Жордания под залог в 150 тысяч лари (около 70 тысяч долларов). Мераб Жордания был задержан в пятницу утром в аэропорту Тбилиси при попытке незаконно пересечь государственную границу и вылететь в Париж, минуя паспортный контроль. Пограничники передали Жордания в МВД, где его подвергли семичасовому допросу. Во время допроса Жордания вскрылись новые факты по делу в отношении руководства Федерации футбола, заведенному Генеральной прокуратурой Грузии по статье 160 Уголовного кодекса (сокрытие доходов и уклонение от налогов). Согласно данным след...</td>\n",
              "    </tr>\n",
              "    <tr>\n",
              "      <th>1749</th>\n",
              "      <td>Утром 23 августа за евро на мировых валютных рынках давали 1,2224 доллара. Курс йены составил 110 йен за доллар. Американские индексы закончили торговую сессию 22 августа в плюсе. Значение индекса Dow Jones выросло на 10,66 пункта (+0,10 процента) и составило 10569,89 пункта. Nasdaq вырос на 5,85 пункта (+0,27 процента) до 2141,41 пункта. Значение S&amp;P 500 составило 1221,73 пункта. Dow поддержал Boeing, заявивший, что российские авиалинии решили приобрести несколько самолетов компании. Кроме того, сильно поднялись ADR PetroKazakhstan, который собираются купить китайцы. 22 августа на Международной нефтяной бирже (Лондон) октябрьские фьючерсы на нефть эталонной марки Brent торговались по 64,50 доллара за баррель. Сентябрьские фьючерсы на NYMEX к концу сессии торговались по 65,45 доллара з...</td>\n",
              "    </tr>\n",
              "    <tr>\n",
              "      <th>2836</th>\n",
              "      <td>Презентация новой операционной системы Windows 9 под кодовым названием Threshold состоится 30 сентября. Об этом сообщает издание The Verge со ссылкой на информированные источники. По данным The Verge, Microsoft предварительно запланировала на 30 сентября мероприятие для журналистов, на котором представит обновление Windows, хотя дата может и измениться. В то же время, версия Threshold уже находится в разработке, и Microsoft может 30 сентября или чуть позже выпустить превью платформы для разработчиков. Хотя версия Threshold в итоговом варианте, скорее всего, получит название Windows 9, на сентябрьском мероприятии Microsoft вряд ли объявит данное название. Вместо этого компания представит новые функции операционной системы. Аналогичный шаг в июне сделала компания Google, анонсировав прев...</td>\n",
              "    </tr>\n",
              "    <tr>\n",
              "      <th>1365</th>\n",
              "      <td>Исполнитель роли Сарумана в трилогиях «Властелин колец» и «Хоббит» Кристофер Ли записал рождественскую песню в стиле хеви-метал. Трек носит название Darkest Carols, Faithful Sing. Его фрагмент можно услышать в видео, размещенном на канале лейбла Charlemagne Productions на сервисе YouTube. Видеоролик представляет собой микс из музыкальных композиций 2012, 2013 и 2014 годов — обычных и записанных специально для рождественских праздников. Среди них кавер-версия песни Фрэнка Синатры My Way, которую Ли впервые представил в мае 2014 года. Отрывок из нового трека Darkest Carols, Faithful Sing появляется на отметке 1:50. Кроме того, три версии работы доступны в iTunes. На счету 92-летнего Кристофера Ли более 200 фильмов, но наибольшую известность ему принесли роли злодеев. Ли активно занимаетс...</td>\n",
              "    </tr>\n",
              "    <tr>\n",
              "      <th>3376</th>\n",
              "      <td>Игорь Захаркин назначен исполняющим обязанности главного тренера уфимского хоккейного клуба «Салават Юлаев». Ранее руководивший командой Анатолий Емелин продолжит работу в тренерском штабе в качестве старшего тренера. Об этом сообщается на официальном сайте «Салавата Юлаева». 57-летний Захаркин, который в качестве помощника Вячеслава Быкова дважды побеждал со сборной России на чемпионатах мира, в августе 2015 года был назначен тренером-координатором «Салавата Юлаева». С 2009 по 2011 год он вместе с Быковым уже работал в уфимском клубе, выиграв с командой Кубок Гагарина. В прошлом сезоне тренерский тандем привел к победе в Кубке Гагарина петербургский СКА. Быков в настоящее время живет в Швейцарии и входит в совет директоров клуба «Фрибург-Готтерон». После 14 матчей регулярного чемпиона...</td>\n",
              "    </tr>\n",
              "  </tbody>\n",
              "</table>\n",
              "</div>\n",
              "    <div class=\"colab-df-buttons\">\n",
              "\n",
              "  <div class=\"colab-df-container\">\n",
              "    <button class=\"colab-df-convert\" onclick=\"convertToInteractive('df-689b1d87-46f7-49a7-babb-5a9a6cd98a72')\"\n",
              "            title=\"Convert this dataframe to an interactive table.\"\n",
              "            style=\"display:none;\">\n",
              "\n",
              "  <svg xmlns=\"http://www.w3.org/2000/svg\" height=\"24px\" viewBox=\"0 -960 960 960\">\n",
              "    <path d=\"M120-120v-720h720v720H120Zm60-500h600v-160H180v160Zm220 220h160v-160H400v160Zm0 220h160v-160H400v160ZM180-400h160v-160H180v160Zm440 0h160v-160H620v160ZM180-180h160v-160H180v160Zm440 0h160v-160H620v160Z\"/>\n",
              "  </svg>\n",
              "    </button>\n",
              "\n",
              "  <style>\n",
              "    .colab-df-container {\n",
              "      display:flex;\n",
              "      gap: 12px;\n",
              "    }\n",
              "\n",
              "    .colab-df-convert {\n",
              "      background-color: #E8F0FE;\n",
              "      border: none;\n",
              "      border-radius: 50%;\n",
              "      cursor: pointer;\n",
              "      display: none;\n",
              "      fill: #1967D2;\n",
              "      height: 32px;\n",
              "      padding: 0 0 0 0;\n",
              "      width: 32px;\n",
              "    }\n",
              "\n",
              "    .colab-df-convert:hover {\n",
              "      background-color: #E2EBFA;\n",
              "      box-shadow: 0px 1px 2px rgba(60, 64, 67, 0.3), 0px 1px 3px 1px rgba(60, 64, 67, 0.15);\n",
              "      fill: #174EA6;\n",
              "    }\n",
              "\n",
              "    .colab-df-buttons div {\n",
              "      margin-bottom: 4px;\n",
              "    }\n",
              "\n",
              "    [theme=dark] .colab-df-convert {\n",
              "      background-color: #3B4455;\n",
              "      fill: #D2E3FC;\n",
              "    }\n",
              "\n",
              "    [theme=dark] .colab-df-convert:hover {\n",
              "      background-color: #434B5C;\n",
              "      box-shadow: 0px 1px 3px 1px rgba(0, 0, 0, 0.15);\n",
              "      filter: drop-shadow(0px 1px 2px rgba(0, 0, 0, 0.3));\n",
              "      fill: #FFFFFF;\n",
              "    }\n",
              "  </style>\n",
              "\n",
              "    <script>\n",
              "      const buttonEl =\n",
              "        document.querySelector('#df-689b1d87-46f7-49a7-babb-5a9a6cd98a72 button.colab-df-convert');\n",
              "      buttonEl.style.display =\n",
              "        google.colab.kernel.accessAllowed ? 'block' : 'none';\n",
              "\n",
              "      async function convertToInteractive(key) {\n",
              "        const element = document.querySelector('#df-689b1d87-46f7-49a7-babb-5a9a6cd98a72');\n",
              "        const dataTable =\n",
              "          await google.colab.kernel.invokeFunction('convertToInteractive',\n",
              "                                                    [key], {});\n",
              "        if (!dataTable) return;\n",
              "\n",
              "        const docLinkHtml = 'Like what you see? Visit the ' +\n",
              "          '<a target=\"_blank\" href=https://colab.research.google.com/notebooks/data_table.ipynb>data table notebook</a>'\n",
              "          + ' to learn more about interactive tables.';\n",
              "        element.innerHTML = '';\n",
              "        dataTable['output_type'] = 'display_data';\n",
              "        await google.colab.output.renderOutput(dataTable, element);\n",
              "        const docLink = document.createElement('div');\n",
              "        docLink.innerHTML = docLinkHtml;\n",
              "        element.appendChild(docLink);\n",
              "      }\n",
              "    </script>\n",
              "  </div>\n",
              "\n",
              "\n",
              "<div id=\"df-f56b7e9e-4793-424f-9919-a2b67b6cb502\">\n",
              "  <button class=\"colab-df-quickchart\" onclick=\"quickchart('df-f56b7e9e-4793-424f-9919-a2b67b6cb502')\"\n",
              "            title=\"Suggest charts\"\n",
              "            style=\"display:none;\">\n",
              "\n",
              "<svg xmlns=\"http://www.w3.org/2000/svg\" height=\"24px\"viewBox=\"0 0 24 24\"\n",
              "     width=\"24px\">\n",
              "    <g>\n",
              "        <path d=\"M19 3H5c-1.1 0-2 .9-2 2v14c0 1.1.9 2 2 2h14c1.1 0 2-.9 2-2V5c0-1.1-.9-2-2-2zM9 17H7v-7h2v7zm4 0h-2V7h2v10zm4 0h-2v-4h2v4z\"/>\n",
              "    </g>\n",
              "</svg>\n",
              "  </button>\n",
              "\n",
              "<style>\n",
              "  .colab-df-quickchart {\n",
              "      --bg-color: #E8F0FE;\n",
              "      --fill-color: #1967D2;\n",
              "      --hover-bg-color: #E2EBFA;\n",
              "      --hover-fill-color: #174EA6;\n",
              "      --disabled-fill-color: #AAA;\n",
              "      --disabled-bg-color: #DDD;\n",
              "  }\n",
              "\n",
              "  [theme=dark] .colab-df-quickchart {\n",
              "      --bg-color: #3B4455;\n",
              "      --fill-color: #D2E3FC;\n",
              "      --hover-bg-color: #434B5C;\n",
              "      --hover-fill-color: #FFFFFF;\n",
              "      --disabled-bg-color: #3B4455;\n",
              "      --disabled-fill-color: #666;\n",
              "  }\n",
              "\n",
              "  .colab-df-quickchart {\n",
              "    background-color: var(--bg-color);\n",
              "    border: none;\n",
              "    border-radius: 50%;\n",
              "    cursor: pointer;\n",
              "    display: none;\n",
              "    fill: var(--fill-color);\n",
              "    height: 32px;\n",
              "    padding: 0;\n",
              "    width: 32px;\n",
              "  }\n",
              "\n",
              "  .colab-df-quickchart:hover {\n",
              "    background-color: var(--hover-bg-color);\n",
              "    box-shadow: 0 1px 2px rgba(60, 64, 67, 0.3), 0 1px 3px 1px rgba(60, 64, 67, 0.15);\n",
              "    fill: var(--button-hover-fill-color);\n",
              "  }\n",
              "\n",
              "  .colab-df-quickchart-complete:disabled,\n",
              "  .colab-df-quickchart-complete:disabled:hover {\n",
              "    background-color: var(--disabled-bg-color);\n",
              "    fill: var(--disabled-fill-color);\n",
              "    box-shadow: none;\n",
              "  }\n",
              "\n",
              "  .colab-df-spinner {\n",
              "    border: 2px solid var(--fill-color);\n",
              "    border-color: transparent;\n",
              "    border-bottom-color: var(--fill-color);\n",
              "    animation:\n",
              "      spin 1s steps(1) infinite;\n",
              "  }\n",
              "\n",
              "  @keyframes spin {\n",
              "    0% {\n",
              "      border-color: transparent;\n",
              "      border-bottom-color: var(--fill-color);\n",
              "      border-left-color: var(--fill-color);\n",
              "    }\n",
              "    20% {\n",
              "      border-color: transparent;\n",
              "      border-left-color: var(--fill-color);\n",
              "      border-top-color: var(--fill-color);\n",
              "    }\n",
              "    30% {\n",
              "      border-color: transparent;\n",
              "      border-left-color: var(--fill-color);\n",
              "      border-top-color: var(--fill-color);\n",
              "      border-right-color: var(--fill-color);\n",
              "    }\n",
              "    40% {\n",
              "      border-color: transparent;\n",
              "      border-right-color: var(--fill-color);\n",
              "      border-top-color: var(--fill-color);\n",
              "    }\n",
              "    60% {\n",
              "      border-color: transparent;\n",
              "      border-right-color: var(--fill-color);\n",
              "    }\n",
              "    80% {\n",
              "      border-color: transparent;\n",
              "      border-right-color: var(--fill-color);\n",
              "      border-bottom-color: var(--fill-color);\n",
              "    }\n",
              "    90% {\n",
              "      border-color: transparent;\n",
              "      border-bottom-color: var(--fill-color);\n",
              "    }\n",
              "  }\n",
              "</style>\n",
              "\n",
              "  <script>\n",
              "    async function quickchart(key) {\n",
              "      const quickchartButtonEl =\n",
              "        document.querySelector('#' + key + ' button');\n",
              "      quickchartButtonEl.disabled = true;  // To prevent multiple clicks.\n",
              "      quickchartButtonEl.classList.add('colab-df-spinner');\n",
              "      try {\n",
              "        const charts = await google.colab.kernel.invokeFunction(\n",
              "            'suggestCharts', [key], {});\n",
              "      } catch (error) {\n",
              "        console.error('Error during call to suggestCharts:', error);\n",
              "      }\n",
              "      quickchartButtonEl.classList.remove('colab-df-spinner');\n",
              "      quickchartButtonEl.classList.add('colab-df-quickchart-complete');\n",
              "    }\n",
              "    (() => {\n",
              "      let quickchartButtonEl =\n",
              "        document.querySelector('#df-f56b7e9e-4793-424f-9919-a2b67b6cb502 button');\n",
              "      quickchartButtonEl.style.display =\n",
              "        google.colab.kernel.accessAllowed ? 'block' : 'none';\n",
              "    })();\n",
              "  </script>\n",
              "</div>\n",
              "\n",
              "    </div>\n",
              "  </div>\n"
            ]
          },
          "metadata": {},
          "execution_count": 33
        }
      ],
      "source": [
        "import pandas as pd\n",
        "pd.set_option('display.max_columns', None)\n",
        "pd.set_option('display.expand_frame_repr', False)\n",
        "pd.set_option('max_colwidth', 800)\n",
        "\n",
        "data = pd.read_csv('./lenta-ru-partial.csv', usecols=['text'])\n",
        "data.sample(5)"
      ]
    },
    {
      "cell_type": "code",
      "execution_count": 34,
      "metadata": {
        "id": "30iRgGBUbxaQ"
      },
      "outputs": [],
      "source": [
        "m = MorphAnalyzer()\n",
        "\n",
        "# убираем все небуквенные символы\n",
        "regex = re.compile(\"[А-Яа-яA-z]+\")\n",
        "\n",
        "def words_only(text, regex=regex):\n",
        "    try:\n",
        "        return regex.findall(text.lower())\n",
        "    except:\n",
        "        return []"
      ]
    },
    {
      "cell_type": "code",
      "execution_count": 35,
      "metadata": {
        "id": "cDxKvrXJbxaQ",
        "outputId": "624f55f2-6678-4da3-dcb9-517d82e008eb",
        "colab": {
          "base_uri": "https://localhost:8080/"
        }
      },
      "outputs": [
        {
          "output_type": "stream",
          "name": "stdout",
          "text": [
            "В южноафриканском Кейптауне победой сборной России завершился чемпионат мира среди бездомных. В финальном матче российские футболисты, впервые в своей истории ставшие чемпионами мира, обыграли команду Казахстана со счетом 1:0, передает BBC News. В первенстве принимали участие почти 500 человек, которые представляли 48 стран мира. Все матчи, каждый из которых продолжался 15 минут, проходили на асфальтовых полях, причем в одной команде могли играть как мужчины, так и женщины. Сборная России провела на турнире 13 матчей, во всех из которых добилась победы. На предыдущих чемпионатах мира достижения российской команды были скромнее: в 2003-м году – 13-е место, в 2004-м году – 5-е место, в 2005-м году – 12-е место.\n"
          ]
        }
      ],
      "source": [
        "print(data.text[0])"
      ]
    },
    {
      "cell_type": "code",
      "execution_count": 36,
      "metadata": {
        "id": "6DoFQEU1bxaQ",
        "outputId": "b22ca6a8-8603-4b1d-e4ac-183a7135de04",
        "colab": {
          "base_uri": "https://localhost:8080/"
        }
      },
      "outputs": [
        {
          "output_type": "stream",
          "name": "stdout",
          "text": [
            "в южноафриканском кейптауне победой сборной россии завершился чемпионат мира среди бездомных в финальном матче российские футболисты впервые в своей истории ставшие чемпионами мира обыграли команду казахстана со счетом передает bbc news в первенстве принимали участие почти человек которые представляли стран мира все матчи каждый из которых продолжался минут проходили на асфальтовых полях причем в одной команде могли играть как мужчины так и женщины сборная россии провела на турнире матчей во всех из которых добилась победы на предыдущих чемпионатах мира достижения российской команды были скромнее в м году е место в м году е место в м году е место\n"
          ]
        }
      ],
      "source": [
        "print(*words_only(data.text[0]))"
      ]
    },
    {
      "cell_type": "markdown",
      "metadata": {
        "id": "mpqQV2cXbxaQ"
      },
      "source": [
        "Метод @lru_cashe создает для функции lemmatize кэш указанного размера, что позволяет в целом ускорить лемматизацию текста (что очень полезно, так как лемматизация - ресурсоемкий процесс)."
      ]
    },
    {
      "cell_type": "code",
      "execution_count": 37,
      "metadata": {
        "id": "5sGUafjTbxaQ"
      },
      "outputs": [],
      "source": [
        "\n",
        "def lemmatize_word(token, pymorphy=m):\n",
        "    return pymorphy.parse(token)[0].normal_form\n",
        "\n",
        "def lemmatize_text(text):\n",
        "    return [lemmatize_word(w) for w in text]"
      ]
    },
    {
      "cell_type": "code",
      "execution_count": 38,
      "metadata": {
        "id": "qkSVu1okbxaQ",
        "outputId": "674c3b7e-efef-4563-8d16-a968244a535b",
        "colab": {
          "base_uri": "https://localhost:8080/"
        }
      },
      "outputs": [
        {
          "output_type": "stream",
          "name": "stdout",
          "text": [
            "['в', 'южноафриканский', 'кейптаун', 'победа', 'сборная', 'россия', 'завершиться', 'чемпионат', 'мир', 'среди', 'бездомный', 'в', 'финальный', 'матч', 'российский', 'футболист', 'впервые', 'в', 'свой', 'история', 'стать', 'чемпион', 'мир', 'обыграть', 'команда', 'казахстан', 'с', 'счёт', 'передавать', 'bbc', 'news', 'в', 'первенство', 'принимать', 'участие', 'почти', 'человек', 'который', 'представлять', 'страна', 'мир', 'всё', 'матч', 'каждый', 'из', 'который', 'продолжаться', 'минута', 'проходить', 'на', 'асфальтовый', 'поле', 'причём', 'в', 'один', 'команда', 'мочь', 'играть', 'как', 'мужчина', 'так', 'и', 'женщина', 'сборная', 'россия', 'провести', 'на', 'турнир', 'матч', 'в', 'весь', 'из', 'который', 'добиться', 'победа', 'на', 'предыдущий', 'чемпионат', 'мир', 'достижение', 'российский', 'команда', 'быть', 'скромный', 'в', 'м', 'год', 'быть', 'место', 'в', 'м', 'год', 'быть', 'место', 'в', 'м', 'год', 'быть', 'место']\n"
          ]
        }
      ],
      "source": [
        "tokens = words_only(data.text[0])\n",
        "\n",
        "print(lemmatize_text(tokens))"
      ]
    },
    {
      "cell_type": "code",
      "execution_count": 39,
      "metadata": {
        "id": "jAfP8610bxaR"
      },
      "outputs": [],
      "source": [
        "mystopwords = stopwords.words('russian')\n",
        "\n",
        "def remove_stopwords(lemmas, stopwords = mystopwords):\n",
        "    return [w for w in lemmas if not w in stopwords]"
      ]
    },
    {
      "cell_type": "code",
      "execution_count": 40,
      "metadata": {
        "id": "xmoZhyLnbxaR",
        "outputId": "92798014-e4b7-4a6a-9cee-00520bcf1bb9",
        "colab": {
          "base_uri": "https://localhost:8080/"
        }
      },
      "outputs": [
        {
          "output_type": "stream",
          "name": "stdout",
          "text": [
            "южноафриканский кейптаун победа сборная россия завершиться чемпионат мир среди бездомный финальный матч российский футболист впервые свой история стать чемпион мир обыграть команда казахстан счёт передавать bbc news первенство принимать участие человек который представлять страна мир всё матч каждый который продолжаться минута проходить асфальтовый поле причём команда мочь играть мужчина женщина сборная россия провести турнир матч весь который добиться победа предыдущий чемпионат мир достижение российский команда скромный м год место м год место м год место\n"
          ]
        }
      ],
      "source": [
        "lemmas = lemmatize_text(tokens)\n",
        "\n",
        "print(*remove_stopwords(lemmas))"
      ]
    },
    {
      "cell_type": "code",
      "execution_count": 41,
      "metadata": {
        "id": "HAuIEQ7BbxaR"
      },
      "outputs": [],
      "source": [
        "def remove_stopwords(lemmas, stopwords = mystopwords):\n",
        "    return [w for w in lemmas if not w in stopwords and len(w) > 3]"
      ]
    },
    {
      "cell_type": "code",
      "execution_count": 42,
      "metadata": {
        "id": "VI5m4jqKbxaR",
        "outputId": "c84621f5-febf-46f4-df5a-21b95c23e909",
        "colab": {
          "base_uri": "https://localhost:8080/"
        }
      },
      "outputs": [
        {
          "output_type": "stream",
          "name": "stdout",
          "text": [
            "южноафриканский кейптаун победа сборная россия завершиться чемпионат среди бездомный финальный матч российский футболист впервые свой история стать чемпион обыграть команда казахстан счёт передавать news первенство принимать участие человек который представлять страна матч каждый который продолжаться минута проходить асфальтовый поле причём команда мочь играть мужчина женщина сборная россия провести турнир матч весь который добиться победа предыдущий чемпионат достижение российский команда скромный место место место\n"
          ]
        }
      ],
      "source": [
        "print(*remove_stopwords(lemmas))"
      ]
    },
    {
      "cell_type": "markdown",
      "metadata": {
        "id": "tawlOV_bbxaR"
      },
      "source": [
        "Если собрать все в одну функцию:"
      ]
    },
    {
      "cell_type": "code",
      "execution_count": 43,
      "metadata": {
        "id": "nQiXr5H7bxaR"
      },
      "outputs": [],
      "source": [
        "def clean_text(text):\n",
        "    tokens = words_only(text)\n",
        "    lemmas = lemmatize_text(tokens)\n",
        "\n",
        "    return remove_stopwords(lemmas)"
      ]
    },
    {
      "cell_type": "code",
      "execution_count": 44,
      "metadata": {
        "id": "0-HTDsQFbxaR",
        "outputId": "edb0e72b-6d87-430e-d3b8-a93aabf2ec67",
        "colab": {
          "base_uri": "https://localhost:8080/"
        }
      },
      "outputs": [
        {
          "output_type": "stream",
          "name": "stdout",
          "text": [
            "известный голливудский актёр майкл дуглас совершить неожиданный визит куба сообщать издание cubadebate цель поездка дуглас уточняться утверждаться лишь актёр посетить несколько памятный место число закусочный floridita который некогда любить бывать эрнест хемингуэй майкл дуглас также осмотреть достопримечательность исторический центр гавана понаблюдать процесс изготовление кубинский сигара табачный фабрика стоить отметить свободный посещение куба американский гражданин иметь родственник остров запретить американец поездка требоваться специальный разрешение государственный департамент получать дуглас разрешение сообщаться напомнить дуглас единственный знаменитый голливудский актёр посетить куба последний время ранее страна качество корреспондент журнал vanity fair прибыть визит пенна двукратный обладатель премия оскар намереваться взять интервью фидель кастро поездка пенный сопровождать известный филантроп дайана дженкинс\n"
          ]
        }
      ],
      "source": [
        "print(*clean_text(data.text[3]))"
      ]
    },
    {
      "cell_type": "markdown",
      "metadata": {
        "id": "WG8MmG4TbxaS"
      },
      "source": [
        "Если нужно предобработать большой объем текста, помимо кэширования может помочь распараллеливание, например, методом Pool библиотеки multiprocessing:"
      ]
    },
    {
      "cell_type": "code",
      "execution_count": 45,
      "metadata": {
        "id": "EfzEpdeobxaS",
        "outputId": "fa9137e0-b6bc-4811-862f-dc75d506a0e8",
        "colab": {
          "referenced_widgets": [
            "1a0fe2d4ccd6458d812bdb827f30c3bf",
            "b9b3a25044134964a7875441b391a6e0",
            "855d3c563cc249eb92172a26c2647782",
            "c72810f6a32c44dd8a921d7a2596caa5",
            "050a7668321543b78ee502722dbd48d2",
            "fc45042343f641aea893b90e9511818f",
            "ae3f1053b7fe4a4b8324b6793a53d313",
            "12917c04912a42b5ac24727453b774f8",
            "bb28f10e63824f2093ff57f465041828",
            "d581a58b238e4222af0728620163f444",
            "d017b3001eb849b19069338c9825d87b"
          ],
          "base_uri": "https://localhost:8080/",
          "height": 101
        }
      },
      "outputs": [
        {
          "output_type": "stream",
          "name": "stderr",
          "text": [
            "<ipython-input-45-98c156449f4b>:7: TqdmDeprecationWarning: This function will be removed in tqdm==5.0.0\n",
            "Please use `tqdm.notebook.tqdm` instead of `tqdm.tqdm_notebook`\n",
            "  lemmas = list(tqdm(p.imap(clean_text, data['text'][:N]), total=N))\n"
          ]
        },
        {
          "output_type": "display_data",
          "data": {
            "text/plain": [
              "  0%|          | 0/200 [00:00<?, ?it/s]"
            ],
            "application/vnd.jupyter.widget-view+json": {
              "version_major": 2,
              "version_minor": 0,
              "model_id": "1a0fe2d4ccd6458d812bdb827f30c3bf"
            }
          },
          "metadata": {}
        }
      ],
      "source": [
        "from multiprocessing import Pool\n",
        "from tqdm import tqdm_notebook as tqdm\n",
        "\n",
        "N = 200\n",
        "\n",
        "with Pool(4) as p:\n",
        "    lemmas = list(tqdm(p.imap(clean_text, data['text'][:N]), total=N))"
      ]
    },
    {
      "cell_type": "code",
      "execution_count": 46,
      "metadata": {
        "id": "3MUkN2KjbxaS",
        "outputId": "e720fc79-f618-43ac-9e3b-c7ff41893294",
        "colab": {
          "base_uri": "https://localhost:8080/",
          "height": 768
        }
      },
      "outputs": [
        {
          "output_type": "stream",
          "name": "stderr",
          "text": [
            "<ipython-input-46-bfeb12e8f3b8>:2: SettingWithCopyWarning: \n",
            "A value is trying to be set on a copy of a slice from a DataFrame.\n",
            "Try using .loc[row_indexer,col_indexer] = value instead\n",
            "\n",
            "See the caveats in the documentation: https://pandas.pydata.org/pandas-docs/stable/user_guide/indexing.html#returning-a-view-versus-a-copy\n",
            "  data['lemmas'] = lemmas\n"
          ]
        },
        {
          "output_type": "execute_result",
          "data": {
            "text/plain": [
              "                                                                                                                                                                                                                                                                                                                                                                                                                                                                                                                                                                                                                                                                                                                                                                                                                                text                                                                                                                                                                                                                                                                                                                                                                                                                                                                                                                                                                                                                                                                                                                                                                                                                           lemmas\n",
              "146  Русскоязычный рэпер из Латвии Денис Василенко, более известный как Johnyboy, в интервью журналисту Юрию Дудю рассказал о том, чем занимался после поражения в баттле с Мироном Федоровым, более известным как Оксимирон. Ролик опубликован на YouTube-канале «вДудь» в среду, 12 сентября. По словам исполнителя, после баттла, который состоялся в 2015 году, он долгое время жил в Англии, где работал барменом и официантом. Он был занят тем, что отдавал крупные долги. Рэпер также рассказал об одном из своих коллег, 65-летнем бармене, который очень плохо относится к России. Мужчина также в шутку называл своим лучшим другом президента России Владимира Путина и все время рассказывал один и тот же анекдот. «Анекдот был следующим: вчера в Кремле произошло ограбление. Единственное, что украли, — это рез...  [русскоязычный, рэпер, латвия, денис, василенко, известный, johnyboy, интервью, журналист, юрий, дудь, рассказать, заниматься, поражение, баттля, мирон, фёдоров, известный, оксимирон, ролик, опубликовать, youtube, канал, вдудь, среда, сентябрь, слово, исполнитель, баттлый, который, состояться, долгий, время, жить, англия, работать, бармен, официант, занятый, отдавать, крупный, долг, рэпер, также, рассказать, свой, коллега, летний, бармен, который, очень, плохо, относиться, россия, мужчина, также, шутка, называть, свой, хороший, друг, президент, россия, владимир, путин, время, рассказывать, анекдот, анекдот, следующий, вчера, кремль, произойти, ограбление, единственный, украсть, результат, следующий, выборы, процитировать, артист, слово, проявляться, отношение, иностранец, россия, демок...\n",
              "22   Астрофизики из Франции и США представили первое доказательство того, что Млечный Путь, вероятно, начал умирать. Исследование ученых опубликовано в журнале Astronomy & Astrophysics, а кратко о нем сообщает издание New Scientist. Астрономы пришли к выводу, что в течение полутора-двух миллиардов лет после того, как примерно десять миллиардов лет назад сформировался толстый диск Галактики, в ней в десятки раз снизилась скорость звездообразования. После этого рождение светил возобновилось, но шло гораздо более медленными темпами и сформировало тонкий диск. К своим выводам ученые пришли, проанализировав данные каталога SDSS (Sloan Digital Sky Survey). Галактика может перестать расти даже тогда, когда у нее остаются запасы газа для образования новых звезд. Причиной угасания активности Млечног...  [астрофизик, франция, представить, первый, доказательство, млечный, путь, вероятно, начать, умирать, исследование, учёный, опубликовать, журнал, astronomy, astrophysics, кратко, немой, сообщать, издание, scientist, астроном, прислать, вывод, течение, полтора, миллиард, примерно, десять, миллиард, назад, сформироваться, толстый, диск, галактика, десятка, снизиться, скорость, звездообразование, рождение, светить, возобновиться, идти, гораздо, медленный, темп, сформировать, тонкий, диск, свой, вывод, учёный, прислать, проанализировать, дать, каталог, sdss, sloan, digital, survey, галактика, мочь, перестать, расти, оставаться, запас, образование, новый, звезда, причина, угасание, активность, млечный, путь, мнение, астроном, мочь, необычный, динамика, тонкий, толстый, диск, звездообразовани...\n",
              "41   Средневзвешенный курс доллара в ходе торгов на Московской бирже 30 января к 11:30 по московскому времени вырос на 68 копеек по сравнению с предыдущим днем и достиг 35,2448 рубля. К 12:00 по Москве стоимость американской валюты несколько снизилась и составила 35,2130 рубля. Курс евро на валютных торгах по-прежнему колеблется вблизи отметки 48 рублей. В начале торгов стоимость европейской валюты превышала этот уровень, а к 12:05 достигала 47,9670 рубля. Официальные курсы доллара и евро на 31 января в Банке России пока не опубликовали. Последние два дня ЦБ снижает стоимость обеих валют; на 30 января курс доллара был уменьшен на шесть копеек до 34,5633 рубля, а евро — на 15 копеек до 47,2238 рубля. 29 января Федеральная резервная система США объявила о дальнейшем сворачивании антикризисной...  [средневзвешенный, курс, доллар, торг, московский, биржа, январь, московский, время, вырасти, копейка, сравнение, предыдущий, день, достигнуть, рубль, москва, стоимость, американский, валюта, несколько, снизиться, составить, рубль, курс, евро, валютный, торг, прежний, колебаться, вблизи, отметка, рубль, начало, торг, стоимость, европейский, валюта, превышать, уровень, достигать, рубль, официальный, курс, доллар, евро, январь, банк, россия, пока, опубликовать, последний, день, снижать, стоимость, валюта, январь, курс, доллар, уменьшить, шесть, копейка, рубль, евро, копейка, рубль, январь, федеральный, резервный, система, объявить, дальнейший, сворачивание, антикризисный, программа, снижение, ежемесячный, объём, выкуп, облигация, миллиард, доллар, миллиард, сообщение, мировой, фондовый, ..."
            ],
            "text/html": [
              "\n",
              "  <div id=\"df-45f8baba-3d6f-4998-9468-bb0e305add2f\" class=\"colab-df-container\">\n",
              "    <div>\n",
              "<style scoped>\n",
              "    .dataframe tbody tr th:only-of-type {\n",
              "        vertical-align: middle;\n",
              "    }\n",
              "\n",
              "    .dataframe tbody tr th {\n",
              "        vertical-align: top;\n",
              "    }\n",
              "\n",
              "    .dataframe thead th {\n",
              "        text-align: right;\n",
              "    }\n",
              "</style>\n",
              "<table border=\"1\" class=\"dataframe\">\n",
              "  <thead>\n",
              "    <tr style=\"text-align: right;\">\n",
              "      <th></th>\n",
              "      <th>text</th>\n",
              "      <th>lemmas</th>\n",
              "    </tr>\n",
              "  </thead>\n",
              "  <tbody>\n",
              "    <tr>\n",
              "      <th>146</th>\n",
              "      <td>Русскоязычный рэпер из Латвии Денис Василенко, более известный как Johnyboy, в интервью журналисту Юрию Дудю рассказал о том, чем занимался после поражения в баттле с Мироном Федоровым, более известным как Оксимирон. Ролик опубликован на YouTube-канале «вДудь» в среду, 12 сентября. По словам исполнителя, после баттла, который состоялся в 2015 году, он долгое время жил в Англии, где работал барменом и официантом. Он был занят тем, что отдавал крупные долги. Рэпер также рассказал об одном из своих коллег, 65-летнем бармене, который очень плохо относится к России. Мужчина также в шутку называл своим лучшим другом президента России Владимира Путина и все время рассказывал один и тот же анекдот. «Анекдот был следующим: вчера в Кремле произошло ограбление. Единственное, что украли, — это рез...</td>\n",
              "      <td>[русскоязычный, рэпер, латвия, денис, василенко, известный, johnyboy, интервью, журналист, юрий, дудь, рассказать, заниматься, поражение, баттля, мирон, фёдоров, известный, оксимирон, ролик, опубликовать, youtube, канал, вдудь, среда, сентябрь, слово, исполнитель, баттлый, который, состояться, долгий, время, жить, англия, работать, бармен, официант, занятый, отдавать, крупный, долг, рэпер, также, рассказать, свой, коллега, летний, бармен, который, очень, плохо, относиться, россия, мужчина, также, шутка, называть, свой, хороший, друг, президент, россия, владимир, путин, время, рассказывать, анекдот, анекдот, следующий, вчера, кремль, произойти, ограбление, единственный, украсть, результат, следующий, выборы, процитировать, артист, слово, проявляться, отношение, иностранец, россия, демок...</td>\n",
              "    </tr>\n",
              "    <tr>\n",
              "      <th>22</th>\n",
              "      <td>Астрофизики из Франции и США представили первое доказательство того, что Млечный Путь, вероятно, начал умирать. Исследование ученых опубликовано в журнале Astronomy &amp; Astrophysics, а кратко о нем сообщает издание New Scientist. Астрономы пришли к выводу, что в течение полутора-двух миллиардов лет после того, как примерно десять миллиардов лет назад сформировался толстый диск Галактики, в ней в десятки раз снизилась скорость звездообразования. После этого рождение светил возобновилось, но шло гораздо более медленными темпами и сформировало тонкий диск. К своим выводам ученые пришли, проанализировав данные каталога SDSS (Sloan Digital Sky Survey). Галактика может перестать расти даже тогда, когда у нее остаются запасы газа для образования новых звезд. Причиной угасания активности Млечног...</td>\n",
              "      <td>[астрофизик, франция, представить, первый, доказательство, млечный, путь, вероятно, начать, умирать, исследование, учёный, опубликовать, журнал, astronomy, astrophysics, кратко, немой, сообщать, издание, scientist, астроном, прислать, вывод, течение, полтора, миллиард, примерно, десять, миллиард, назад, сформироваться, толстый, диск, галактика, десятка, снизиться, скорость, звездообразование, рождение, светить, возобновиться, идти, гораздо, медленный, темп, сформировать, тонкий, диск, свой, вывод, учёный, прислать, проанализировать, дать, каталог, sdss, sloan, digital, survey, галактика, мочь, перестать, расти, оставаться, запас, образование, новый, звезда, причина, угасание, активность, млечный, путь, мнение, астроном, мочь, необычный, динамика, тонкий, толстый, диск, звездообразовани...</td>\n",
              "    </tr>\n",
              "    <tr>\n",
              "      <th>41</th>\n",
              "      <td>Средневзвешенный курс доллара в ходе торгов на Московской бирже 30 января к 11:30 по московскому времени вырос на 68 копеек по сравнению с предыдущим днем и достиг 35,2448 рубля. К 12:00 по Москве стоимость американской валюты несколько снизилась и составила 35,2130 рубля. Курс евро на валютных торгах по-прежнему колеблется вблизи отметки 48 рублей. В начале торгов стоимость европейской валюты превышала этот уровень, а к 12:05 достигала 47,9670 рубля. Официальные курсы доллара и евро на 31 января в Банке России пока не опубликовали. Последние два дня ЦБ снижает стоимость обеих валют; на 30 января курс доллара был уменьшен на шесть копеек до 34,5633 рубля, а евро — на 15 копеек до 47,2238 рубля. 29 января Федеральная резервная система США объявила о дальнейшем сворачивании антикризисной...</td>\n",
              "      <td>[средневзвешенный, курс, доллар, торг, московский, биржа, январь, московский, время, вырасти, копейка, сравнение, предыдущий, день, достигнуть, рубль, москва, стоимость, американский, валюта, несколько, снизиться, составить, рубль, курс, евро, валютный, торг, прежний, колебаться, вблизи, отметка, рубль, начало, торг, стоимость, европейский, валюта, превышать, уровень, достигать, рубль, официальный, курс, доллар, евро, январь, банк, россия, пока, опубликовать, последний, день, снижать, стоимость, валюта, январь, курс, доллар, уменьшить, шесть, копейка, рубль, евро, копейка, рубль, январь, федеральный, резервный, система, объявить, дальнейший, сворачивание, антикризисный, программа, снижение, ежемесячный, объём, выкуп, облигация, миллиард, доллар, миллиард, сообщение, мировой, фондовый, ...</td>\n",
              "    </tr>\n",
              "  </tbody>\n",
              "</table>\n",
              "</div>\n",
              "    <div class=\"colab-df-buttons\">\n",
              "\n",
              "  <div class=\"colab-df-container\">\n",
              "    <button class=\"colab-df-convert\" onclick=\"convertToInteractive('df-45f8baba-3d6f-4998-9468-bb0e305add2f')\"\n",
              "            title=\"Convert this dataframe to an interactive table.\"\n",
              "            style=\"display:none;\">\n",
              "\n",
              "  <svg xmlns=\"http://www.w3.org/2000/svg\" height=\"24px\" viewBox=\"0 -960 960 960\">\n",
              "    <path d=\"M120-120v-720h720v720H120Zm60-500h600v-160H180v160Zm220 220h160v-160H400v160Zm0 220h160v-160H400v160ZM180-400h160v-160H180v160Zm440 0h160v-160H620v160ZM180-180h160v-160H180v160Zm440 0h160v-160H620v160Z\"/>\n",
              "  </svg>\n",
              "    </button>\n",
              "\n",
              "  <style>\n",
              "    .colab-df-container {\n",
              "      display:flex;\n",
              "      gap: 12px;\n",
              "    }\n",
              "\n",
              "    .colab-df-convert {\n",
              "      background-color: #E8F0FE;\n",
              "      border: none;\n",
              "      border-radius: 50%;\n",
              "      cursor: pointer;\n",
              "      display: none;\n",
              "      fill: #1967D2;\n",
              "      height: 32px;\n",
              "      padding: 0 0 0 0;\n",
              "      width: 32px;\n",
              "    }\n",
              "\n",
              "    .colab-df-convert:hover {\n",
              "      background-color: #E2EBFA;\n",
              "      box-shadow: 0px 1px 2px rgba(60, 64, 67, 0.3), 0px 1px 3px 1px rgba(60, 64, 67, 0.15);\n",
              "      fill: #174EA6;\n",
              "    }\n",
              "\n",
              "    .colab-df-buttons div {\n",
              "      margin-bottom: 4px;\n",
              "    }\n",
              "\n",
              "    [theme=dark] .colab-df-convert {\n",
              "      background-color: #3B4455;\n",
              "      fill: #D2E3FC;\n",
              "    }\n",
              "\n",
              "    [theme=dark] .colab-df-convert:hover {\n",
              "      background-color: #434B5C;\n",
              "      box-shadow: 0px 1px 3px 1px rgba(0, 0, 0, 0.15);\n",
              "      filter: drop-shadow(0px 1px 2px rgba(0, 0, 0, 0.3));\n",
              "      fill: #FFFFFF;\n",
              "    }\n",
              "  </style>\n",
              "\n",
              "    <script>\n",
              "      const buttonEl =\n",
              "        document.querySelector('#df-45f8baba-3d6f-4998-9468-bb0e305add2f button.colab-df-convert');\n",
              "      buttonEl.style.display =\n",
              "        google.colab.kernel.accessAllowed ? 'block' : 'none';\n",
              "\n",
              "      async function convertToInteractive(key) {\n",
              "        const element = document.querySelector('#df-45f8baba-3d6f-4998-9468-bb0e305add2f');\n",
              "        const dataTable =\n",
              "          await google.colab.kernel.invokeFunction('convertToInteractive',\n",
              "                                                    [key], {});\n",
              "        if (!dataTable) return;\n",
              "\n",
              "        const docLinkHtml = 'Like what you see? Visit the ' +\n",
              "          '<a target=\"_blank\" href=https://colab.research.google.com/notebooks/data_table.ipynb>data table notebook</a>'\n",
              "          + ' to learn more about interactive tables.';\n",
              "        element.innerHTML = '';\n",
              "        dataTable['output_type'] = 'display_data';\n",
              "        await google.colab.output.renderOutput(dataTable, element);\n",
              "        const docLink = document.createElement('div');\n",
              "        docLink.innerHTML = docLinkHtml;\n",
              "        element.appendChild(docLink);\n",
              "      }\n",
              "    </script>\n",
              "  </div>\n",
              "\n",
              "\n",
              "<div id=\"df-79c53b50-bc21-459e-94f6-958826dbe047\">\n",
              "  <button class=\"colab-df-quickchart\" onclick=\"quickchart('df-79c53b50-bc21-459e-94f6-958826dbe047')\"\n",
              "            title=\"Suggest charts\"\n",
              "            style=\"display:none;\">\n",
              "\n",
              "<svg xmlns=\"http://www.w3.org/2000/svg\" height=\"24px\"viewBox=\"0 0 24 24\"\n",
              "     width=\"24px\">\n",
              "    <g>\n",
              "        <path d=\"M19 3H5c-1.1 0-2 .9-2 2v14c0 1.1.9 2 2 2h14c1.1 0 2-.9 2-2V5c0-1.1-.9-2-2-2zM9 17H7v-7h2v7zm4 0h-2V7h2v10zm4 0h-2v-4h2v4z\"/>\n",
              "    </g>\n",
              "</svg>\n",
              "  </button>\n",
              "\n",
              "<style>\n",
              "  .colab-df-quickchart {\n",
              "      --bg-color: #E8F0FE;\n",
              "      --fill-color: #1967D2;\n",
              "      --hover-bg-color: #E2EBFA;\n",
              "      --hover-fill-color: #174EA6;\n",
              "      --disabled-fill-color: #AAA;\n",
              "      --disabled-bg-color: #DDD;\n",
              "  }\n",
              "\n",
              "  [theme=dark] .colab-df-quickchart {\n",
              "      --bg-color: #3B4455;\n",
              "      --fill-color: #D2E3FC;\n",
              "      --hover-bg-color: #434B5C;\n",
              "      --hover-fill-color: #FFFFFF;\n",
              "      --disabled-bg-color: #3B4455;\n",
              "      --disabled-fill-color: #666;\n",
              "  }\n",
              "\n",
              "  .colab-df-quickchart {\n",
              "    background-color: var(--bg-color);\n",
              "    border: none;\n",
              "    border-radius: 50%;\n",
              "    cursor: pointer;\n",
              "    display: none;\n",
              "    fill: var(--fill-color);\n",
              "    height: 32px;\n",
              "    padding: 0;\n",
              "    width: 32px;\n",
              "  }\n",
              "\n",
              "  .colab-df-quickchart:hover {\n",
              "    background-color: var(--hover-bg-color);\n",
              "    box-shadow: 0 1px 2px rgba(60, 64, 67, 0.3), 0 1px 3px 1px rgba(60, 64, 67, 0.15);\n",
              "    fill: var(--button-hover-fill-color);\n",
              "  }\n",
              "\n",
              "  .colab-df-quickchart-complete:disabled,\n",
              "  .colab-df-quickchart-complete:disabled:hover {\n",
              "    background-color: var(--disabled-bg-color);\n",
              "    fill: var(--disabled-fill-color);\n",
              "    box-shadow: none;\n",
              "  }\n",
              "\n",
              "  .colab-df-spinner {\n",
              "    border: 2px solid var(--fill-color);\n",
              "    border-color: transparent;\n",
              "    border-bottom-color: var(--fill-color);\n",
              "    animation:\n",
              "      spin 1s steps(1) infinite;\n",
              "  }\n",
              "\n",
              "  @keyframes spin {\n",
              "    0% {\n",
              "      border-color: transparent;\n",
              "      border-bottom-color: var(--fill-color);\n",
              "      border-left-color: var(--fill-color);\n",
              "    }\n",
              "    20% {\n",
              "      border-color: transparent;\n",
              "      border-left-color: var(--fill-color);\n",
              "      border-top-color: var(--fill-color);\n",
              "    }\n",
              "    30% {\n",
              "      border-color: transparent;\n",
              "      border-left-color: var(--fill-color);\n",
              "      border-top-color: var(--fill-color);\n",
              "      border-right-color: var(--fill-color);\n",
              "    }\n",
              "    40% {\n",
              "      border-color: transparent;\n",
              "      border-right-color: var(--fill-color);\n",
              "      border-top-color: var(--fill-color);\n",
              "    }\n",
              "    60% {\n",
              "      border-color: transparent;\n",
              "      border-right-color: var(--fill-color);\n",
              "    }\n",
              "    80% {\n",
              "      border-color: transparent;\n",
              "      border-right-color: var(--fill-color);\n",
              "      border-bottom-color: var(--fill-color);\n",
              "    }\n",
              "    90% {\n",
              "      border-color: transparent;\n",
              "      border-bottom-color: var(--fill-color);\n",
              "    }\n",
              "  }\n",
              "</style>\n",
              "\n",
              "  <script>\n",
              "    async function quickchart(key) {\n",
              "      const quickchartButtonEl =\n",
              "        document.querySelector('#' + key + ' button');\n",
              "      quickchartButtonEl.disabled = true;  // To prevent multiple clicks.\n",
              "      quickchartButtonEl.classList.add('colab-df-spinner');\n",
              "      try {\n",
              "        const charts = await google.colab.kernel.invokeFunction(\n",
              "            'suggestCharts', [key], {});\n",
              "      } catch (error) {\n",
              "        console.error('Error during call to suggestCharts:', error);\n",
              "      }\n",
              "      quickchartButtonEl.classList.remove('colab-df-spinner');\n",
              "      quickchartButtonEl.classList.add('colab-df-quickchart-complete');\n",
              "    }\n",
              "    (() => {\n",
              "      let quickchartButtonEl =\n",
              "        document.querySelector('#df-79c53b50-bc21-459e-94f6-958826dbe047 button');\n",
              "      quickchartButtonEl.style.display =\n",
              "        google.colab.kernel.accessAllowed ? 'block' : 'none';\n",
              "    })();\n",
              "  </script>\n",
              "</div>\n",
              "\n",
              "    </div>\n",
              "  </div>\n"
            ]
          },
          "metadata": {},
          "execution_count": 46
        }
      ],
      "source": [
        "data = data.head(200)\n",
        "data['lemmas'] = lemmas\n",
        "data.sample(3)"
      ]
    },
    {
      "cell_type": "markdown",
      "metadata": {
        "id": "nADMfeJNbxaS"
      },
      "source": [
        "### Итого:\n",
        "\n",
        "- посмотрели, как делать все стандартные этапы предобработки текста\n",
        "- научились работать с морфологоческими парсерами"
      ]
    },
    {
      "cell_type": "markdown",
      "metadata": {
        "id": "0wTjLOlc8ib0"
      },
      "source": [
        "<h1><center>Простые векторные модели текста</center></h1>\n",
        "\n",
        "<img src=\"images/pipeline_vec.png\" alt=\"pipeline_vec.png\" style=\"width: 400px;\"/>\n",
        "\n",
        "### Задача: классификация твитов по тональности\n",
        "\n",
        "В этом занятии мы познакомимся с распространенной задачей в анализе текстов: с классификацией текстов на классы.\n",
        "\n",
        "В рассмотренном тут примере классов будет два: положительный и отрицательный, такую постановку этой задачи обычно называют классификацией по тональности или sentiment analysis.\n",
        "\n",
        "Классификацию по тональности используют, например, в рекомендательных системах и при анализе отзывов клиентов, чтобы понять, понравилось ли людям кафе, кино, etc.\n",
        "\n",
        "Более подробно мы рассмотрим данную задачу и познакомимся с более сложными методами её решения в семинаре 3, а здесь разберем простые подходы, основанные на методе мешка слов.\n",
        "\n",
        "У нас есть [данные постов в твиттере](http://study.mokoron.com/), про из которых каждый указано, как он эмоционально окрашен: положительно или отрицательно.\n",
        "\n",
        "**Задача**: построить модель, которая по тексту поста предсказывает его эмоциональную окраску.\n",
        "\n",
        "\n",
        "Скачиваем данные: [положительные](https://www.dropbox.com/s/fnpq3z4bcnoktiv/positive.csv?dl=0), [отрицательные](https://www.dropbox.com/s/r6u59ljhhjdg6j0/negative.csv)."
      ]
    },
    {
      "cell_type": "code",
      "execution_count": 47,
      "metadata": {
        "id": "PuDVGp4O8ib1",
        "outputId": "84138ad0-859c-497f-dadb-82b176ece768",
        "colab": {
          "base_uri": "https://localhost:8080/"
        }
      },
      "outputs": [
        {
          "output_type": "stream",
          "name": "stdout",
          "text": [
            "--2023-12-31 18:06:55--  https://raw.githubusercontent.com/MentatRus/twitter-sentiment/master/positive.csv\n",
            "Resolving raw.githubusercontent.com (raw.githubusercontent.com)... 185.199.108.133, 185.199.109.133, 185.199.110.133, ...\n",
            "Connecting to raw.githubusercontent.com (raw.githubusercontent.com)|185.199.108.133|:443... connected.\n",
            "HTTP request sent, awaiting response... 200 OK\n",
            "Length: 26233379 (25M) [text/plain]\n",
            "Saving to: ‘positive.csv’\n",
            "\n",
            "positive.csv        100%[===================>]  25.02M  --.-KB/s    in 0.09s   \n",
            "\n",
            "2023-12-31 18:06:56 (280 MB/s) - ‘positive.csv’ saved [26233379/26233379]\n",
            "\n",
            "--2023-12-31 18:06:56--  https://raw.githubusercontent.com/MentatRus/twitter-sentiment/master/negative.csv\n",
            "Resolving raw.githubusercontent.com (raw.githubusercontent.com)... 185.199.111.133, 185.199.108.133, 185.199.109.133, ...\n",
            "Connecting to raw.githubusercontent.com (raw.githubusercontent.com)|185.199.111.133|:443... connected.\n",
            "HTTP request sent, awaiting response... 200 OK\n",
            "Length: 24450101 (23M) [text/plain]\n",
            "Saving to: ‘negative.csv’\n",
            "\n",
            "negative.csv        100%[===================>]  23.32M  --.-KB/s    in 0.08s   \n",
            "\n",
            "2023-12-31 18:06:56 (286 MB/s) - ‘negative.csv’ saved [24450101/24450101]\n",
            "\n"
          ]
        }
      ],
      "source": [
        "# если у вас линукс / мак / collab или ещё какая-то среда, в которой работает wget, можно так:\n",
        "!wget https://raw.githubusercontent.com/MentatRus/twitter-sentiment/master/positive.csv\n",
        "!wget  https://raw.githubusercontent.com/MentatRus/twitter-sentiment/master/negative.csv"
      ]
    },
    {
      "cell_type": "code",
      "execution_count": 48,
      "metadata": {
        "id": "QPp8_2Sy8ib5"
      },
      "outputs": [],
      "source": [
        "import pandas as pd\n",
        "import numpy as np\n",
        "from sklearn.metrics import *\n",
        "from sklearn.model_selection import train_test_split\n",
        "from sklearn.pipeline import Pipeline\n",
        "\n",
        "pd.set_option('display.max_columns', None)\n",
        "pd.set_option('display.expand_frame_repr', False)\n",
        "pd.set_option('max_colwidth', 800)"
      ]
    },
    {
      "cell_type": "code",
      "execution_count": 49,
      "metadata": {
        "id": "rsmSQOE98ib8",
        "colab": {
          "base_uri": "https://localhost:8080/"
        },
        "outputId": "47d99490-d54a-4aa8-e0f7-77f6a9181ce9"
      },
      "outputs": [
        {
          "output_type": "stream",
          "name": "stderr",
          "text": [
            "<ipython-input-49-55cabdb2bcbb>:5: FutureWarning: The frame.append method is deprecated and will be removed from pandas in a future version. Use pandas.concat instead.\n",
            "  df = positive.append(negative)\n"
          ]
        }
      ],
      "source": [
        "positive = pd.read_csv('./positive.csv', sep=';', usecols=[3], names=['text'])\n",
        "positive['label'] = ['positive'] * len(positive)\n",
        "negative = pd.read_csv('./negative.csv', sep=';', usecols=[3], names=['text'])\n",
        "negative['label'] = ['negative'] * len(negative)\n",
        "df = positive.append(negative)"
      ]
    },
    {
      "cell_type": "code",
      "execution_count": 50,
      "metadata": {
        "id": "znc9rKWk8ib-",
        "outputId": "300e7b92-dbe6-4d49-835a-e0d737d0925d",
        "colab": {
          "base_uri": "https://localhost:8080/",
          "height": 206
        }
      },
      "outputs": [
        {
          "output_type": "execute_result",
          "data": {
            "text/plain": [
              "                                                                                                          text     label\n",
              "67861                                                               закончилсяя 14 сезоонн ((\\nблиин , жалкооо  negative\n",
              "28897                            Пора бы начать готовиться к первому экзамену в среду:( http://t.co/6rzOoQwlxB  negative\n",
              "13379                              Даже мой кот любит Папиков. :D #котики, #papa_roach  http://t.co/lK2pYXiM87  positive\n",
              "49921  RT @ykilydigsa: жуйка, где в убунте посмотреть все расшаренные папки? а то их две, а нашёл одну только)  positive\n",
              "40923                                                     @bathroom_star это после майдана, точно тебе говорю)  positive"
            ],
            "text/html": [
              "\n",
              "  <div id=\"df-06068e68-8ab9-4e25-a7f3-45e0b7e7b32c\" class=\"colab-df-container\">\n",
              "    <div>\n",
              "<style scoped>\n",
              "    .dataframe tbody tr th:only-of-type {\n",
              "        vertical-align: middle;\n",
              "    }\n",
              "\n",
              "    .dataframe tbody tr th {\n",
              "        vertical-align: top;\n",
              "    }\n",
              "\n",
              "    .dataframe thead th {\n",
              "        text-align: right;\n",
              "    }\n",
              "</style>\n",
              "<table border=\"1\" class=\"dataframe\">\n",
              "  <thead>\n",
              "    <tr style=\"text-align: right;\">\n",
              "      <th></th>\n",
              "      <th>text</th>\n",
              "      <th>label</th>\n",
              "    </tr>\n",
              "  </thead>\n",
              "  <tbody>\n",
              "    <tr>\n",
              "      <th>67861</th>\n",
              "      <td>закончилсяя 14 сезоонн ((\\nблиин , жалкооо</td>\n",
              "      <td>negative</td>\n",
              "    </tr>\n",
              "    <tr>\n",
              "      <th>28897</th>\n",
              "      <td>Пора бы начать готовиться к первому экзамену в среду:( http://t.co/6rzOoQwlxB</td>\n",
              "      <td>negative</td>\n",
              "    </tr>\n",
              "    <tr>\n",
              "      <th>13379</th>\n",
              "      <td>Даже мой кот любит Папиков. :D #котики, #papa_roach  http://t.co/lK2pYXiM87</td>\n",
              "      <td>positive</td>\n",
              "    </tr>\n",
              "    <tr>\n",
              "      <th>49921</th>\n",
              "      <td>RT @ykilydigsa: жуйка, где в убунте посмотреть все расшаренные папки? а то их две, а нашёл одну только)</td>\n",
              "      <td>positive</td>\n",
              "    </tr>\n",
              "    <tr>\n",
              "      <th>40923</th>\n",
              "      <td>@bathroom_star это после майдана, точно тебе говорю)</td>\n",
              "      <td>positive</td>\n",
              "    </tr>\n",
              "  </tbody>\n",
              "</table>\n",
              "</div>\n",
              "    <div class=\"colab-df-buttons\">\n",
              "\n",
              "  <div class=\"colab-df-container\">\n",
              "    <button class=\"colab-df-convert\" onclick=\"convertToInteractive('df-06068e68-8ab9-4e25-a7f3-45e0b7e7b32c')\"\n",
              "            title=\"Convert this dataframe to an interactive table.\"\n",
              "            style=\"display:none;\">\n",
              "\n",
              "  <svg xmlns=\"http://www.w3.org/2000/svg\" height=\"24px\" viewBox=\"0 -960 960 960\">\n",
              "    <path d=\"M120-120v-720h720v720H120Zm60-500h600v-160H180v160Zm220 220h160v-160H400v160Zm0 220h160v-160H400v160ZM180-400h160v-160H180v160Zm440 0h160v-160H620v160ZM180-180h160v-160H180v160Zm440 0h160v-160H620v160Z\"/>\n",
              "  </svg>\n",
              "    </button>\n",
              "\n",
              "  <style>\n",
              "    .colab-df-container {\n",
              "      display:flex;\n",
              "      gap: 12px;\n",
              "    }\n",
              "\n",
              "    .colab-df-convert {\n",
              "      background-color: #E8F0FE;\n",
              "      border: none;\n",
              "      border-radius: 50%;\n",
              "      cursor: pointer;\n",
              "      display: none;\n",
              "      fill: #1967D2;\n",
              "      height: 32px;\n",
              "      padding: 0 0 0 0;\n",
              "      width: 32px;\n",
              "    }\n",
              "\n",
              "    .colab-df-convert:hover {\n",
              "      background-color: #E2EBFA;\n",
              "      box-shadow: 0px 1px 2px rgba(60, 64, 67, 0.3), 0px 1px 3px 1px rgba(60, 64, 67, 0.15);\n",
              "      fill: #174EA6;\n",
              "    }\n",
              "\n",
              "    .colab-df-buttons div {\n",
              "      margin-bottom: 4px;\n",
              "    }\n",
              "\n",
              "    [theme=dark] .colab-df-convert {\n",
              "      background-color: #3B4455;\n",
              "      fill: #D2E3FC;\n",
              "    }\n",
              "\n",
              "    [theme=dark] .colab-df-convert:hover {\n",
              "      background-color: #434B5C;\n",
              "      box-shadow: 0px 1px 3px 1px rgba(0, 0, 0, 0.15);\n",
              "      filter: drop-shadow(0px 1px 2px rgba(0, 0, 0, 0.3));\n",
              "      fill: #FFFFFF;\n",
              "    }\n",
              "  </style>\n",
              "\n",
              "    <script>\n",
              "      const buttonEl =\n",
              "        document.querySelector('#df-06068e68-8ab9-4e25-a7f3-45e0b7e7b32c button.colab-df-convert');\n",
              "      buttonEl.style.display =\n",
              "        google.colab.kernel.accessAllowed ? 'block' : 'none';\n",
              "\n",
              "      async function convertToInteractive(key) {\n",
              "        const element = document.querySelector('#df-06068e68-8ab9-4e25-a7f3-45e0b7e7b32c');\n",
              "        const dataTable =\n",
              "          await google.colab.kernel.invokeFunction('convertToInteractive',\n",
              "                                                    [key], {});\n",
              "        if (!dataTable) return;\n",
              "\n",
              "        const docLinkHtml = 'Like what you see? Visit the ' +\n",
              "          '<a target=\"_blank\" href=https://colab.research.google.com/notebooks/data_table.ipynb>data table notebook</a>'\n",
              "          + ' to learn more about interactive tables.';\n",
              "        element.innerHTML = '';\n",
              "        dataTable['output_type'] = 'display_data';\n",
              "        await google.colab.output.renderOutput(dataTable, element);\n",
              "        const docLink = document.createElement('div');\n",
              "        docLink.innerHTML = docLinkHtml;\n",
              "        element.appendChild(docLink);\n",
              "      }\n",
              "    </script>\n",
              "  </div>\n",
              "\n",
              "\n",
              "<div id=\"df-2d01fca5-3d4a-409c-b261-08cd0adf1bcd\">\n",
              "  <button class=\"colab-df-quickchart\" onclick=\"quickchart('df-2d01fca5-3d4a-409c-b261-08cd0adf1bcd')\"\n",
              "            title=\"Suggest charts\"\n",
              "            style=\"display:none;\">\n",
              "\n",
              "<svg xmlns=\"http://www.w3.org/2000/svg\" height=\"24px\"viewBox=\"0 0 24 24\"\n",
              "     width=\"24px\">\n",
              "    <g>\n",
              "        <path d=\"M19 3H5c-1.1 0-2 .9-2 2v14c0 1.1.9 2 2 2h14c1.1 0 2-.9 2-2V5c0-1.1-.9-2-2-2zM9 17H7v-7h2v7zm4 0h-2V7h2v10zm4 0h-2v-4h2v4z\"/>\n",
              "    </g>\n",
              "</svg>\n",
              "  </button>\n",
              "\n",
              "<style>\n",
              "  .colab-df-quickchart {\n",
              "      --bg-color: #E8F0FE;\n",
              "      --fill-color: #1967D2;\n",
              "      --hover-bg-color: #E2EBFA;\n",
              "      --hover-fill-color: #174EA6;\n",
              "      --disabled-fill-color: #AAA;\n",
              "      --disabled-bg-color: #DDD;\n",
              "  }\n",
              "\n",
              "  [theme=dark] .colab-df-quickchart {\n",
              "      --bg-color: #3B4455;\n",
              "      --fill-color: #D2E3FC;\n",
              "      --hover-bg-color: #434B5C;\n",
              "      --hover-fill-color: #FFFFFF;\n",
              "      --disabled-bg-color: #3B4455;\n",
              "      --disabled-fill-color: #666;\n",
              "  }\n",
              "\n",
              "  .colab-df-quickchart {\n",
              "    background-color: var(--bg-color);\n",
              "    border: none;\n",
              "    border-radius: 50%;\n",
              "    cursor: pointer;\n",
              "    display: none;\n",
              "    fill: var(--fill-color);\n",
              "    height: 32px;\n",
              "    padding: 0;\n",
              "    width: 32px;\n",
              "  }\n",
              "\n",
              "  .colab-df-quickchart:hover {\n",
              "    background-color: var(--hover-bg-color);\n",
              "    box-shadow: 0 1px 2px rgba(60, 64, 67, 0.3), 0 1px 3px 1px rgba(60, 64, 67, 0.15);\n",
              "    fill: var(--button-hover-fill-color);\n",
              "  }\n",
              "\n",
              "  .colab-df-quickchart-complete:disabled,\n",
              "  .colab-df-quickchart-complete:disabled:hover {\n",
              "    background-color: var(--disabled-bg-color);\n",
              "    fill: var(--disabled-fill-color);\n",
              "    box-shadow: none;\n",
              "  }\n",
              "\n",
              "  .colab-df-spinner {\n",
              "    border: 2px solid var(--fill-color);\n",
              "    border-color: transparent;\n",
              "    border-bottom-color: var(--fill-color);\n",
              "    animation:\n",
              "      spin 1s steps(1) infinite;\n",
              "  }\n",
              "\n",
              "  @keyframes spin {\n",
              "    0% {\n",
              "      border-color: transparent;\n",
              "      border-bottom-color: var(--fill-color);\n",
              "      border-left-color: var(--fill-color);\n",
              "    }\n",
              "    20% {\n",
              "      border-color: transparent;\n",
              "      border-left-color: var(--fill-color);\n",
              "      border-top-color: var(--fill-color);\n",
              "    }\n",
              "    30% {\n",
              "      border-color: transparent;\n",
              "      border-left-color: var(--fill-color);\n",
              "      border-top-color: var(--fill-color);\n",
              "      border-right-color: var(--fill-color);\n",
              "    }\n",
              "    40% {\n",
              "      border-color: transparent;\n",
              "      border-right-color: var(--fill-color);\n",
              "      border-top-color: var(--fill-color);\n",
              "    }\n",
              "    60% {\n",
              "      border-color: transparent;\n",
              "      border-right-color: var(--fill-color);\n",
              "    }\n",
              "    80% {\n",
              "      border-color: transparent;\n",
              "      border-right-color: var(--fill-color);\n",
              "      border-bottom-color: var(--fill-color);\n",
              "    }\n",
              "    90% {\n",
              "      border-color: transparent;\n",
              "      border-bottom-color: var(--fill-color);\n",
              "    }\n",
              "  }\n",
              "</style>\n",
              "\n",
              "  <script>\n",
              "    async function quickchart(key) {\n",
              "      const quickchartButtonEl =\n",
              "        document.querySelector('#' + key + ' button');\n",
              "      quickchartButtonEl.disabled = true;  // To prevent multiple clicks.\n",
              "      quickchartButtonEl.classList.add('colab-df-spinner');\n",
              "      try {\n",
              "        const charts = await google.colab.kernel.invokeFunction(\n",
              "            'suggestCharts', [key], {});\n",
              "      } catch (error) {\n",
              "        console.error('Error during call to suggestCharts:', error);\n",
              "      }\n",
              "      quickchartButtonEl.classList.remove('colab-df-spinner');\n",
              "      quickchartButtonEl.classList.add('colab-df-quickchart-complete');\n",
              "    }\n",
              "    (() => {\n",
              "      let quickchartButtonEl =\n",
              "        document.querySelector('#df-2d01fca5-3d4a-409c-b261-08cd0adf1bcd button');\n",
              "      quickchartButtonEl.style.display =\n",
              "        google.colab.kernel.accessAllowed ? 'block' : 'none';\n",
              "    })();\n",
              "  </script>\n",
              "</div>\n",
              "\n",
              "    </div>\n",
              "  </div>\n"
            ]
          },
          "metadata": {},
          "execution_count": 50
        }
      ],
      "source": [
        "df.sample(5)"
      ]
    },
    {
      "cell_type": "markdown",
      "metadata": {
        "id": "QXiMonnfbxaT"
      },
      "source": [
        "Воспользуемся функцией для предобработки текста, которую мы написали в прошлом семинаре:"
      ]
    },
    {
      "cell_type": "code",
      "execution_count": 51,
      "metadata": {
        "id": "h-_mXWfEbxaT"
      },
      "outputs": [],
      "source": [
        "import re\n",
        "from pymorphy2 import MorphAnalyzer\n",
        "from functools import lru_cache\n",
        "from nltk.corpus import stopwords\n",
        "\n",
        "m = MorphAnalyzer()\n",
        "regex = re.compile(\"[А-Яа-яA-z]+\")\n",
        "\n",
        "def words_only(text, regex=regex):\n",
        "    try:\n",
        "        return regex.findall(text.lower())\n",
        "    except:\n",
        "        return []"
      ]
    },
    {
      "cell_type": "code",
      "execution_count": 52,
      "metadata": {
        "id": "QCfXSovkbxaU"
      },
      "outputs": [],
      "source": [
        "@lru_cache(maxsize=128)\n",
        "def lemmatize_word(token, pymorphy=m):\n",
        "    return pymorphy.parse(token)[0].normal_form\n",
        "\n",
        "def lemmatize_text(text):\n",
        "    return [lemmatize_word(w) for w in text]\n",
        "\n",
        "\n",
        "mystopwords = stopwords.words('russian')\n",
        "def remove_stopwords(lemmas, stopwords = mystopwords):\n",
        "    return [w for w in lemmas if not w in stopwords and len(w) > 3]\n",
        "\n",
        "def clean_text(text):\n",
        "    tokens = words_only(text)\n",
        "    lemmas = lemmatize_text(tokens)\n",
        "\n",
        "    return ' '.join(remove_stopwords(lemmas))"
      ]
    },
    {
      "cell_type": "code",
      "execution_count": 53,
      "metadata": {
        "id": "yyckQ3Z9bxaU",
        "outputId": "f6e56442-543e-4fe3-987a-6903ec73cc53",
        "colab": {
          "base_uri": "https://localhost:8080/",
          "height": 293
        }
      },
      "outputs": [
        {
          "output_type": "stream",
          "name": "stderr",
          "text": [
            "100%|██████████| 226834/226834 [09:47<00:00, 385.83it/s]\n"
          ]
        },
        {
          "output_type": "execute_result",
          "data": {
            "text/plain": [
              "                                                                                                                                               text     label                                                                                lemmas\n",
              "84964                                                                     @Ekip_Sport Варя засыпает моментально. И даже дома сидит в нем спокойно )  positive                            ekip_sport варя засыпать моментально сидеть немой спокойно\n",
              "86099                       НУ,ЧТОЖ ВОЛОДЯ - У НАС ХОРОШИЕ ШАНСЫ ЗАХВАТИТЬ ВЕСЬ МИР,НАДЕЮСЬ ТЫ С ПАПОЙ ОБ ЭТОМ ГОВОРИЛ...))) http://t.co/eDBUrFEXsi  positive     чтожий володя хороший шанс захватить весь надеяться папа говорить http edburfexsi\n",
              "81937                                                                       Мама приготовила мне крылышки \\nНо мне же нельзя :( \\nКак её не обидеть  negative                                                     мама приготовить крылышко обидеть\n",
              "27682           @Nata_Oleynik круто вам)) а нам вообще сказали работать в Ростове, пока мы не откроемся.. но с другой стороны я рада, что в январе)  positive  nata_oleynik круто вообще сказать работать ростов пока открыться сторона рада январь\n",
              "56113  @dimloblife @megamegadenis это пирамида. В один момент она хлопается и потом вы бежите в асв. Вам нужны деньги, а денег нет ;) и ждете 2 нед  positive  dimloblife megamegadenis пирамида момент хлопаться бежать нужный деньга деньга ждать"
            ],
            "text/html": [
              "\n",
              "  <div id=\"df-1add6a66-edab-49f1-b273-6b6d9a428311\" class=\"colab-df-container\">\n",
              "    <div>\n",
              "<style scoped>\n",
              "    .dataframe tbody tr th:only-of-type {\n",
              "        vertical-align: middle;\n",
              "    }\n",
              "\n",
              "    .dataframe tbody tr th {\n",
              "        vertical-align: top;\n",
              "    }\n",
              "\n",
              "    .dataframe thead th {\n",
              "        text-align: right;\n",
              "    }\n",
              "</style>\n",
              "<table border=\"1\" class=\"dataframe\">\n",
              "  <thead>\n",
              "    <tr style=\"text-align: right;\">\n",
              "      <th></th>\n",
              "      <th>text</th>\n",
              "      <th>label</th>\n",
              "      <th>lemmas</th>\n",
              "    </tr>\n",
              "  </thead>\n",
              "  <tbody>\n",
              "    <tr>\n",
              "      <th>84964</th>\n",
              "      <td>@Ekip_Sport Варя засыпает моментально. И даже дома сидит в нем спокойно )</td>\n",
              "      <td>positive</td>\n",
              "      <td>ekip_sport варя засыпать моментально сидеть немой спокойно</td>\n",
              "    </tr>\n",
              "    <tr>\n",
              "      <th>86099</th>\n",
              "      <td>НУ,ЧТОЖ ВОЛОДЯ - У НАС ХОРОШИЕ ШАНСЫ ЗАХВАТИТЬ ВЕСЬ МИР,НАДЕЮСЬ ТЫ С ПАПОЙ ОБ ЭТОМ ГОВОРИЛ...))) http://t.co/eDBUrFEXsi</td>\n",
              "      <td>positive</td>\n",
              "      <td>чтожий володя хороший шанс захватить весь надеяться папа говорить http edburfexsi</td>\n",
              "    </tr>\n",
              "    <tr>\n",
              "      <th>81937</th>\n",
              "      <td>Мама приготовила мне крылышки \\nНо мне же нельзя :( \\nКак её не обидеть</td>\n",
              "      <td>negative</td>\n",
              "      <td>мама приготовить крылышко обидеть</td>\n",
              "    </tr>\n",
              "    <tr>\n",
              "      <th>27682</th>\n",
              "      <td>@Nata_Oleynik круто вам)) а нам вообще сказали работать в Ростове, пока мы не откроемся.. но с другой стороны я рада, что в январе)</td>\n",
              "      <td>positive</td>\n",
              "      <td>nata_oleynik круто вообще сказать работать ростов пока открыться сторона рада январь</td>\n",
              "    </tr>\n",
              "    <tr>\n",
              "      <th>56113</th>\n",
              "      <td>@dimloblife @megamegadenis это пирамида. В один момент она хлопается и потом вы бежите в асв. Вам нужны деньги, а денег нет ;) и ждете 2 нед</td>\n",
              "      <td>positive</td>\n",
              "      <td>dimloblife megamegadenis пирамида момент хлопаться бежать нужный деньга деньга ждать</td>\n",
              "    </tr>\n",
              "  </tbody>\n",
              "</table>\n",
              "</div>\n",
              "    <div class=\"colab-df-buttons\">\n",
              "\n",
              "  <div class=\"colab-df-container\">\n",
              "    <button class=\"colab-df-convert\" onclick=\"convertToInteractive('df-1add6a66-edab-49f1-b273-6b6d9a428311')\"\n",
              "            title=\"Convert this dataframe to an interactive table.\"\n",
              "            style=\"display:none;\">\n",
              "\n",
              "  <svg xmlns=\"http://www.w3.org/2000/svg\" height=\"24px\" viewBox=\"0 -960 960 960\">\n",
              "    <path d=\"M120-120v-720h720v720H120Zm60-500h600v-160H180v160Zm220 220h160v-160H400v160Zm0 220h160v-160H400v160ZM180-400h160v-160H180v160Zm440 0h160v-160H620v160ZM180-180h160v-160H180v160Zm440 0h160v-160H620v160Z\"/>\n",
              "  </svg>\n",
              "    </button>\n",
              "\n",
              "  <style>\n",
              "    .colab-df-container {\n",
              "      display:flex;\n",
              "      gap: 12px;\n",
              "    }\n",
              "\n",
              "    .colab-df-convert {\n",
              "      background-color: #E8F0FE;\n",
              "      border: none;\n",
              "      border-radius: 50%;\n",
              "      cursor: pointer;\n",
              "      display: none;\n",
              "      fill: #1967D2;\n",
              "      height: 32px;\n",
              "      padding: 0 0 0 0;\n",
              "      width: 32px;\n",
              "    }\n",
              "\n",
              "    .colab-df-convert:hover {\n",
              "      background-color: #E2EBFA;\n",
              "      box-shadow: 0px 1px 2px rgba(60, 64, 67, 0.3), 0px 1px 3px 1px rgba(60, 64, 67, 0.15);\n",
              "      fill: #174EA6;\n",
              "    }\n",
              "\n",
              "    .colab-df-buttons div {\n",
              "      margin-bottom: 4px;\n",
              "    }\n",
              "\n",
              "    [theme=dark] .colab-df-convert {\n",
              "      background-color: #3B4455;\n",
              "      fill: #D2E3FC;\n",
              "    }\n",
              "\n",
              "    [theme=dark] .colab-df-convert:hover {\n",
              "      background-color: #434B5C;\n",
              "      box-shadow: 0px 1px 3px 1px rgba(0, 0, 0, 0.15);\n",
              "      filter: drop-shadow(0px 1px 2px rgba(0, 0, 0, 0.3));\n",
              "      fill: #FFFFFF;\n",
              "    }\n",
              "  </style>\n",
              "\n",
              "    <script>\n",
              "      const buttonEl =\n",
              "        document.querySelector('#df-1add6a66-edab-49f1-b273-6b6d9a428311 button.colab-df-convert');\n",
              "      buttonEl.style.display =\n",
              "        google.colab.kernel.accessAllowed ? 'block' : 'none';\n",
              "\n",
              "      async function convertToInteractive(key) {\n",
              "        const element = document.querySelector('#df-1add6a66-edab-49f1-b273-6b6d9a428311');\n",
              "        const dataTable =\n",
              "          await google.colab.kernel.invokeFunction('convertToInteractive',\n",
              "                                                    [key], {});\n",
              "        if (!dataTable) return;\n",
              "\n",
              "        const docLinkHtml = 'Like what you see? Visit the ' +\n",
              "          '<a target=\"_blank\" href=https://colab.research.google.com/notebooks/data_table.ipynb>data table notebook</a>'\n",
              "          + ' to learn more about interactive tables.';\n",
              "        element.innerHTML = '';\n",
              "        dataTable['output_type'] = 'display_data';\n",
              "        await google.colab.output.renderOutput(dataTable, element);\n",
              "        const docLink = document.createElement('div');\n",
              "        docLink.innerHTML = docLinkHtml;\n",
              "        element.appendChild(docLink);\n",
              "      }\n",
              "    </script>\n",
              "  </div>\n",
              "\n",
              "\n",
              "<div id=\"df-ab99acf3-0c02-4af4-9ec0-d0bdf8cdd920\">\n",
              "  <button class=\"colab-df-quickchart\" onclick=\"quickchart('df-ab99acf3-0c02-4af4-9ec0-d0bdf8cdd920')\"\n",
              "            title=\"Suggest charts\"\n",
              "            style=\"display:none;\">\n",
              "\n",
              "<svg xmlns=\"http://www.w3.org/2000/svg\" height=\"24px\"viewBox=\"0 0 24 24\"\n",
              "     width=\"24px\">\n",
              "    <g>\n",
              "        <path d=\"M19 3H5c-1.1 0-2 .9-2 2v14c0 1.1.9 2 2 2h14c1.1 0 2-.9 2-2V5c0-1.1-.9-2-2-2zM9 17H7v-7h2v7zm4 0h-2V7h2v10zm4 0h-2v-4h2v4z\"/>\n",
              "    </g>\n",
              "</svg>\n",
              "  </button>\n",
              "\n",
              "<style>\n",
              "  .colab-df-quickchart {\n",
              "      --bg-color: #E8F0FE;\n",
              "      --fill-color: #1967D2;\n",
              "      --hover-bg-color: #E2EBFA;\n",
              "      --hover-fill-color: #174EA6;\n",
              "      --disabled-fill-color: #AAA;\n",
              "      --disabled-bg-color: #DDD;\n",
              "  }\n",
              "\n",
              "  [theme=dark] .colab-df-quickchart {\n",
              "      --bg-color: #3B4455;\n",
              "      --fill-color: #D2E3FC;\n",
              "      --hover-bg-color: #434B5C;\n",
              "      --hover-fill-color: #FFFFFF;\n",
              "      --disabled-bg-color: #3B4455;\n",
              "      --disabled-fill-color: #666;\n",
              "  }\n",
              "\n",
              "  .colab-df-quickchart {\n",
              "    background-color: var(--bg-color);\n",
              "    border: none;\n",
              "    border-radius: 50%;\n",
              "    cursor: pointer;\n",
              "    display: none;\n",
              "    fill: var(--fill-color);\n",
              "    height: 32px;\n",
              "    padding: 0;\n",
              "    width: 32px;\n",
              "  }\n",
              "\n",
              "  .colab-df-quickchart:hover {\n",
              "    background-color: var(--hover-bg-color);\n",
              "    box-shadow: 0 1px 2px rgba(60, 64, 67, 0.3), 0 1px 3px 1px rgba(60, 64, 67, 0.15);\n",
              "    fill: var(--button-hover-fill-color);\n",
              "  }\n",
              "\n",
              "  .colab-df-quickchart-complete:disabled,\n",
              "  .colab-df-quickchart-complete:disabled:hover {\n",
              "    background-color: var(--disabled-bg-color);\n",
              "    fill: var(--disabled-fill-color);\n",
              "    box-shadow: none;\n",
              "  }\n",
              "\n",
              "  .colab-df-spinner {\n",
              "    border: 2px solid var(--fill-color);\n",
              "    border-color: transparent;\n",
              "    border-bottom-color: var(--fill-color);\n",
              "    animation:\n",
              "      spin 1s steps(1) infinite;\n",
              "  }\n",
              "\n",
              "  @keyframes spin {\n",
              "    0% {\n",
              "      border-color: transparent;\n",
              "      border-bottom-color: var(--fill-color);\n",
              "      border-left-color: var(--fill-color);\n",
              "    }\n",
              "    20% {\n",
              "      border-color: transparent;\n",
              "      border-left-color: var(--fill-color);\n",
              "      border-top-color: var(--fill-color);\n",
              "    }\n",
              "    30% {\n",
              "      border-color: transparent;\n",
              "      border-left-color: var(--fill-color);\n",
              "      border-top-color: var(--fill-color);\n",
              "      border-right-color: var(--fill-color);\n",
              "    }\n",
              "    40% {\n",
              "      border-color: transparent;\n",
              "      border-right-color: var(--fill-color);\n",
              "      border-top-color: var(--fill-color);\n",
              "    }\n",
              "    60% {\n",
              "      border-color: transparent;\n",
              "      border-right-color: var(--fill-color);\n",
              "    }\n",
              "    80% {\n",
              "      border-color: transparent;\n",
              "      border-right-color: var(--fill-color);\n",
              "      border-bottom-color: var(--fill-color);\n",
              "    }\n",
              "    90% {\n",
              "      border-color: transparent;\n",
              "      border-bottom-color: var(--fill-color);\n",
              "    }\n",
              "  }\n",
              "</style>\n",
              "\n",
              "  <script>\n",
              "    async function quickchart(key) {\n",
              "      const quickchartButtonEl =\n",
              "        document.querySelector('#' + key + ' button');\n",
              "      quickchartButtonEl.disabled = true;  // To prevent multiple clicks.\n",
              "      quickchartButtonEl.classList.add('colab-df-spinner');\n",
              "      try {\n",
              "        const charts = await google.colab.kernel.invokeFunction(\n",
              "            'suggestCharts', [key], {});\n",
              "      } catch (error) {\n",
              "        console.error('Error during call to suggestCharts:', error);\n",
              "      }\n",
              "      quickchartButtonEl.classList.remove('colab-df-spinner');\n",
              "      quickchartButtonEl.classList.add('colab-df-quickchart-complete');\n",
              "    }\n",
              "    (() => {\n",
              "      let quickchartButtonEl =\n",
              "        document.querySelector('#df-ab99acf3-0c02-4af4-9ec0-d0bdf8cdd920 button');\n",
              "      quickchartButtonEl.style.display =\n",
              "        google.colab.kernel.accessAllowed ? 'block' : 'none';\n",
              "    })();\n",
              "  </script>\n",
              "</div>\n",
              "\n",
              "    </div>\n",
              "  </div>\n"
            ]
          },
          "metadata": {},
          "execution_count": 53
        }
      ],
      "source": [
        "from multiprocessing import Pool\n",
        "from tqdm import tqdm\n",
        "\n",
        "with Pool(4) as p:\n",
        "    lemmas = list(tqdm(p.imap(clean_text, df['text']), total=len(df)))\n",
        "\n",
        "df['lemmas'] = lemmas\n",
        "df.sample(5)"
      ]
    },
    {
      "cell_type": "markdown",
      "metadata": {
        "id": "xALyFcNnbxaU"
      },
      "source": [
        "Разбиваем на train и test:"
      ]
    },
    {
      "cell_type": "code",
      "execution_count": 54,
      "metadata": {
        "id": "Q3MD0bex8icC"
      },
      "outputs": [],
      "source": [
        "x_train, x_test, y_train, y_test = train_test_split(df.lemmas, df.label)"
      ]
    },
    {
      "cell_type": "markdown",
      "metadata": {
        "id": "8ppAtTFc8icE"
      },
      "source": [
        "## Мешок слов (Bag of Words, BoW)\n"
      ]
    },
    {
      "cell_type": "code",
      "execution_count": 55,
      "metadata": {
        "id": "4gJLFKQ38icE"
      },
      "outputs": [],
      "source": [
        "from sklearn.linear_model import LogisticRegression\n",
        "from sklearn.feature_extraction.text import CountVectorizer"
      ]
    },
    {
      "cell_type": "markdown",
      "metadata": {
        "id": "2AMGIJ8C8icH"
      },
      "source": [
        "... Но сперва пару слов об n-граммах. Что такое n-граммы:"
      ]
    },
    {
      "cell_type": "code",
      "execution_count": 56,
      "metadata": {
        "id": "y0-y2A6k8icH"
      },
      "outputs": [],
      "source": [
        "from nltk import ngrams"
      ]
    },
    {
      "cell_type": "code",
      "execution_count": 57,
      "metadata": {
        "id": "d_lgEYzY8icJ",
        "outputId": "8050518c-94f9-4f7c-93ac-fd572458f3f9",
        "colab": {
          "base_uri": "https://localhost:8080/"
        }
      },
      "outputs": [
        {
          "output_type": "execute_result",
          "data": {
            "text/plain": [
              "[('Факультет',),\n",
              " ('компьютерных',),\n",
              " ('наук',),\n",
              " ('Высшей',),\n",
              " ('школы',),\n",
              " ('экономики',)]"
            ]
          },
          "metadata": {},
          "execution_count": 57
        }
      ],
      "source": [
        "sent = 'Факультет компьютерных наук Высшей школы экономики'.split()\n",
        "list(ngrams(sent, 1)) # униграммы"
      ]
    },
    {
      "cell_type": "code",
      "execution_count": 58,
      "metadata": {
        "id": "IDRi-68C8icM",
        "outputId": "fce36e99-347e-4cf7-85a6-39ac8302a343",
        "colab": {
          "base_uri": "https://localhost:8080/"
        }
      },
      "outputs": [
        {
          "output_type": "execute_result",
          "data": {
            "text/plain": [
              "[('Факультет', 'компьютерных'),\n",
              " ('компьютерных', 'наук'),\n",
              " ('наук', 'Высшей'),\n",
              " ('Высшей', 'школы'),\n",
              " ('школы', 'экономики')]"
            ]
          },
          "metadata": {},
          "execution_count": 58
        }
      ],
      "source": [
        "list(ngrams(sent, 2)) # биграммы"
      ]
    },
    {
      "cell_type": "code",
      "execution_count": 59,
      "metadata": {
        "id": "jaUeKBDh8icO",
        "outputId": "96f18872-fcbf-4e37-b075-05f513395cf8",
        "colab": {
          "base_uri": "https://localhost:8080/"
        }
      },
      "outputs": [
        {
          "output_type": "execute_result",
          "data": {
            "text/plain": [
              "[('Факультет', 'компьютерных', 'наук'),\n",
              " ('компьютерных', 'наук', 'Высшей'),\n",
              " ('наук', 'Высшей', 'школы'),\n",
              " ('Высшей', 'школы', 'экономики')]"
            ]
          },
          "metadata": {},
          "execution_count": 59
        }
      ],
      "source": [
        "list(ngrams(sent, 3)) # триграммы"
      ]
    },
    {
      "cell_type": "code",
      "execution_count": 60,
      "metadata": {
        "id": "Z325_XfX8icS",
        "outputId": "1e3593bb-1212-4236-a475-80aae29982ac",
        "colab": {
          "base_uri": "https://localhost:8080/"
        }
      },
      "outputs": [
        {
          "output_type": "execute_result",
          "data": {
            "text/plain": [
              "[('Факультет', 'компьютерных', 'наук', 'Высшей', 'школы'),\n",
              " ('компьютерных', 'наук', 'Высшей', 'школы', 'экономики')]"
            ]
          },
          "metadata": {},
          "execution_count": 60
        }
      ],
      "source": [
        "list(ngrams(sent, 5)) # ... пентаграммы?"
      ]
    },
    {
      "cell_type": "markdown",
      "metadata": {
        "id": "80h0e8FJ8icV"
      },
      "source": [
        "Итак, мы хотим преобразовать наши обработанные данные в вектора с помощью мешка слов. Мешок слов можно строить как для отдельных слов (лемм в нашем случае), так и для n-грамм, и это может улучшать качество.\n",
        "\n",
        "Объект `CountVectorizer` делает простую вещь:\n",
        "* строит для каждого документа (каждой пришедшей ему строки) вектор размерности `n`, где `n` -- количество слов или n-грам во всём корпусе\n",
        "* заполняет каждый i-тый элемент количеством вхождений слова в данный документ"
      ]
    },
    {
      "cell_type": "code",
      "execution_count": 61,
      "metadata": {
        "id": "0SQaMJbl8icW"
      },
      "outputs": [],
      "source": [
        "vec = CountVectorizer(ngram_range=(1, 1)) # строим BoW для слов\n",
        "bow = vec.fit_transform(x_train)"
      ]
    },
    {
      "cell_type": "markdown",
      "metadata": {
        "id": "g6eZOyAf8icY"
      },
      "source": [
        "ngram_range отвечает за то, какие n-граммы мы используем в качестве признаков:<br/>\n",
        "ngram_range=(1, 1) -- униграммы<br/>\n",
        "ngram_range=(3, 3) -- триграммы<br/>\n",
        "ngram_range=(1, 3) -- униграммы, биграммы и триграммы.\n",
        "\n",
        "В vec.vocabulary_ лежит словарь: соответствие слов и их индексов в словаре:"
      ]
    },
    {
      "cell_type": "code",
      "execution_count": 62,
      "metadata": {
        "id": "j8cncS9M8icY",
        "outputId": "53949f24-08e3-4684-a31e-9698a9fcc8ae",
        "colab": {
          "base_uri": "https://localhost:8080/"
        }
      },
      "outputs": [
        {
          "output_type": "execute_result",
          "data": {
            "text/plain": [
              "[('разбудить', 146038),\n",
              " ('убираться', 159337),\n",
              " ('мыть', 127074),\n",
              " ('отличный', 134916),\n",
              " ('день', 107159),\n",
              " ('акрополис', 92820),\n",
              " ('ждать', 110750),\n",
              " ('такси', 156198),\n",
              " ('ехать', 110513),\n",
              " ('обратно', 132522)]"
            ]
          },
          "metadata": {},
          "execution_count": 62
        }
      ],
      "source": [
        "list(vec.vocabulary_.items())[:10]"
      ]
    },
    {
      "cell_type": "code",
      "execution_count": 63,
      "metadata": {
        "id": "Phc1fm5lbxaW",
        "outputId": "da1ee059-098b-4d7d-d6b2-762b3b90a26e",
        "colab": {
          "base_uri": "https://localhost:8080/"
        }
      },
      "outputs": [
        {
          "output_type": "execute_result",
          "data": {
            "text/plain": [
              "<1x169395 sparse matrix of type '<class 'numpy.int64'>'\n",
              "\twith 3 stored elements in Compressed Sparse Row format>"
            ]
          },
          "metadata": {},
          "execution_count": 63
        }
      ],
      "source": [
        "bow[0]"
      ]
    },
    {
      "cell_type": "markdown",
      "metadata": {
        "id": "1flpUdCkbxaW"
      },
      "source": [
        "Теперь у нас есть вектора, на которых можно обучать модели!"
      ]
    },
    {
      "cell_type": "code",
      "execution_count": 64,
      "metadata": {
        "id": "t1Rq60E68ica",
        "outputId": "b4bd438b-dee2-4b1e-94c1-c36ea365ecf7",
        "colab": {
          "base_uri": "https://localhost:8080/",
          "height": 75
        }
      },
      "outputs": [
        {
          "output_type": "execute_result",
          "data": {
            "text/plain": [
              "LogisticRegression(max_iter=500, random_state=42)"
            ],
            "text/html": [
              "<style>#sk-container-id-1 {color: black;background-color: white;}#sk-container-id-1 pre{padding: 0;}#sk-container-id-1 div.sk-toggleable {background-color: white;}#sk-container-id-1 label.sk-toggleable__label {cursor: pointer;display: block;width: 100%;margin-bottom: 0;padding: 0.3em;box-sizing: border-box;text-align: center;}#sk-container-id-1 label.sk-toggleable__label-arrow:before {content: \"▸\";float: left;margin-right: 0.25em;color: #696969;}#sk-container-id-1 label.sk-toggleable__label-arrow:hover:before {color: black;}#sk-container-id-1 div.sk-estimator:hover label.sk-toggleable__label-arrow:before {color: black;}#sk-container-id-1 div.sk-toggleable__content {max-height: 0;max-width: 0;overflow: hidden;text-align: left;background-color: #f0f8ff;}#sk-container-id-1 div.sk-toggleable__content pre {margin: 0.2em;color: black;border-radius: 0.25em;background-color: #f0f8ff;}#sk-container-id-1 input.sk-toggleable__control:checked~div.sk-toggleable__content {max-height: 200px;max-width: 100%;overflow: auto;}#sk-container-id-1 input.sk-toggleable__control:checked~label.sk-toggleable__label-arrow:before {content: \"▾\";}#sk-container-id-1 div.sk-estimator input.sk-toggleable__control:checked~label.sk-toggleable__label {background-color: #d4ebff;}#sk-container-id-1 div.sk-label input.sk-toggleable__control:checked~label.sk-toggleable__label {background-color: #d4ebff;}#sk-container-id-1 input.sk-hidden--visually {border: 0;clip: rect(1px 1px 1px 1px);clip: rect(1px, 1px, 1px, 1px);height: 1px;margin: -1px;overflow: hidden;padding: 0;position: absolute;width: 1px;}#sk-container-id-1 div.sk-estimator {font-family: monospace;background-color: #f0f8ff;border: 1px dotted black;border-radius: 0.25em;box-sizing: border-box;margin-bottom: 0.5em;}#sk-container-id-1 div.sk-estimator:hover {background-color: #d4ebff;}#sk-container-id-1 div.sk-parallel-item::after {content: \"\";width: 100%;border-bottom: 1px solid gray;flex-grow: 1;}#sk-container-id-1 div.sk-label:hover label.sk-toggleable__label {background-color: #d4ebff;}#sk-container-id-1 div.sk-serial::before {content: \"\";position: absolute;border-left: 1px solid gray;box-sizing: border-box;top: 0;bottom: 0;left: 50%;z-index: 0;}#sk-container-id-1 div.sk-serial {display: flex;flex-direction: column;align-items: center;background-color: white;padding-right: 0.2em;padding-left: 0.2em;position: relative;}#sk-container-id-1 div.sk-item {position: relative;z-index: 1;}#sk-container-id-1 div.sk-parallel {display: flex;align-items: stretch;justify-content: center;background-color: white;position: relative;}#sk-container-id-1 div.sk-item::before, #sk-container-id-1 div.sk-parallel-item::before {content: \"\";position: absolute;border-left: 1px solid gray;box-sizing: border-box;top: 0;bottom: 0;left: 50%;z-index: -1;}#sk-container-id-1 div.sk-parallel-item {display: flex;flex-direction: column;z-index: 1;position: relative;background-color: white;}#sk-container-id-1 div.sk-parallel-item:first-child::after {align-self: flex-end;width: 50%;}#sk-container-id-1 div.sk-parallel-item:last-child::after {align-self: flex-start;width: 50%;}#sk-container-id-1 div.sk-parallel-item:only-child::after {width: 0;}#sk-container-id-1 div.sk-dashed-wrapped {border: 1px dashed gray;margin: 0 0.4em 0.5em 0.4em;box-sizing: border-box;padding-bottom: 0.4em;background-color: white;}#sk-container-id-1 div.sk-label label {font-family: monospace;font-weight: bold;display: inline-block;line-height: 1.2em;}#sk-container-id-1 div.sk-label-container {text-align: center;}#sk-container-id-1 div.sk-container {/* jupyter's `normalize.less` sets `[hidden] { display: none; }` but bootstrap.min.css set `[hidden] { display: none !important; }` so we also need the `!important` here to be able to override the default hidden behavior on the sphinx rendered scikit-learn.org. See: https://github.com/scikit-learn/scikit-learn/issues/21755 */display: inline-block !important;position: relative;}#sk-container-id-1 div.sk-text-repr-fallback {display: none;}</style><div id=\"sk-container-id-1\" class=\"sk-top-container\"><div class=\"sk-text-repr-fallback\"><pre>LogisticRegression(max_iter=500, random_state=42)</pre><b>In a Jupyter environment, please rerun this cell to show the HTML representation or trust the notebook. <br />On GitHub, the HTML representation is unable to render, please try loading this page with nbviewer.org.</b></div><div class=\"sk-container\" hidden><div class=\"sk-item\"><div class=\"sk-estimator sk-toggleable\"><input class=\"sk-toggleable__control sk-hidden--visually\" id=\"sk-estimator-id-1\" type=\"checkbox\" checked><label for=\"sk-estimator-id-1\" class=\"sk-toggleable__label sk-toggleable__label-arrow\">LogisticRegression</label><div class=\"sk-toggleable__content\"><pre>LogisticRegression(max_iter=500, random_state=42)</pre></div></div></div></div></div>"
            ]
          },
          "metadata": {},
          "execution_count": 64
        }
      ],
      "source": [
        "clf = LogisticRegression(random_state=42, max_iter=500)\n",
        "clf.fit(bow, y_train)"
      ]
    },
    {
      "cell_type": "markdown",
      "metadata": {
        "id": "PTSQUK60bxaW"
      },
      "source": [
        "Посмотрим на качество классификации на тестовой выборке. Для этого выведем classification_report из модуля [sklearn.metrics](https://scikit-learn.org/stable/modules/classes.html#sklearn-metrics-metrics)\n",
        "\n",
        "В качестве целевой метрики качества будем рассматривать macro average f1-score."
      ]
    },
    {
      "cell_type": "code",
      "execution_count": 65,
      "metadata": {
        "id": "Xf8gqHSD8icc",
        "outputId": "aa8be3df-5c8f-4cb8-80ca-27b0c9703289",
        "colab": {
          "base_uri": "https://localhost:8080/"
        }
      },
      "outputs": [
        {
          "output_type": "stream",
          "name": "stdout",
          "text": [
            "              precision    recall  f1-score   support\n",
            "\n",
            "    negative       0.75      0.73      0.74     28611\n",
            "    positive       0.73      0.75      0.74     28098\n",
            "\n",
            "    accuracy                           0.74     56709\n",
            "   macro avg       0.74      0.74      0.74     56709\n",
            "weighted avg       0.74      0.74      0.74     56709\n",
            "\n"
          ]
        }
      ],
      "source": [
        "pred = clf.predict(vec.transform(x_test))\n",
        "print(classification_report(pred, y_test))"
      ]
    },
    {
      "cell_type": "markdown",
      "metadata": {
        "id": "MdoG6YCr8icf"
      },
      "source": [
        "Попробуем сделать то же самое для триграмм:"
      ]
    },
    {
      "cell_type": "code",
      "execution_count": 66,
      "metadata": {
        "id": "3GUDAWcz8icg",
        "outputId": "04a5f043-203c-4ec7-9704-6b74176072ee",
        "colab": {
          "base_uri": "https://localhost:8080/"
        }
      },
      "outputs": [
        {
          "output_type": "stream",
          "name": "stdout",
          "text": [
            "              precision    recall  f1-score   support\n",
            "\n",
            "    negative       0.97      0.53      0.68     51597\n",
            "    positive       0.15      0.85      0.26      5112\n",
            "\n",
            "    accuracy                           0.56     56709\n",
            "   macro avg       0.56      0.69      0.47     56709\n",
            "weighted avg       0.90      0.56      0.65     56709\n",
            "\n"
          ]
        }
      ],
      "source": [
        "vec = CountVectorizer(ngram_range=(3, 3))\n",
        "bow = vec.fit_transform(x_train)\n",
        "clf = LogisticRegression(random_state=42, max_iter = 300)\n",
        "clf.fit(bow, y_train)\n",
        "pred = clf.predict(vec.transform(x_test))\n",
        "print(classification_report(pred, y_test))"
      ]
    },
    {
      "cell_type": "markdown",
      "metadata": {
        "id": "uO0bqtgPbxaX"
      },
      "source": [
        "Видим, что качество существенно хуже. Ниже мы поймем, почему это так."
      ]
    },
    {
      "cell_type": "markdown",
      "metadata": {
        "id": "4PTszK9h8ick"
      },
      "source": [
        "## TF-IDF векторизация"
      ]
    },
    {
      "cell_type": "markdown",
      "metadata": {
        "id": "xQ9Td4bw8icm"
      },
      "source": [
        "`TfidfVectorizer` делает то же, что и `CountVectorizer`, но в качестве значений – tf-idf каждого слова.\n",
        "\n",
        "Как считается tf-idf:\n",
        "\n",
        "TF (term frequency) – относительная частотность слова в документе:\n",
        "$$ TF(t,d) = \\frac{n_t}{\\sum_k n_k} $$\n",
        "\n",
        "`t` -- слово (term), `d` -- документ, $n_t$ -- количество вхождений слова, $n_k$ -- количество вхождений остальных слов\n",
        "\n",
        "IDF (inverse document frequency) – обратная частота документов, в которых есть это слово:\n",
        "$$ IDF(t, D) = \\mbox{log} \\frac{|D|}{|{d : t \\in d}|} $$\n",
        "\n",
        "`t` -- слово (term), `D` -- коллекция документов\n",
        "\n",
        "Перемножаем их:\n",
        "$$TFIDF(t,d,D) = TF(t,d) \\times IDF(i, D)$$\n",
        "\n",
        "Ключевая идея этого подхода – если слово часто встречается в одном документе, но в целом по корпусу встречается в небольшом\n",
        "количестве документов, у него высокий TF-IDF."
      ]
    },
    {
      "cell_type": "code",
      "execution_count": 67,
      "metadata": {
        "id": "Q8B_Q8qP8icm"
      },
      "outputs": [],
      "source": [
        "from sklearn.feature_extraction.text import TfidfVectorizer"
      ]
    },
    {
      "cell_type": "code",
      "execution_count": 68,
      "metadata": {
        "id": "Tn-S--vi8ico",
        "outputId": "d06b21ae-78bd-4f00-9d62-0bda36b44c0d",
        "colab": {
          "base_uri": "https://localhost:8080/"
        }
      },
      "outputs": [
        {
          "output_type": "stream",
          "name": "stdout",
          "text": [
            "              precision    recall  f1-score   support\n",
            "\n",
            "    negative       0.70      0.75      0.72     26442\n",
            "    positive       0.77      0.73      0.75     30267\n",
            "\n",
            "    accuracy                           0.74     56709\n",
            "   macro avg       0.73      0.74      0.73     56709\n",
            "weighted avg       0.74      0.74      0.74     56709\n",
            "\n"
          ]
        }
      ],
      "source": [
        "vec = TfidfVectorizer(ngram_range=(1, 1))\n",
        "bow = vec.fit_transform(x_train)\n",
        "clf = LogisticRegression(random_state=42, max_iter = 500)\n",
        "clf.fit(bow, y_train)\n",
        "pred = clf.predict(vec.transform(x_test))\n",
        "print(classification_report(pred, y_test))"
      ]
    },
    {
      "cell_type": "markdown",
      "metadata": {
        "id": "fXglD7lb8icq"
      },
      "source": [
        "В этот раз получилось хуже, чем с помощью простого CountVectorizer, то есть использование tf-idf не дало улучшений в качестве."
      ]
    },
    {
      "cell_type": "markdown",
      "metadata": {
        "id": "ETq8X_Tb8idz"
      },
      "source": [
        "## О важности эксплоративного анализа\n",
        "\n",
        "Иногда в ходе стандартного препроцессинга теряются важные признаки. Посмотрим, что будет если не убирать пунктуацию?"
      ]
    },
    {
      "cell_type": "code",
      "execution_count": 69,
      "metadata": {
        "id": "zNNR90btbxaX",
        "outputId": "050a9cd9-a483-4536-c8ad-d0edf7ce9c84",
        "colab": {
          "base_uri": "https://localhost:8080/",
          "height": 98
        }
      },
      "outputs": [
        {
          "output_type": "execute_result",
          "data": {
            "text/plain": [
              "                                                                                                                                                  text     label                                                                                         lemmas\n",
              "26964  RT @dubrovskiy001: Кому сделать сигну жми #RT :3\\n\\nблин мне не кого читать(( \\nребят #читаювзаимно, устроим #взаимныйфолловинг http://t.co/bb…  negative  dubrovskiy сделать сигну жать блин читать ребята читаювзаимно устроить взаимныйфолловинг http"
            ],
            "text/html": [
              "\n",
              "  <div id=\"df-e1b17fde-c94a-4758-8e35-b04a8f259f8d\" class=\"colab-df-container\">\n",
              "    <div>\n",
              "<style scoped>\n",
              "    .dataframe tbody tr th:only-of-type {\n",
              "        vertical-align: middle;\n",
              "    }\n",
              "\n",
              "    .dataframe tbody tr th {\n",
              "        vertical-align: top;\n",
              "    }\n",
              "\n",
              "    .dataframe thead th {\n",
              "        text-align: right;\n",
              "    }\n",
              "</style>\n",
              "<table border=\"1\" class=\"dataframe\">\n",
              "  <thead>\n",
              "    <tr style=\"text-align: right;\">\n",
              "      <th></th>\n",
              "      <th>text</th>\n",
              "      <th>label</th>\n",
              "      <th>lemmas</th>\n",
              "    </tr>\n",
              "  </thead>\n",
              "  <tbody>\n",
              "    <tr>\n",
              "      <th>26964</th>\n",
              "      <td>RT @dubrovskiy001: Кому сделать сигну жми #RT :3\\n\\nблин мне не кого читать(( \\nребят #читаювзаимно, устроим #взаимныйфолловинг http://t.co/bb…</td>\n",
              "      <td>negative</td>\n",
              "      <td>dubrovskiy сделать сигну жать блин читать ребята читаювзаимно устроить взаимныйфолловинг http</td>\n",
              "    </tr>\n",
              "  </tbody>\n",
              "</table>\n",
              "</div>\n",
              "    <div class=\"colab-df-buttons\">\n",
              "\n",
              "  <div class=\"colab-df-container\">\n",
              "    <button class=\"colab-df-convert\" onclick=\"convertToInteractive('df-e1b17fde-c94a-4758-8e35-b04a8f259f8d')\"\n",
              "            title=\"Convert this dataframe to an interactive table.\"\n",
              "            style=\"display:none;\">\n",
              "\n",
              "  <svg xmlns=\"http://www.w3.org/2000/svg\" height=\"24px\" viewBox=\"0 -960 960 960\">\n",
              "    <path d=\"M120-120v-720h720v720H120Zm60-500h600v-160H180v160Zm220 220h160v-160H400v160Zm0 220h160v-160H400v160ZM180-400h160v-160H180v160Zm440 0h160v-160H620v160ZM180-180h160v-160H180v160Zm440 0h160v-160H620v160Z\"/>\n",
              "  </svg>\n",
              "    </button>\n",
              "\n",
              "  <style>\n",
              "    .colab-df-container {\n",
              "      display:flex;\n",
              "      gap: 12px;\n",
              "    }\n",
              "\n",
              "    .colab-df-convert {\n",
              "      background-color: #E8F0FE;\n",
              "      border: none;\n",
              "      border-radius: 50%;\n",
              "      cursor: pointer;\n",
              "      display: none;\n",
              "      fill: #1967D2;\n",
              "      height: 32px;\n",
              "      padding: 0 0 0 0;\n",
              "      width: 32px;\n",
              "    }\n",
              "\n",
              "    .colab-df-convert:hover {\n",
              "      background-color: #E2EBFA;\n",
              "      box-shadow: 0px 1px 2px rgba(60, 64, 67, 0.3), 0px 1px 3px 1px rgba(60, 64, 67, 0.15);\n",
              "      fill: #174EA6;\n",
              "    }\n",
              "\n",
              "    .colab-df-buttons div {\n",
              "      margin-bottom: 4px;\n",
              "    }\n",
              "\n",
              "    [theme=dark] .colab-df-convert {\n",
              "      background-color: #3B4455;\n",
              "      fill: #D2E3FC;\n",
              "    }\n",
              "\n",
              "    [theme=dark] .colab-df-convert:hover {\n",
              "      background-color: #434B5C;\n",
              "      box-shadow: 0px 1px 3px 1px rgba(0, 0, 0, 0.15);\n",
              "      filter: drop-shadow(0px 1px 2px rgba(0, 0, 0, 0.3));\n",
              "      fill: #FFFFFF;\n",
              "    }\n",
              "  </style>\n",
              "\n",
              "    <script>\n",
              "      const buttonEl =\n",
              "        document.querySelector('#df-e1b17fde-c94a-4758-8e35-b04a8f259f8d button.colab-df-convert');\n",
              "      buttonEl.style.display =\n",
              "        google.colab.kernel.accessAllowed ? 'block' : 'none';\n",
              "\n",
              "      async function convertToInteractive(key) {\n",
              "        const element = document.querySelector('#df-e1b17fde-c94a-4758-8e35-b04a8f259f8d');\n",
              "        const dataTable =\n",
              "          await google.colab.kernel.invokeFunction('convertToInteractive',\n",
              "                                                    [key], {});\n",
              "        if (!dataTable) return;\n",
              "\n",
              "        const docLinkHtml = 'Like what you see? Visit the ' +\n",
              "          '<a target=\"_blank\" href=https://colab.research.google.com/notebooks/data_table.ipynb>data table notebook</a>'\n",
              "          + ' to learn more about interactive tables.';\n",
              "        element.innerHTML = '';\n",
              "        dataTable['output_type'] = 'display_data';\n",
              "        await google.colab.output.renderOutput(dataTable, element);\n",
              "        const docLink = document.createElement('div');\n",
              "        docLink.innerHTML = docLinkHtml;\n",
              "        element.appendChild(docLink);\n",
              "      }\n",
              "    </script>\n",
              "  </div>\n",
              "\n",
              "\n",
              "    </div>\n",
              "  </div>\n"
            ]
          },
          "metadata": {},
          "execution_count": 69
        }
      ],
      "source": [
        "df.sample()"
      ]
    },
    {
      "cell_type": "code",
      "execution_count": 70,
      "metadata": {
        "id": "-8uBG8pcbxaY",
        "outputId": "e771669b-59fb-4e5f-c0d0-37a1523d6d91",
        "colab": {
          "base_uri": "https://localhost:8080/",
          "height": 248
        }
      },
      "outputs": [
        {
          "output_type": "execute_result",
          "data": {
            "text/plain": [
              "                                                                                                                                                    text     label                                                                            lemmas                                                                                                                                        new_lemmas\n",
              "110693                                                          RT @Ryakhovskaya: Парни ушли играть к Мише\\nБросили нас\\nСидим с Машей, красим ногти\\n:(  negative           ryakhovskaya парень уйти играть миша бросить сидеть маша красить ноготь                                                          rt @ryakhovskaya: парни ушли играть к мише\\nбросили нас\\nсидим с машей, красим ногти\\n:(\n",
              "71129   RT @NeZaebalo: Постоянно хочу тыкнуть вилкой в попу моего мужика.\\n\\nОн по дому в трусах ходит, а попа у него такая хорошая(((\\n\\nПрям достойно…  negative  nezaebalo постоянно хотеть тыкнуть вилка мужик трус ходить хороший прям достойно  rt @nezaebalo: постоянно хочу тыкнуть вилкой в попу моего мужика.\\n\\nон по дому в трусах ходит, а попа у него такая хорошая(((\\n\\nпрям достойно…\n",
              "22921                                 Любить надо не ради денег, не ради кого-то, любить надо ради себя и ради второй половинки)) http://t.co/uXxjIJ5JbC  positive             любить ради деньга ради любить ради ради второй половинка http uxxjij                                любить надо не ради денег, не ради кого-то, любить надо ради себя и ради второй половинки)) http://t.co/uxxjij5jbc"
            ],
            "text/html": [
              "\n",
              "  <div id=\"df-178fb17c-e985-4318-bd57-43301c223bcd\" class=\"colab-df-container\">\n",
              "    <div>\n",
              "<style scoped>\n",
              "    .dataframe tbody tr th:only-of-type {\n",
              "        vertical-align: middle;\n",
              "    }\n",
              "\n",
              "    .dataframe tbody tr th {\n",
              "        vertical-align: top;\n",
              "    }\n",
              "\n",
              "    .dataframe thead th {\n",
              "        text-align: right;\n",
              "    }\n",
              "</style>\n",
              "<table border=\"1\" class=\"dataframe\">\n",
              "  <thead>\n",
              "    <tr style=\"text-align: right;\">\n",
              "      <th></th>\n",
              "      <th>text</th>\n",
              "      <th>label</th>\n",
              "      <th>lemmas</th>\n",
              "      <th>new_lemmas</th>\n",
              "    </tr>\n",
              "  </thead>\n",
              "  <tbody>\n",
              "    <tr>\n",
              "      <th>110693</th>\n",
              "      <td>RT @Ryakhovskaya: Парни ушли играть к Мише\\nБросили нас\\nСидим с Машей, красим ногти\\n:(</td>\n",
              "      <td>negative</td>\n",
              "      <td>ryakhovskaya парень уйти играть миша бросить сидеть маша красить ноготь</td>\n",
              "      <td>rt @ryakhovskaya: парни ушли играть к мише\\nбросили нас\\nсидим с машей, красим ногти\\n:(</td>\n",
              "    </tr>\n",
              "    <tr>\n",
              "      <th>71129</th>\n",
              "      <td>RT @NeZaebalo: Постоянно хочу тыкнуть вилкой в попу моего мужика.\\n\\nОн по дому в трусах ходит, а попа у него такая хорошая(((\\n\\nПрям достойно…</td>\n",
              "      <td>negative</td>\n",
              "      <td>nezaebalo постоянно хотеть тыкнуть вилка мужик трус ходить хороший прям достойно</td>\n",
              "      <td>rt @nezaebalo: постоянно хочу тыкнуть вилкой в попу моего мужика.\\n\\nон по дому в трусах ходит, а попа у него такая хорошая(((\\n\\nпрям достойно…</td>\n",
              "    </tr>\n",
              "    <tr>\n",
              "      <th>22921</th>\n",
              "      <td>Любить надо не ради денег, не ради кого-то, любить надо ради себя и ради второй половинки)) http://t.co/uXxjIJ5JbC</td>\n",
              "      <td>positive</td>\n",
              "      <td>любить ради деньга ради любить ради ради второй половинка http uxxjij</td>\n",
              "      <td>любить надо не ради денег, не ради кого-то, любить надо ради себя и ради второй половинки)) http://t.co/uxxjij5jbc</td>\n",
              "    </tr>\n",
              "  </tbody>\n",
              "</table>\n",
              "</div>\n",
              "    <div class=\"colab-df-buttons\">\n",
              "\n",
              "  <div class=\"colab-df-container\">\n",
              "    <button class=\"colab-df-convert\" onclick=\"convertToInteractive('df-178fb17c-e985-4318-bd57-43301c223bcd')\"\n",
              "            title=\"Convert this dataframe to an interactive table.\"\n",
              "            style=\"display:none;\">\n",
              "\n",
              "  <svg xmlns=\"http://www.w3.org/2000/svg\" height=\"24px\" viewBox=\"0 -960 960 960\">\n",
              "    <path d=\"M120-120v-720h720v720H120Zm60-500h600v-160H180v160Zm220 220h160v-160H400v160Zm0 220h160v-160H400v160ZM180-400h160v-160H180v160Zm440 0h160v-160H620v160ZM180-180h160v-160H180v160Zm440 0h160v-160H620v160Z\"/>\n",
              "  </svg>\n",
              "    </button>\n",
              "\n",
              "  <style>\n",
              "    .colab-df-container {\n",
              "      display:flex;\n",
              "      gap: 12px;\n",
              "    }\n",
              "\n",
              "    .colab-df-convert {\n",
              "      background-color: #E8F0FE;\n",
              "      border: none;\n",
              "      border-radius: 50%;\n",
              "      cursor: pointer;\n",
              "      display: none;\n",
              "      fill: #1967D2;\n",
              "      height: 32px;\n",
              "      padding: 0 0 0 0;\n",
              "      width: 32px;\n",
              "    }\n",
              "\n",
              "    .colab-df-convert:hover {\n",
              "      background-color: #E2EBFA;\n",
              "      box-shadow: 0px 1px 2px rgba(60, 64, 67, 0.3), 0px 1px 3px 1px rgba(60, 64, 67, 0.15);\n",
              "      fill: #174EA6;\n",
              "    }\n",
              "\n",
              "    .colab-df-buttons div {\n",
              "      margin-bottom: 4px;\n",
              "    }\n",
              "\n",
              "    [theme=dark] .colab-df-convert {\n",
              "      background-color: #3B4455;\n",
              "      fill: #D2E3FC;\n",
              "    }\n",
              "\n",
              "    [theme=dark] .colab-df-convert:hover {\n",
              "      background-color: #434B5C;\n",
              "      box-shadow: 0px 1px 3px 1px rgba(0, 0, 0, 0.15);\n",
              "      filter: drop-shadow(0px 1px 2px rgba(0, 0, 0, 0.3));\n",
              "      fill: #FFFFFF;\n",
              "    }\n",
              "  </style>\n",
              "\n",
              "    <script>\n",
              "      const buttonEl =\n",
              "        document.querySelector('#df-178fb17c-e985-4318-bd57-43301c223bcd button.colab-df-convert');\n",
              "      buttonEl.style.display =\n",
              "        google.colab.kernel.accessAllowed ? 'block' : 'none';\n",
              "\n",
              "      async function convertToInteractive(key) {\n",
              "        const element = document.querySelector('#df-178fb17c-e985-4318-bd57-43301c223bcd');\n",
              "        const dataTable =\n",
              "          await google.colab.kernel.invokeFunction('convertToInteractive',\n",
              "                                                    [key], {});\n",
              "        if (!dataTable) return;\n",
              "\n",
              "        const docLinkHtml = 'Like what you see? Visit the ' +\n",
              "          '<a target=\"_blank\" href=https://colab.research.google.com/notebooks/data_table.ipynb>data table notebook</a>'\n",
              "          + ' to learn more about interactive tables.';\n",
              "        element.innerHTML = '';\n",
              "        dataTable['output_type'] = 'display_data';\n",
              "        await google.colab.output.renderOutput(dataTable, element);\n",
              "        const docLink = document.createElement('div');\n",
              "        docLink.innerHTML = docLinkHtml;\n",
              "        element.appendChild(docLink);\n",
              "      }\n",
              "    </script>\n",
              "  </div>\n",
              "\n",
              "\n",
              "<div id=\"df-9e2ad14d-80b5-4966-b031-9b53468552c1\">\n",
              "  <button class=\"colab-df-quickchart\" onclick=\"quickchart('df-9e2ad14d-80b5-4966-b031-9b53468552c1')\"\n",
              "            title=\"Suggest charts\"\n",
              "            style=\"display:none;\">\n",
              "\n",
              "<svg xmlns=\"http://www.w3.org/2000/svg\" height=\"24px\"viewBox=\"0 0 24 24\"\n",
              "     width=\"24px\">\n",
              "    <g>\n",
              "        <path d=\"M19 3H5c-1.1 0-2 .9-2 2v14c0 1.1.9 2 2 2h14c1.1 0 2-.9 2-2V5c0-1.1-.9-2-2-2zM9 17H7v-7h2v7zm4 0h-2V7h2v10zm4 0h-2v-4h2v4z\"/>\n",
              "    </g>\n",
              "</svg>\n",
              "  </button>\n",
              "\n",
              "<style>\n",
              "  .colab-df-quickchart {\n",
              "      --bg-color: #E8F0FE;\n",
              "      --fill-color: #1967D2;\n",
              "      --hover-bg-color: #E2EBFA;\n",
              "      --hover-fill-color: #174EA6;\n",
              "      --disabled-fill-color: #AAA;\n",
              "      --disabled-bg-color: #DDD;\n",
              "  }\n",
              "\n",
              "  [theme=dark] .colab-df-quickchart {\n",
              "      --bg-color: #3B4455;\n",
              "      --fill-color: #D2E3FC;\n",
              "      --hover-bg-color: #434B5C;\n",
              "      --hover-fill-color: #FFFFFF;\n",
              "      --disabled-bg-color: #3B4455;\n",
              "      --disabled-fill-color: #666;\n",
              "  }\n",
              "\n",
              "  .colab-df-quickchart {\n",
              "    background-color: var(--bg-color);\n",
              "    border: none;\n",
              "    border-radius: 50%;\n",
              "    cursor: pointer;\n",
              "    display: none;\n",
              "    fill: var(--fill-color);\n",
              "    height: 32px;\n",
              "    padding: 0;\n",
              "    width: 32px;\n",
              "  }\n",
              "\n",
              "  .colab-df-quickchart:hover {\n",
              "    background-color: var(--hover-bg-color);\n",
              "    box-shadow: 0 1px 2px rgba(60, 64, 67, 0.3), 0 1px 3px 1px rgba(60, 64, 67, 0.15);\n",
              "    fill: var(--button-hover-fill-color);\n",
              "  }\n",
              "\n",
              "  .colab-df-quickchart-complete:disabled,\n",
              "  .colab-df-quickchart-complete:disabled:hover {\n",
              "    background-color: var(--disabled-bg-color);\n",
              "    fill: var(--disabled-fill-color);\n",
              "    box-shadow: none;\n",
              "  }\n",
              "\n",
              "  .colab-df-spinner {\n",
              "    border: 2px solid var(--fill-color);\n",
              "    border-color: transparent;\n",
              "    border-bottom-color: var(--fill-color);\n",
              "    animation:\n",
              "      spin 1s steps(1) infinite;\n",
              "  }\n",
              "\n",
              "  @keyframes spin {\n",
              "    0% {\n",
              "      border-color: transparent;\n",
              "      border-bottom-color: var(--fill-color);\n",
              "      border-left-color: var(--fill-color);\n",
              "    }\n",
              "    20% {\n",
              "      border-color: transparent;\n",
              "      border-left-color: var(--fill-color);\n",
              "      border-top-color: var(--fill-color);\n",
              "    }\n",
              "    30% {\n",
              "      border-color: transparent;\n",
              "      border-left-color: var(--fill-color);\n",
              "      border-top-color: var(--fill-color);\n",
              "      border-right-color: var(--fill-color);\n",
              "    }\n",
              "    40% {\n",
              "      border-color: transparent;\n",
              "      border-right-color: var(--fill-color);\n",
              "      border-top-color: var(--fill-color);\n",
              "    }\n",
              "    60% {\n",
              "      border-color: transparent;\n",
              "      border-right-color: var(--fill-color);\n",
              "    }\n",
              "    80% {\n",
              "      border-color: transparent;\n",
              "      border-right-color: var(--fill-color);\n",
              "      border-bottom-color: var(--fill-color);\n",
              "    }\n",
              "    90% {\n",
              "      border-color: transparent;\n",
              "      border-bottom-color: var(--fill-color);\n",
              "    }\n",
              "  }\n",
              "</style>\n",
              "\n",
              "  <script>\n",
              "    async function quickchart(key) {\n",
              "      const quickchartButtonEl =\n",
              "        document.querySelector('#' + key + ' button');\n",
              "      quickchartButtonEl.disabled = true;  // To prevent multiple clicks.\n",
              "      quickchartButtonEl.classList.add('colab-df-spinner');\n",
              "      try {\n",
              "        const charts = await google.colab.kernel.invokeFunction(\n",
              "            'suggestCharts', [key], {});\n",
              "      } catch (error) {\n",
              "        console.error('Error during call to suggestCharts:', error);\n",
              "      }\n",
              "      quickchartButtonEl.classList.remove('colab-df-spinner');\n",
              "      quickchartButtonEl.classList.add('colab-df-quickchart-complete');\n",
              "    }\n",
              "    (() => {\n",
              "      let quickchartButtonEl =\n",
              "        document.querySelector('#df-9e2ad14d-80b5-4966-b031-9b53468552c1 button');\n",
              "      quickchartButtonEl.style.display =\n",
              "        google.colab.kernel.accessAllowed ? 'block' : 'none';\n",
              "    })();\n",
              "  </script>\n",
              "</div>\n",
              "\n",
              "    </div>\n",
              "  </div>\n"
            ]
          },
          "metadata": {},
          "execution_count": 70
        }
      ],
      "source": [
        "df['new_lemmas'] = df.text.apply(lambda x: x.lower())\n",
        "df.sample(3)"
      ]
    },
    {
      "cell_type": "code",
      "execution_count": 71,
      "metadata": {
        "id": "omCZV8WhbxaY"
      },
      "outputs": [],
      "source": [
        "x_train, x_test, y_train, y_test = train_test_split(df.new_lemmas, df.label)"
      ]
    },
    {
      "cell_type": "code",
      "execution_count": 72,
      "metadata": {
        "id": "ue0DUsX18id0",
        "outputId": "8c048e39-2788-4b70-eb37-28209342d2fd",
        "colab": {
          "base_uri": "https://localhost:8080/"
        }
      },
      "outputs": [
        {
          "output_type": "stream",
          "name": "stderr",
          "text": [
            "/usr/local/lib/python3.10/dist-packages/sklearn/feature_extraction/text.py:528: UserWarning: The parameter 'token_pattern' will not be used since 'tokenizer' is not None'\n",
            "  warnings.warn(\n"
          ]
        },
        {
          "output_type": "stream",
          "name": "stdout",
          "text": [
            "              precision    recall  f1-score   support\n",
            "\n",
            "    negative       1.00      1.00      1.00     27755\n",
            "    positive       1.00      1.00      1.00     28954\n",
            "\n",
            "    accuracy                           1.00     56709\n",
            "   macro avg       1.00      1.00      1.00     56709\n",
            "weighted avg       1.00      1.00      1.00     56709\n",
            "\n"
          ]
        }
      ],
      "source": [
        "from nltk import word_tokenize\n",
        "\n",
        "vec = TfidfVectorizer(ngram_range=(1, 1), tokenizer=word_tokenize)\n",
        "bow = vec.fit_transform(x_train)\n",
        "clf = LogisticRegression(random_state=42, max_iter = 300)\n",
        "clf.fit(bow, y_train)\n",
        "pred = clf.predict(vec.transform(x_test))\n",
        "print(classification_report(pred, y_test))"
      ]
    },
    {
      "cell_type": "markdown",
      "metadata": {
        "id": "wymeD7-B8id3"
      },
      "source": [
        "Как можно видеть, если оставить пунктуацию, то все метрики равны 1."
      ]
    },
    {
      "cell_type": "code",
      "execution_count": 73,
      "metadata": {
        "id": "TzRu93HUbxaY",
        "outputId": "c53bf97d-6533-49ce-a214-7f53624577dd",
        "colab": {
          "base_uri": "https://localhost:8080/"
        }
      },
      "outputs": [
        {
          "output_type": "execute_result",
          "data": {
            "text/plain": [
              "(260257, 260257)"
            ]
          },
          "metadata": {},
          "execution_count": 73
        }
      ],
      "source": [
        "len(vec.vocabulary_), len(clf.coef_[0])"
      ]
    },
    {
      "cell_type": "code",
      "execution_count": 74,
      "metadata": {
        "id": "DGKuAvYR8id3",
        "outputId": "50f35f71-9931-4959-9203-1b4c1ceb670a",
        "colab": {
          "base_uri": "https://localhost:8080/"
        }
      },
      "outputs": [
        {
          "output_type": "execute_result",
          "data": {
            "text/plain": [
              "('как', -0.023549075841545666)"
            ]
          },
          "metadata": {},
          "execution_count": 74
        }
      ],
      "source": [
        "importances = list(zip(vec.vocabulary_, clf.coef_[0]))\n",
        "importances[0]"
      ]
    },
    {
      "cell_type": "code",
      "execution_count": 75,
      "metadata": {
        "id": "_a9ZrJ5WbxaY",
        "outputId": "662c4e64-92f3-4b1c-a75b-b45a974ca552",
        "colab": {
          "base_uri": "https://localhost:8080/"
        }
      },
      "outputs": [
        {
          "output_type": "execute_result",
          "data": {
            "text/plain": [
              "[('физика', 58.455870101182825),\n",
              " ('кашин', 26.92516655723967),\n",
              " ('заскринить', 10.624773314843745),\n",
              " ('//t.co/vcpbfny3tu', 9.126273431799557),\n",
              " ('//t.co/srjvym09vb', 7.7800622703099425),\n",
              " ('перед', 7.390267892490738),\n",
              " ('и', 7.354414390815188),\n",
              " ('биолоооогию', 5.885900299833554),\n",
              " ('alikasmekhova', 4.827218834417134),\n",
              " ('бюль-бюль-оглы', 3.1714094882536985)]"
            ]
          },
          "metadata": {},
          "execution_count": 75
        }
      ],
      "source": [
        "sorted_importances = sorted(importances, key = lambda x: -x[1])\n",
        "sorted_importances[:10]"
      ]
    },
    {
      "cell_type": "markdown",
      "metadata": {
        "id": "1QxmioaZ8id8"
      },
      "source": [
        "Посмотрим, как один из наиболее значительных токенов справится с классификацией безо всякого машинного обучения:"
      ]
    },
    {
      "cell_type": "code",
      "execution_count": 76,
      "metadata": {
        "id": "17LPHPGR8id9",
        "outputId": "b7aef057-f597-44d2-b18c-88a0cce17178",
        "colab": {
          "base_uri": "https://localhost:8080/"
        }
      },
      "outputs": [
        {
          "output_type": "stream",
          "name": "stdout",
          "text": [
            "              precision    recall  f1-score   support\n",
            "\n",
            "    negative       1.00      0.85      0.92     32755\n",
            "    positive       0.83      1.00      0.91     23954\n",
            "\n",
            "    accuracy                           0.91     56709\n",
            "   macro avg       0.91      0.92      0.91     56709\n",
            "weighted avg       0.93      0.91      0.91     56709\n",
            "\n"
          ]
        }
      ],
      "source": [
        "cool_token = ')'\n",
        "pred = ['positive' if cool_token in tweet else 'negative' for tweet in x_test]\n",
        "print(classification_report(pred, y_test))"
      ]
    },
    {
      "cell_type": "markdown",
      "metadata": {
        "id": "KIFCnn3jbxaZ"
      },
      "source": [
        "Можно видеть, что это уже позволяет достаточно хорошо классифицировать тексты."
      ]
    },
    {
      "cell_type": "markdown",
      "metadata": {
        "id": "B7VjSCog8id_"
      },
      "source": [
        "## Символьные n-граммы\n",
        "\n",
        "Теперь в качестве признаком используем, например, униграммы символов:"
      ]
    },
    {
      "cell_type": "code",
      "execution_count": 77,
      "metadata": {
        "id": "ZSO-k4wA8id_",
        "outputId": "5c1ca80f-0ec5-4fc2-e8ac-3eebf5abcca7",
        "colab": {
          "base_uri": "https://localhost:8080/"
        }
      },
      "outputs": [
        {
          "output_type": "stream",
          "name": "stderr",
          "text": [
            "/usr/local/lib/python3.10/dist-packages/sklearn/linear_model/_logistic.py:458: ConvergenceWarning: lbfgs failed to converge (status=1):\n",
            "STOP: TOTAL NO. of ITERATIONS REACHED LIMIT.\n",
            "\n",
            "Increase the number of iterations (max_iter) or scale the data as shown in:\n",
            "    https://scikit-learn.org/stable/modules/preprocessing.html\n",
            "Please also refer to the documentation for alternative solver options:\n",
            "    https://scikit-learn.org/stable/modules/linear_model.html#logistic-regression\n",
            "  n_iter_i = _check_optimize_result(\n"
          ]
        },
        {
          "output_type": "stream",
          "name": "stdout",
          "text": [
            "              precision    recall  f1-score   support\n",
            "\n",
            "    negative       0.99      1.00      1.00     27713\n",
            "    positive       1.00      0.99      1.00     28996\n",
            "\n",
            "    accuracy                           1.00     56709\n",
            "   macro avg       1.00      1.00      1.00     56709\n",
            "weighted avg       1.00      1.00      1.00     56709\n",
            "\n"
          ]
        }
      ],
      "source": [
        "vec = CountVectorizer(analyzer='char', ngram_range=(1, 1))\n",
        "bow = vec.fit_transform(x_train)\n",
        "clf = LogisticRegression(random_state=42)\n",
        "clf.fit(bow, y_train)\n",
        "pred = clf.predict(vec.transform(x_test))\n",
        "print(classification_report(pred, y_test))"
      ]
    },
    {
      "cell_type": "markdown",
      "metadata": {
        "id": "9i6JwqL-8ieE"
      },
      "source": [
        "Таким образом, становится понятно, почему на этих данных качество классификации 1. Так или иначе, на символах классифицировать тоже можно.\n",
        "\n",
        "Ещё одна замечательная особенность символьных признаков: токенизация и лемматизация не нужна, можно использовать такой подход для языков, у которых нет готовых анализаторов."
      ]
    },
    {
      "cell_type": "markdown",
      "metadata": {
        "id": "BV1B3kBybxaZ"
      },
      "source": [
        "## Итоги\n",
        "\n",
        " На этом занятии мы\n",
        "* познакомились с задачей бинарной классификации текстов.\n",
        "\n",
        "* научились строить простые признаки на основе метода \"мешка слов\" с помощью библиотеки sklearn: CountVectorizer и TfidfVectorizer.\n",
        "\n",
        "* использовали для классификации линейную модель логистической регрессии.\n",
        "\n",
        "* поняли, что многое зависит от подхода к предобработки текста и от признаков, которые используются в модели.\n",
        "\n",
        "* увидели, что в некоторых задачах важно использование каждого символа из текста, в том числе пунктуации.\n",
        "\n",
        "На следующих занятиях мы рассмотрим более сложные модели построения признаков и классификации текстов."
      ]
    }
  ],
  "metadata": {
    "kernelspec": {
      "display_name": "Python 3 (ipykernel)",
      "language": "python",
      "name": "python3"
    },
    "language_info": {
      "codemirror_mode": {
        "name": "ipython",
        "version": 3
      },
      "file_extension": ".py",
      "mimetype": "text/x-python",
      "name": "python",
      "nbconvert_exporter": "python",
      "pygments_lexer": "ipython3",
      "version": "3.10.6"
    },
    "colab": {
      "provenance": [],
      "collapsed_sections": [
        "GTJsMuTX8wjh",
        "wZA9awaI8wjy",
        "_f54Z_mabxaP",
        "nADMfeJNbxaS",
        "8ppAtTFc8icE",
        "4PTszK9h8ick",
        "ETq8X_Tb8idz",
        "B7VjSCog8id_",
        "BV1B3kBybxaZ"
      ]
    },
    "widgets": {
      "application/vnd.jupyter.widget-state+json": {
        "1a0fe2d4ccd6458d812bdb827f30c3bf": {
          "model_module": "@jupyter-widgets/controls",
          "model_name": "HBoxModel",
          "model_module_version": "1.5.0",
          "state": {
            "_dom_classes": [],
            "_model_module": "@jupyter-widgets/controls",
            "_model_module_version": "1.5.0",
            "_model_name": "HBoxModel",
            "_view_count": null,
            "_view_module": "@jupyter-widgets/controls",
            "_view_module_version": "1.5.0",
            "_view_name": "HBoxView",
            "box_style": "",
            "children": [
              "IPY_MODEL_b9b3a25044134964a7875441b391a6e0",
              "IPY_MODEL_855d3c563cc249eb92172a26c2647782",
              "IPY_MODEL_c72810f6a32c44dd8a921d7a2596caa5"
            ],
            "layout": "IPY_MODEL_050a7668321543b78ee502722dbd48d2"
          }
        },
        "b9b3a25044134964a7875441b391a6e0": {
          "model_module": "@jupyter-widgets/controls",
          "model_name": "HTMLModel",
          "model_module_version": "1.5.0",
          "state": {
            "_dom_classes": [],
            "_model_module": "@jupyter-widgets/controls",
            "_model_module_version": "1.5.0",
            "_model_name": "HTMLModel",
            "_view_count": null,
            "_view_module": "@jupyter-widgets/controls",
            "_view_module_version": "1.5.0",
            "_view_name": "HTMLView",
            "description": "",
            "description_tooltip": null,
            "layout": "IPY_MODEL_fc45042343f641aea893b90e9511818f",
            "placeholder": "​",
            "style": "IPY_MODEL_ae3f1053b7fe4a4b8324b6793a53d313",
            "value": "100%"
          }
        },
        "855d3c563cc249eb92172a26c2647782": {
          "model_module": "@jupyter-widgets/controls",
          "model_name": "FloatProgressModel",
          "model_module_version": "1.5.0",
          "state": {
            "_dom_classes": [],
            "_model_module": "@jupyter-widgets/controls",
            "_model_module_version": "1.5.0",
            "_model_name": "FloatProgressModel",
            "_view_count": null,
            "_view_module": "@jupyter-widgets/controls",
            "_view_module_version": "1.5.0",
            "_view_name": "ProgressView",
            "bar_style": "success",
            "description": "",
            "description_tooltip": null,
            "layout": "IPY_MODEL_12917c04912a42b5ac24727453b774f8",
            "max": 200,
            "min": 0,
            "orientation": "horizontal",
            "style": "IPY_MODEL_bb28f10e63824f2093ff57f465041828",
            "value": 200
          }
        },
        "c72810f6a32c44dd8a921d7a2596caa5": {
          "model_module": "@jupyter-widgets/controls",
          "model_name": "HTMLModel",
          "model_module_version": "1.5.0",
          "state": {
            "_dom_classes": [],
            "_model_module": "@jupyter-widgets/controls",
            "_model_module_version": "1.5.0",
            "_model_name": "HTMLModel",
            "_view_count": null,
            "_view_module": "@jupyter-widgets/controls",
            "_view_module_version": "1.5.0",
            "_view_name": "HTMLView",
            "description": "",
            "description_tooltip": null,
            "layout": "IPY_MODEL_d581a58b238e4222af0728620163f444",
            "placeholder": "​",
            "style": "IPY_MODEL_d017b3001eb849b19069338c9825d87b",
            "value": " 200/200 [00:09&lt;00:00, 22.32it/s]"
          }
        },
        "050a7668321543b78ee502722dbd48d2": {
          "model_module": "@jupyter-widgets/base",
          "model_name": "LayoutModel",
          "model_module_version": "1.2.0",
          "state": {
            "_model_module": "@jupyter-widgets/base",
            "_model_module_version": "1.2.0",
            "_model_name": "LayoutModel",
            "_view_count": null,
            "_view_module": "@jupyter-widgets/base",
            "_view_module_version": "1.2.0",
            "_view_name": "LayoutView",
            "align_content": null,
            "align_items": null,
            "align_self": null,
            "border": null,
            "bottom": null,
            "display": null,
            "flex": null,
            "flex_flow": null,
            "grid_area": null,
            "grid_auto_columns": null,
            "grid_auto_flow": null,
            "grid_auto_rows": null,
            "grid_column": null,
            "grid_gap": null,
            "grid_row": null,
            "grid_template_areas": null,
            "grid_template_columns": null,
            "grid_template_rows": null,
            "height": null,
            "justify_content": null,
            "justify_items": null,
            "left": null,
            "margin": null,
            "max_height": null,
            "max_width": null,
            "min_height": null,
            "min_width": null,
            "object_fit": null,
            "object_position": null,
            "order": null,
            "overflow": null,
            "overflow_x": null,
            "overflow_y": null,
            "padding": null,
            "right": null,
            "top": null,
            "visibility": null,
            "width": null
          }
        },
        "fc45042343f641aea893b90e9511818f": {
          "model_module": "@jupyter-widgets/base",
          "model_name": "LayoutModel",
          "model_module_version": "1.2.0",
          "state": {
            "_model_module": "@jupyter-widgets/base",
            "_model_module_version": "1.2.0",
            "_model_name": "LayoutModel",
            "_view_count": null,
            "_view_module": "@jupyter-widgets/base",
            "_view_module_version": "1.2.0",
            "_view_name": "LayoutView",
            "align_content": null,
            "align_items": null,
            "align_self": null,
            "border": null,
            "bottom": null,
            "display": null,
            "flex": null,
            "flex_flow": null,
            "grid_area": null,
            "grid_auto_columns": null,
            "grid_auto_flow": null,
            "grid_auto_rows": null,
            "grid_column": null,
            "grid_gap": null,
            "grid_row": null,
            "grid_template_areas": null,
            "grid_template_columns": null,
            "grid_template_rows": null,
            "height": null,
            "justify_content": null,
            "justify_items": null,
            "left": null,
            "margin": null,
            "max_height": null,
            "max_width": null,
            "min_height": null,
            "min_width": null,
            "object_fit": null,
            "object_position": null,
            "order": null,
            "overflow": null,
            "overflow_x": null,
            "overflow_y": null,
            "padding": null,
            "right": null,
            "top": null,
            "visibility": null,
            "width": null
          }
        },
        "ae3f1053b7fe4a4b8324b6793a53d313": {
          "model_module": "@jupyter-widgets/controls",
          "model_name": "DescriptionStyleModel",
          "model_module_version": "1.5.0",
          "state": {
            "_model_module": "@jupyter-widgets/controls",
            "_model_module_version": "1.5.0",
            "_model_name": "DescriptionStyleModel",
            "_view_count": null,
            "_view_module": "@jupyter-widgets/base",
            "_view_module_version": "1.2.0",
            "_view_name": "StyleView",
            "description_width": ""
          }
        },
        "12917c04912a42b5ac24727453b774f8": {
          "model_module": "@jupyter-widgets/base",
          "model_name": "LayoutModel",
          "model_module_version": "1.2.0",
          "state": {
            "_model_module": "@jupyter-widgets/base",
            "_model_module_version": "1.2.0",
            "_model_name": "LayoutModel",
            "_view_count": null,
            "_view_module": "@jupyter-widgets/base",
            "_view_module_version": "1.2.0",
            "_view_name": "LayoutView",
            "align_content": null,
            "align_items": null,
            "align_self": null,
            "border": null,
            "bottom": null,
            "display": null,
            "flex": null,
            "flex_flow": null,
            "grid_area": null,
            "grid_auto_columns": null,
            "grid_auto_flow": null,
            "grid_auto_rows": null,
            "grid_column": null,
            "grid_gap": null,
            "grid_row": null,
            "grid_template_areas": null,
            "grid_template_columns": null,
            "grid_template_rows": null,
            "height": null,
            "justify_content": null,
            "justify_items": null,
            "left": null,
            "margin": null,
            "max_height": null,
            "max_width": null,
            "min_height": null,
            "min_width": null,
            "object_fit": null,
            "object_position": null,
            "order": null,
            "overflow": null,
            "overflow_x": null,
            "overflow_y": null,
            "padding": null,
            "right": null,
            "top": null,
            "visibility": null,
            "width": null
          }
        },
        "bb28f10e63824f2093ff57f465041828": {
          "model_module": "@jupyter-widgets/controls",
          "model_name": "ProgressStyleModel",
          "model_module_version": "1.5.0",
          "state": {
            "_model_module": "@jupyter-widgets/controls",
            "_model_module_version": "1.5.0",
            "_model_name": "ProgressStyleModel",
            "_view_count": null,
            "_view_module": "@jupyter-widgets/base",
            "_view_module_version": "1.2.0",
            "_view_name": "StyleView",
            "bar_color": null,
            "description_width": ""
          }
        },
        "d581a58b238e4222af0728620163f444": {
          "model_module": "@jupyter-widgets/base",
          "model_name": "LayoutModel",
          "model_module_version": "1.2.0",
          "state": {
            "_model_module": "@jupyter-widgets/base",
            "_model_module_version": "1.2.0",
            "_model_name": "LayoutModel",
            "_view_count": null,
            "_view_module": "@jupyter-widgets/base",
            "_view_module_version": "1.2.0",
            "_view_name": "LayoutView",
            "align_content": null,
            "align_items": null,
            "align_self": null,
            "border": null,
            "bottom": null,
            "display": null,
            "flex": null,
            "flex_flow": null,
            "grid_area": null,
            "grid_auto_columns": null,
            "grid_auto_flow": null,
            "grid_auto_rows": null,
            "grid_column": null,
            "grid_gap": null,
            "grid_row": null,
            "grid_template_areas": null,
            "grid_template_columns": null,
            "grid_template_rows": null,
            "height": null,
            "justify_content": null,
            "justify_items": null,
            "left": null,
            "margin": null,
            "max_height": null,
            "max_width": null,
            "min_height": null,
            "min_width": null,
            "object_fit": null,
            "object_position": null,
            "order": null,
            "overflow": null,
            "overflow_x": null,
            "overflow_y": null,
            "padding": null,
            "right": null,
            "top": null,
            "visibility": null,
            "width": null
          }
        },
        "d017b3001eb849b19069338c9825d87b": {
          "model_module": "@jupyter-widgets/controls",
          "model_name": "DescriptionStyleModel",
          "model_module_version": "1.5.0",
          "state": {
            "_model_module": "@jupyter-widgets/controls",
            "_model_module_version": "1.5.0",
            "_model_name": "DescriptionStyleModel",
            "_view_count": null,
            "_view_module": "@jupyter-widgets/base",
            "_view_module_version": "1.2.0",
            "_view_name": "StyleView",
            "description_width": ""
          }
        }
      }
    }
  },
  "nbformat": 4,
  "nbformat_minor": 0
}